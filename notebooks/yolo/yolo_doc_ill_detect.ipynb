{
  "cells": [
    {
      "cell_type": "code",
      "execution_count": null,
      "metadata": {
        "colab": {
          "base_uri": "https://localhost:8080/"
        },
        "id": "uldP8y__NqDo",
        "outputId": "32ce90a9-0c51-49e8-8058-99853885db1c"
      },
      "outputs": [
        {
          "name": "stdout",
          "output_type": "stream",
          "text": [
            "Mounted at /content/drive\n"
          ]
        }
      ],
      "source": [
        "from google.colab import drive\n",
        "drive.mount('/content/drive')"
      ]
    },
    {
      "cell_type": "code",
      "execution_count": null,
      "metadata": {
        "id": "1e3340de"
      },
      "outputs": [],
      "source": [
        "import sys\n",
        "from pathlib import Path\n",
        "\n",
        "#src = str(Path.cwd().resolve().parents[1]/ 'src')\n",
        "#src = str(Path.cwd().resolve().parents[2]/ 'src')\n",
        "src = '/content/drive/MyDrive/dataHN/src'\n",
        "sys.path.append(src)\n",
        "\n",
        "# Now you can import your paths\n",
        "from config.paths import ROOT, DATA, EXPERIMENTS, DOC_IMGS, CLEANED, PROCESSED, METADATA\n"
      ]
    },
    {
      "cell_type": "code",
      "execution_count": null,
      "metadata": {
        "id": "dxDOZuyiXgOm"
      },
      "outputs": [],
      "source": [
        "ROOT = '/content/drive/MyDrive/dataHN'\n",
        "DOC_IMGS = '/content/drive/MyDrive/dataHN/data/raw_selected/doc_imgs'\n",
        "EXPERIMENTS = '/content/drive/MyDrive/dataHN/experiments'\n",
        "DATA = '/content/drive/MyDrive/dataHN/data'\n",
        "CLEANED = '/content/drive/MyDrive/dataHN/data/cleaned'\n",
        "PROCESSED = '/content/drive/MyDrive/dataHN/data/processed'\n",
        "METADATA = '/content/drive/MyDrive/dataHN/metadata'"
      ]
    },
    {
      "cell_type": "code",
      "execution_count": null,
      "metadata": {
        "colab": {
          "base_uri": "https://localhost:8080/"
        },
        "collapsed": true,
        "id": "4ZwhVg8uOD4U",
        "outputId": "58f6fada-a309-460f-866f-6b953eb9d278"
      },
      "outputs": [
        {
          "name": "stdout",
          "output_type": "stream",
          "text": [
            "Collecting ultralytics\n",
            "  Downloading ultralytics-8.3.184-py3-none-any.whl.metadata (37 kB)\n",
            "Requirement already satisfied: numpy>=1.23.0 in /usr/local/lib/python3.12/dist-packages (from ultralytics) (2.0.2)\n",
            "Requirement already satisfied: matplotlib>=3.3.0 in /usr/local/lib/python3.12/dist-packages (from ultralytics) (3.10.0)\n",
            "Requirement already satisfied: opencv-python>=4.6.0 in /usr/local/lib/python3.12/dist-packages (from ultralytics) (4.12.0.88)\n",
            "Requirement already satisfied: pillow>=7.1.2 in /usr/local/lib/python3.12/dist-packages (from ultralytics) (11.3.0)\n",
            "Requirement already satisfied: pyyaml>=5.3.1 in /usr/local/lib/python3.12/dist-packages (from ultralytics) (6.0.2)\n",
            "Requirement already satisfied: requests>=2.23.0 in /usr/local/lib/python3.12/dist-packages (from ultralytics) (2.32.4)\n",
            "Requirement already satisfied: scipy>=1.4.1 in /usr/local/lib/python3.12/dist-packages (from ultralytics) (1.16.1)\n",
            "Requirement already satisfied: torch>=1.8.0 in /usr/local/lib/python3.12/dist-packages (from ultralytics) (2.8.0+cu126)\n",
            "Requirement already satisfied: torchvision>=0.9.0 in /usr/local/lib/python3.12/dist-packages (from ultralytics) (0.23.0+cu126)\n",
            "Requirement already satisfied: tqdm>=4.64.0 in /usr/local/lib/python3.12/dist-packages (from ultralytics) (4.67.1)\n",
            "Requirement already satisfied: psutil in /usr/local/lib/python3.12/dist-packages (from ultralytics) (5.9.5)\n",
            "Requirement already satisfied: py-cpuinfo in /usr/local/lib/python3.12/dist-packages (from ultralytics) (9.0.0)\n",
            "Requirement already satisfied: pandas>=1.1.4 in /usr/local/lib/python3.12/dist-packages (from ultralytics) (2.2.2)\n",
            "Collecting ultralytics-thop>=2.0.0 (from ultralytics)\n",
            "  Downloading ultralytics_thop-2.0.16-py3-none-any.whl.metadata (14 kB)\n",
            "Requirement already satisfied: contourpy>=1.0.1 in /usr/local/lib/python3.12/dist-packages (from matplotlib>=3.3.0->ultralytics) (1.3.3)\n",
            "Requirement already satisfied: cycler>=0.10 in /usr/local/lib/python3.12/dist-packages (from matplotlib>=3.3.0->ultralytics) (0.12.1)\n",
            "Requirement already satisfied: fonttools>=4.22.0 in /usr/local/lib/python3.12/dist-packages (from matplotlib>=3.3.0->ultralytics) (4.59.1)\n",
            "Requirement already satisfied: kiwisolver>=1.3.1 in /usr/local/lib/python3.12/dist-packages (from matplotlib>=3.3.0->ultralytics) (1.4.9)\n",
            "Requirement already satisfied: packaging>=20.0 in /usr/local/lib/python3.12/dist-packages (from matplotlib>=3.3.0->ultralytics) (25.0)\n",
            "Requirement already satisfied: pyparsing>=2.3.1 in /usr/local/lib/python3.12/dist-packages (from matplotlib>=3.3.0->ultralytics) (3.2.3)\n",
            "Requirement already satisfied: python-dateutil>=2.7 in /usr/local/lib/python3.12/dist-packages (from matplotlib>=3.3.0->ultralytics) (2.9.0.post0)\n",
            "Requirement already satisfied: pytz>=2020.1 in /usr/local/lib/python3.12/dist-packages (from pandas>=1.1.4->ultralytics) (2025.2)\n",
            "Requirement already satisfied: tzdata>=2022.7 in /usr/local/lib/python3.12/dist-packages (from pandas>=1.1.4->ultralytics) (2025.2)\n",
            "Requirement already satisfied: charset_normalizer<4,>=2 in /usr/local/lib/python3.12/dist-packages (from requests>=2.23.0->ultralytics) (3.4.3)\n",
            "Requirement already satisfied: idna<4,>=2.5 in /usr/local/lib/python3.12/dist-packages (from requests>=2.23.0->ultralytics) (3.10)\n",
            "Requirement already satisfied: urllib3<3,>=1.21.1 in /usr/local/lib/python3.12/dist-packages (from requests>=2.23.0->ultralytics) (2.5.0)\n",
            "Requirement already satisfied: certifi>=2017.4.17 in /usr/local/lib/python3.12/dist-packages (from requests>=2.23.0->ultralytics) (2025.8.3)\n",
            "Requirement already satisfied: filelock in /usr/local/lib/python3.12/dist-packages (from torch>=1.8.0->ultralytics) (3.19.1)\n",
            "Requirement already satisfied: typing-extensions>=4.10.0 in /usr/local/lib/python3.12/dist-packages (from torch>=1.8.0->ultralytics) (4.14.1)\n",
            "Requirement already satisfied: setuptools in /usr/local/lib/python3.12/dist-packages (from torch>=1.8.0->ultralytics) (75.2.0)\n",
            "Requirement already satisfied: sympy>=1.13.3 in /usr/local/lib/python3.12/dist-packages (from torch>=1.8.0->ultralytics) (1.13.3)\n",
            "Requirement already satisfied: networkx in /usr/local/lib/python3.12/dist-packages (from torch>=1.8.0->ultralytics) (3.5)\n",
            "Requirement already satisfied: jinja2 in /usr/local/lib/python3.12/dist-packages (from torch>=1.8.0->ultralytics) (3.1.6)\n",
            "Requirement already satisfied: fsspec in /usr/local/lib/python3.12/dist-packages (from torch>=1.8.0->ultralytics) (2025.3.0)\n",
            "Requirement already satisfied: nvidia-cuda-nvrtc-cu12==12.6.77 in /usr/local/lib/python3.12/dist-packages (from torch>=1.8.0->ultralytics) (12.6.77)\n",
            "Requirement already satisfied: nvidia-cuda-runtime-cu12==12.6.77 in /usr/local/lib/python3.12/dist-packages (from torch>=1.8.0->ultralytics) (12.6.77)\n",
            "Requirement already satisfied: nvidia-cuda-cupti-cu12==12.6.80 in /usr/local/lib/python3.12/dist-packages (from torch>=1.8.0->ultralytics) (12.6.80)\n",
            "Requirement already satisfied: nvidia-cudnn-cu12==9.10.2.21 in /usr/local/lib/python3.12/dist-packages (from torch>=1.8.0->ultralytics) (9.10.2.21)\n",
            "Requirement already satisfied: nvidia-cublas-cu12==12.6.4.1 in /usr/local/lib/python3.12/dist-packages (from torch>=1.8.0->ultralytics) (12.6.4.1)\n",
            "Requirement already satisfied: nvidia-cufft-cu12==11.3.0.4 in /usr/local/lib/python3.12/dist-packages (from torch>=1.8.0->ultralytics) (11.3.0.4)\n",
            "Requirement already satisfied: nvidia-curand-cu12==10.3.7.77 in /usr/local/lib/python3.12/dist-packages (from torch>=1.8.0->ultralytics) (10.3.7.77)\n",
            "Requirement already satisfied: nvidia-cusolver-cu12==11.7.1.2 in /usr/local/lib/python3.12/dist-packages (from torch>=1.8.0->ultralytics) (11.7.1.2)\n",
            "Requirement already satisfied: nvidia-cusparse-cu12==12.5.4.2 in /usr/local/lib/python3.12/dist-packages (from torch>=1.8.0->ultralytics) (12.5.4.2)\n",
            "Requirement already satisfied: nvidia-cusparselt-cu12==0.7.1 in /usr/local/lib/python3.12/dist-packages (from torch>=1.8.0->ultralytics) (0.7.1)\n",
            "Requirement already satisfied: nvidia-nccl-cu12==2.27.3 in /usr/local/lib/python3.12/dist-packages (from torch>=1.8.0->ultralytics) (2.27.3)\n",
            "Requirement already satisfied: nvidia-nvtx-cu12==12.6.77 in /usr/local/lib/python3.12/dist-packages (from torch>=1.8.0->ultralytics) (12.6.77)\n",
            "Requirement already satisfied: nvidia-nvjitlink-cu12==12.6.85 in /usr/local/lib/python3.12/dist-packages (from torch>=1.8.0->ultralytics) (12.6.85)\n",
            "Requirement already satisfied: nvidia-cufile-cu12==1.11.1.6 in /usr/local/lib/python3.12/dist-packages (from torch>=1.8.0->ultralytics) (1.11.1.6)\n",
            "Requirement already satisfied: triton==3.4.0 in /usr/local/lib/python3.12/dist-packages (from torch>=1.8.0->ultralytics) (3.4.0)\n",
            "Requirement already satisfied: six>=1.5 in /usr/local/lib/python3.12/dist-packages (from python-dateutil>=2.7->matplotlib>=3.3.0->ultralytics) (1.17.0)\n",
            "Requirement already satisfied: mpmath<1.4,>=1.1.0 in /usr/local/lib/python3.12/dist-packages (from sympy>=1.13.3->torch>=1.8.0->ultralytics) (1.3.0)\n",
            "Requirement already satisfied: MarkupSafe>=2.0 in /usr/local/lib/python3.12/dist-packages (from jinja2->torch>=1.8.0->ultralytics) (3.0.2)\n",
            "Downloading ultralytics-8.3.184-py3-none-any.whl (1.1 MB)\n",
            "\u001b[2K   \u001b[90m━━━━━━━━━━━━━━━━━━━━━━━━━━━━━━━━━━━━━━━━\u001b[0m \u001b[32m1.1/1.1 MB\u001b[0m \u001b[31m28.2 MB/s\u001b[0m eta \u001b[36m0:00:00\u001b[0m\n",
            "\u001b[?25hDownloading ultralytics_thop-2.0.16-py3-none-any.whl (28 kB)\n",
            "Installing collected packages: ultralytics-thop, ultralytics\n",
            "Successfully installed ultralytics-8.3.184 ultralytics-thop-2.0.16\n"
          ]
        }
      ],
      "source": [
        "pip install ultralytics"
      ]
    },
    {
      "cell_type": "markdown",
      "metadata": {
        "id": "f7fd4f74"
      },
      "source": [
        "# Préparation des données"
      ]
    },
    {
      "cell_type": "code",
      "execution_count": null,
      "metadata": {
        "id": "52130a5c"
      },
      "outputs": [],
      "source": [
        "from ultralytics import YOLO\n",
        "import os\n",
        "import shutil\n",
        "from sklearn.model_selection import train_test_split\n",
        "import numpy as np\n",
        "from tqdm import tqdm\n",
        "import torch\n",
        "import pandas as pd"
      ]
    },
    {
      "cell_type": "code",
      "execution_count": null,
      "metadata": {
        "id": "bNOEdDkkZiz_"
      },
      "outputs": [],
      "source": [
        "# YOLO experiment dir\n",
        "yolo_dir = os.path.join(EXPERIMENTS, 'yolo_doc_ill_detect')\n",
        "data_dir = os.path.join(yolo_dir, 'data')\n",
        "\n",
        "train_dir = os.path.join(data_dir, 'train')\n",
        "val_dir = os.path.join(data_dir, 'val')\n",
        "os.makedirs(train_dir, exist_ok = True)\n",
        "os.makedirs(val_dir, exist_ok = True)"
      ]
    },
    {
      "cell_type": "code",
      "execution_count": null,
      "metadata": {
        "id": "dc32a70d"
      },
      "outputs": [],
      "source": [
        "# Données :images et annotations de documents non filtrés, avec pages blanches\n",
        "# raw_labels_dir = os.path.join(yolo_dir, 'dataset','labels')\n",
        "# raw_training_img_dir = os.path.join(yolo_dir, 'dataset','img')\n",
        "labels_dir = os.path.join(yolo_dir, 'dataset_1024','labels')\n",
        "training_img_dir = os.path.join(yolo_dir, 'dataset_1024','img') # img redimensionnées pour execution sur colab\n",
        "\n"
      ]
    },
    {
      "cell_type": "code",
      "execution_count": null,
      "metadata": {
        "id": "bDPWu2vTSj5A"
      },
      "outputs": [],
      "source": [
        "liste_img_data= [os.path.join(training_img_dir, img) for img in os.listdir(training_img_dir)]\n",
        "liste_labels_data= [os.path.join(labels_dir, label) for label in os.listdir(labels_dir)]\n"
      ]
    },
    {
      "cell_type": "markdown",
      "metadata": {
        "id": "SyVeCCQ0d1S1"
      },
      "source": [
        "### Split"
      ]
    },
    {
      "cell_type": "code",
      "execution_count": null,
      "metadata": {
        "id": "JmbseZMEs7ny"
      },
      "outputs": [],
      "source": [
        "image_label = list(zip(liste_img_data, liste_labels_data))"
      ]
    },
    {
      "cell_type": "code",
      "execution_count": null,
      "metadata": {
        "id": "-zDhzGyOs7ny"
      },
      "outputs": [],
      "source": [
        "train_pair, val_pair = train_test_split(image_label, test_size=0.2, random_state=42)"
      ]
    },
    {
      "cell_type": "code",
      "execution_count": null,
      "metadata": {
        "id": "Ry7mpUHJs7ny"
      },
      "outputs": [],
      "source": [
        "def copy_files(pairs, dest_img_dir, dest_labels_dir):\n",
        "    for img_path, label_path in pairs:\n",
        "        shutil.copy(img_path, dest_img_dir)\n",
        "\n",
        "        if os.path.exists(label_path):\n",
        "            shutil.copy(label_path, dest_labels_dir)\n",
        "        else:\n",
        "            print(f\"Annotation manquante  : {label_path}\")"
      ]
    },
    {
      "cell_type": "markdown",
      "metadata": {
        "id": "Y-Bc2PLIeSxw"
      },
      "source": [
        "### Configurer stockage local colab"
      ]
    },
    {
      "cell_type": "code",
      "execution_count": null,
      "metadata": {
        "id": "1nIyZNRgeXKw"
      },
      "outputs": [],
      "source": [
        "train_dir_colab = '/content/data/train'\n",
        "val_dir_colab = '/content/data/val'\n",
        "\n",
        "train_dir = train_dir_colab\n",
        "val_dir = val_dir_colab\n",
        "os.makedirs(os.path.join(train_dir, 'images'), exist_ok = True)\n",
        "os.makedirs(os.path.join(train_dir, 'labels'), exist_ok = True)\n",
        "\n",
        "os.makedirs(os.path.join(val_dir, 'images'), exist_ok = True)\n",
        "os.makedirs(os.path.join(val_dir, 'labels'), exist_ok = True)"
      ]
    },
    {
      "cell_type": "code",
      "execution_count": null,
      "metadata": {
        "id": "11FugD3yiS09"
      },
      "outputs": [],
      "source": [
        "training_dir = os.path.join(yolo_dir, 'training')\n",
        "config = os.path.join(training_dir, 'config.yaml')\n",
        "config_colab = '/content/data/config.yaml'\n",
        "shutil.copy(config, config_colab)\n",
        "config=config_colab"
      ]
    },
    {
      "cell_type": "markdown",
      "metadata": {
        "id": "eYeO8outgFMQ"
      },
      "source": [
        "### Déplacer data vers dir train et val"
      ]
    },
    {
      "cell_type": "code",
      "execution_count": null,
      "metadata": {
        "id": "3oBlhqMSs7nz"
      },
      "outputs": [],
      "source": [
        "copy_files(train_pair, os.path.join(train_dir, \"images\"), os.path.join(train_dir, \"labels\"))"
      ]
    },
    {
      "cell_type": "code",
      "execution_count": null,
      "metadata": {
        "id": "-JQ48Jo3s7nz"
      },
      "outputs": [],
      "source": [
        "copy_files(val_pair, os.path.join(val_dir, \"images\"), os.path.join(val_dir, \"labels\"))"
      ]
    },
    {
      "cell_type": "code",
      "execution_count": null,
      "metadata": {
        "colab": {
          "base_uri": "https://localhost:8080/"
        },
        "id": "pGpMfNSQiEzP",
        "outputId": "b90423a6-b914-4fd8-a5c9-7c96b67a9e79"
      },
      "outputs": [
        {
          "name": "stdout",
          "output_type": "stream",
          "text": [
            "423\n",
            "423\n"
          ]
        }
      ],
      "source": [
        "print(len(os.listdir(os.path.join(train_dir, \"images\"))+os.listdir(os.path.join(val_dir, \"images\"))))\n",
        "print(len(os.listdir(os.path.join(train_dir, \"labels\"))+os.listdir(os.path.join(val_dir, \"labels\"))))"
      ]
    },
    {
      "cell_type": "markdown",
      "metadata": {
        "id": "b7d2d9ed"
      },
      "source": [
        "# Entraînement YOLO"
      ]
    },
    {
      "cell_type": "markdown",
      "metadata": {
        "id": "315ea0c8"
      },
      "source": [
        "## Config"
      ]
    },
    {
      "cell_type": "code",
      "execution_count": null,
      "metadata": {
        "id": "2e287906"
      },
      "outputs": [],
      "source": [
        "\n",
        "model_name = 'yolo11m.pt'\n",
        "num_training = 8\n",
        "training_dir = os.path.join(yolo_dir, 'training')\n",
        "\n",
        "project = os.path.join(training_dir, 'runs')\n",
        "#name = f'run{num_training}_{model_name.split(\".\")[0]}'\n"
      ]
    },
    {
      "cell_type": "code",
      "execution_count": null,
      "metadata": {
        "id": "onUp3_5C3axj"
      },
      "outputs": [],
      "source": [
        "name = f'run{num_training}_{model_name.split(\".\")[0]}_1024'\n"
      ]
    },
    {
      "cell_type": "code",
      "execution_count": null,
      "metadata": {
        "id": "170f6510"
      },
      "outputs": [],
      "source": [
        "#config = os.path.join(training_dir, 'config.yaml')\n",
        "epochs = 70\n",
        "batch = 16\n",
        "dropout = 0.1\n",
        "imgsz=640"
      ]
    },
    {
      "cell_type": "markdown",
      "metadata": {
        "id": "2-MlgEQCyEMC"
      },
      "source": [
        "### Config dir data sur espace de stockage Colab pour accélere entraînement"
      ]
    },
    {
      "cell_type": "code",
      "execution_count": null,
      "metadata": {
        "id": "DwVzYy-sdKHr"
      },
      "outputs": [],
      "source": []
    },
    {
      "cell_type": "markdown",
      "metadata": {
        "id": "bfdb9469"
      },
      "source": [
        "## Entraînement"
      ]
    },
    {
      "cell_type": "code",
      "execution_count": null,
      "metadata": {
        "colab": {
          "base_uri": "https://localhost:8080/"
        },
        "collapsed": true,
        "id": "d37a3ffa",
        "outputId": "3e66d986-360b-41b9-b5dc-fc37b3eb0e71"
      },
      "outputs": [
        {
          "name": "stderr",
          "output_type": "stream",
          "text": [
            "Downloading https://github.com/ultralytics/assets/releases/download/v8.3.0/yolo11m.pt to 'yolo11m.pt': 100%|██████████| 38.8M/38.8M [00:00<00:00, 113MB/s]\n"
          ]
        },
        {
          "name": "stdout",
          "output_type": "stream",
          "text": [
            "Ultralytics 8.3.179 🚀 Python-3.11.13 torch-2.6.0+cu124 CUDA:0 (Tesla T4, 15095MiB)\n",
            "\u001b[34m\u001b[1mengine/trainer: \u001b[0magnostic_nms=False, amp=True, augment=False, auto_augment=randaugment, batch=16, bgr=0.0, box=7.5, cache=False, cfg=None, classes=None, close_mosaic=10, cls=0.5, conf=None, copy_paste=0.0, copy_paste_mode=flip, cos_lr=False, cutmix=0.0, data=/content/data/config.yaml, degrees=0.0, deterministic=True, device=None, dfl=1.5, dnn=False, dropout=0.1, dynamic=False, embed=None, epochs=70, erasing=0.4, exist_ok=False, fliplr=0.5, flipud=0.0, format=torchscript, fraction=1.0, freeze=None, half=False, hsv_h=0.015, hsv_s=0.7, hsv_v=0.4, imgsz=640, int8=False, iou=0.7, keras=False, kobj=1.0, line_width=None, lr0=0.01, lrf=0.01, mask_ratio=4, max_det=300, mixup=0.0, mode=train, model=yolo11m.pt, momentum=0.937, mosaic=1.0, multi_scale=False, name=run8_yolo11m_1024, nbs=64, nms=False, opset=None, optimize=False, optimizer=auto, overlap_mask=True, patience=100, perspective=0.0, plots=True, pose=12.0, pretrained=True, profile=False, project=/content/drive/MyDrive/dataHN/experiments/yolo_doc_ill_detect/training/runs, rect=False, resume=False, retina_masks=False, save=True, save_conf=False, save_crop=False, save_dir=/content/drive/MyDrive/dataHN/experiments/yolo_doc_ill_detect/training/runs/run8_yolo11m_1024, save_frames=False, save_json=False, save_period=-1, save_txt=False, scale=0.5, seed=0, shear=0.0, show=False, show_boxes=True, show_conf=True, show_labels=True, simplify=True, single_cls=False, source=None, split=val, stream_buffer=False, task=detect, time=None, tracker=botsort.yaml, translate=0.1, val=True, verbose=True, vid_stride=1, visualize=False, warmup_bias_lr=0.1, warmup_epochs=3.0, warmup_momentum=0.8, weight_decay=0.0005, workers=8, workspace=None\n"
          ]
        },
        {
          "name": "stderr",
          "output_type": "stream",
          "text": [
            "Downloading https://ultralytics.com/assets/Arial.ttf to '/root/.config/Ultralytics/Arial.ttf': 100%|██████████| 755k/755k [00:00<00:00, 54.6MB/s]"
          ]
        },
        {
          "name": "stdout",
          "output_type": "stream",
          "text": [
            "Overriding model.yaml nc=80 with nc=1\n",
            "\n",
            "                   from  n    params  module                                       arguments                     \n",
            "  0                  -1  1      1856  ultralytics.nn.modules.conv.Conv             [3, 64, 3, 2]                 \n",
            "  1                  -1  1     73984  ultralytics.nn.modules.conv.Conv             [64, 128, 3, 2]               \n",
            "  2                  -1  1    111872  ultralytics.nn.modules.block.C3k2            [128, 256, 1, True, 0.25]     \n",
            "  3                  -1  1    590336  ultralytics.nn.modules.conv.Conv             [256, 256, 3, 2]              \n",
            "  4                  -1  1    444928  ultralytics.nn.modules.block.C3k2            [256, 512, 1, True, 0.25]     \n",
            "  5                  -1  1   2360320  ultralytics.nn.modules.conv.Conv             [512, 512, 3, 2]              \n",
            "  6                  -1  1   1380352  ultralytics.nn.modules.block.C3k2            [512, 512, 1, True]           \n",
            "  7                  -1  1   2360320  ultralytics.nn.modules.conv.Conv             [512, 512, 3, 2]              \n",
            "  8                  -1  1   1380352  ultralytics.nn.modules.block.C3k2            [512, 512, 1, True]           \n",
            "  9                  -1  1    656896  ultralytics.nn.modules.block.SPPF            [512, 512, 5]                 \n",
            " 10                  -1  1    990976  ultralytics.nn.modules.block.C2PSA           [512, 512, 1]                 \n",
            " 11                  -1  1         0  torch.nn.modules.upsampling.Upsample         [None, 2, 'nearest']          \n",
            " 12             [-1, 6]  1         0  ultralytics.nn.modules.conv.Concat           [1]                           \n"
          ]
        },
        {
          "name": "stderr",
          "output_type": "stream",
          "text": [
            "\n"
          ]
        },
        {
          "name": "stdout",
          "output_type": "stream",
          "text": [
            " 13                  -1  1   1642496  ultralytics.nn.modules.block.C3k2            [1024, 512, 1, True]          \n",
            " 14                  -1  1         0  torch.nn.modules.upsampling.Upsample         [None, 2, 'nearest']          \n",
            " 15             [-1, 4]  1         0  ultralytics.nn.modules.conv.Concat           [1]                           \n",
            " 16                  -1  1    542720  ultralytics.nn.modules.block.C3k2            [1024, 256, 1, True]          \n",
            " 17                  -1  1    590336  ultralytics.nn.modules.conv.Conv             [256, 256, 3, 2]              \n",
            " 18            [-1, 13]  1         0  ultralytics.nn.modules.conv.Concat           [1]                           \n",
            " 19                  -1  1   1511424  ultralytics.nn.modules.block.C3k2            [768, 512, 1, True]           \n",
            " 20                  -1  1   2360320  ultralytics.nn.modules.conv.Conv             [512, 512, 3, 2]              \n",
            " 21            [-1, 10]  1         0  ultralytics.nn.modules.conv.Concat           [1]                           \n",
            " 22                  -1  1   1642496  ultralytics.nn.modules.block.C3k2            [1024, 512, 1, True]          \n",
            " 23        [16, 19, 22]  1   1411795  ultralytics.nn.modules.head.Detect           [1, [256, 512, 512]]          \n",
            "YOLO11m summary: 231 layers, 20,053,779 parameters, 20,053,763 gradients, 68.2 GFLOPs\n",
            "\n",
            "Transferred 643/649 items from pretrained weights\n",
            "Freezing layer 'model.23.dfl.conv.weight'\n",
            "\u001b[34m\u001b[1mAMP: \u001b[0mrunning Automatic Mixed Precision (AMP) checks...\n"
          ]
        },
        {
          "name": "stderr",
          "output_type": "stream",
          "text": [
            "Downloading https://github.com/ultralytics/assets/releases/download/v8.3.0/yolo11n.pt to 'yolo11n.pt': 100%|██████████| 5.35M/5.35M [00:00<00:00, 52.2MB/s]\n"
          ]
        },
        {
          "name": "stdout",
          "output_type": "stream",
          "text": [
            "\u001b[34m\u001b[1mAMP: \u001b[0mchecks passed ✅\n",
            "\u001b[34m\u001b[1mtrain: \u001b[0mFast image access ✅ (ping: 0.0±0.0 ms, read: 1838.7±765.7 MB/s, size: 131.8 KB)\n"
          ]
        },
        {
          "name": "stderr",
          "output_type": "stream",
          "text": [
            "\u001b[34m\u001b[1mtrain: \u001b[0mScanning /content/data/train/labels... 322 images, 21 backgrounds, 0 corrupt: 100%|██████████| 338/338 [00:00<00:00, 2271.35it/s]"
          ]
        },
        {
          "name": "stdout",
          "output_type": "stream",
          "text": [
            "\u001b[34m\u001b[1mtrain: \u001b[0mNew cache created: /content/data/train/labels.cache\n"
          ]
        },
        {
          "name": "stderr",
          "output_type": "stream",
          "text": [
            "\n"
          ]
        },
        {
          "name": "stdout",
          "output_type": "stream",
          "text": [
            "\u001b[34m\u001b[1malbumentations: \u001b[0mBlur(p=0.01, blur_limit=(3, 7)), MedianBlur(p=0.01, blur_limit=(3, 7)), ToGray(p=0.01, method='weighted_average', num_output_channels=3), CLAHE(p=0.01, clip_limit=(1.0, 4.0), tile_grid_size=(8, 8))\n",
            "\u001b[34m\u001b[1mval: \u001b[0mFast image access ✅ (ping: 0.0±0.0 ms, read: 1254.1±803.6 MB/s, size: 206.7 KB)\n"
          ]
        },
        {
          "name": "stderr",
          "output_type": "stream",
          "text": [
            "\u001b[34m\u001b[1mval: \u001b[0mScanning /content/data/val/labels... 69 images, 17 backgrounds, 0 corrupt: 100%|██████████| 85/85 [00:00<00:00, 1884.47it/s]"
          ]
        },
        {
          "name": "stdout",
          "output_type": "stream",
          "text": [
            "\u001b[34m\u001b[1mval: \u001b[0mNew cache created: /content/data/val/labels.cache\n"
          ]
        },
        {
          "name": "stderr",
          "output_type": "stream",
          "text": [
            "\n"
          ]
        },
        {
          "name": "stdout",
          "output_type": "stream",
          "text": [
            "Plotting labels to /content/drive/MyDrive/dataHN/experiments/yolo_doc_ill_detect/training/runs/run8_yolo11m_1024/labels.jpg... \n",
            "\u001b[34m\u001b[1moptimizer:\u001b[0m 'optimizer=auto' found, ignoring 'lr0=0.01' and 'momentum=0.937' and determining best 'optimizer', 'lr0' and 'momentum' automatically... \n",
            "\u001b[34m\u001b[1moptimizer:\u001b[0m AdamW(lr=0.002, momentum=0.9) with parameter groups 106 weight(decay=0.0), 113 weight(decay=0.0005), 112 bias(decay=0.0)\n",
            "Image sizes 640 train, 640 val\n",
            "Using 2 dataloader workers\n",
            "Logging results to \u001b[1m/content/drive/MyDrive/dataHN/experiments/yolo_doc_ill_detect/training/runs/run8_yolo11m_1024\u001b[0m\n",
            "Starting training for 70 epochs...\n",
            "\n",
            "      Epoch    GPU_mem   box_loss   cls_loss   dfl_loss  Instances       Size\n"
          ]
        },
        {
          "name": "stderr",
          "output_type": "stream",
          "text": [
            "       1/70      8.03G      1.072      1.936      1.179         21        640: 100%|██████████| 22/22 [00:14<00:00,  1.49it/s]\n",
            "                 Class     Images  Instances      Box(P          R      mAP50  mAP50-95): 100%|██████████| 3/3 [00:02<00:00,  1.35it/s]"
          ]
        },
        {
          "name": "stdout",
          "output_type": "stream",
          "text": [
            "                   all         85        242       0.52      0.649      0.554      0.324\n"
          ]
        },
        {
          "name": "stderr",
          "output_type": "stream",
          "text": [
            "\n"
          ]
        },
        {
          "name": "stdout",
          "output_type": "stream",
          "text": [
            "\n",
            "      Epoch    GPU_mem   box_loss   cls_loss   dfl_loss  Instances       Size\n"
          ]
        },
        {
          "name": "stderr",
          "output_type": "stream",
          "text": [
            "       2/70      8.29G      1.074      1.228      1.216         10        640: 100%|██████████| 22/22 [00:13<00:00,  1.68it/s]\n",
            "                 Class     Images  Instances      Box(P          R      mAP50  mAP50-95): 100%|██████████| 3/3 [00:01<00:00,  1.98it/s]"
          ]
        },
        {
          "name": "stdout",
          "output_type": "stream",
          "text": [
            "                   all         85        242    0.00327      0.103    0.00181   0.000416\n"
          ]
        },
        {
          "name": "stderr",
          "output_type": "stream",
          "text": [
            "\n"
          ]
        },
        {
          "name": "stdout",
          "output_type": "stream",
          "text": [
            "\n",
            "      Epoch    GPU_mem   box_loss   cls_loss   dfl_loss  Instances       Size\n"
          ]
        },
        {
          "name": "stderr",
          "output_type": "stream",
          "text": [
            "       3/70      8.29G      1.162      1.155      1.265         10        640: 100%|██████████| 22/22 [00:13<00:00,  1.68it/s]\n",
            "                 Class     Images  Instances      Box(P          R      mAP50  mAP50-95): 100%|██████████| 3/3 [00:01<00:00,  2.49it/s]"
          ]
        },
        {
          "name": "stdout",
          "output_type": "stream",
          "text": [
            "                   all         85        242          0          0          0          0\n"
          ]
        },
        {
          "name": "stderr",
          "output_type": "stream",
          "text": [
            "\n"
          ]
        },
        {
          "name": "stdout",
          "output_type": "stream",
          "text": [
            "\n",
            "      Epoch    GPU_mem   box_loss   cls_loss   dfl_loss  Instances       Size\n"
          ]
        },
        {
          "name": "stderr",
          "output_type": "stream",
          "text": [
            "       4/70       8.2G       1.19      1.349       1.32          3        640: 100%|██████████| 22/22 [00:13<00:00,  1.65it/s]\n",
            "                 Class     Images  Instances      Box(P          R      mAP50  mAP50-95): 100%|██████████| 3/3 [00:01<00:00,  2.34it/s]"
          ]
        },
        {
          "name": "stdout",
          "output_type": "stream",
          "text": [
            "                   all         85        242    0.00495      0.112    0.00261   0.000922\n"
          ]
        },
        {
          "name": "stderr",
          "output_type": "stream",
          "text": [
            "\n"
          ]
        },
        {
          "name": "stdout",
          "output_type": "stream",
          "text": [
            "\n",
            "      Epoch    GPU_mem   box_loss   cls_loss   dfl_loss  Instances       Size\n"
          ]
        },
        {
          "name": "stderr",
          "output_type": "stream",
          "text": [
            "       5/70      8.22G      1.119      1.186      1.255         10        640: 100%|██████████| 22/22 [00:13<00:00,  1.60it/s]\n",
            "                 Class     Images  Instances      Box(P          R      mAP50  mAP50-95): 100%|██████████| 3/3 [00:01<00:00,  2.63it/s]"
          ]
        },
        {
          "name": "stdout",
          "output_type": "stream",
          "text": [
            "                   all         85        242    0.00314     0.0124   0.000654   0.000221\n"
          ]
        },
        {
          "name": "stderr",
          "output_type": "stream",
          "text": [
            "\n"
          ]
        },
        {
          "name": "stdout",
          "output_type": "stream",
          "text": [
            "\n",
            "      Epoch    GPU_mem   box_loss   cls_loss   dfl_loss  Instances       Size\n"
          ]
        },
        {
          "name": "stderr",
          "output_type": "stream",
          "text": [
            "       6/70      8.24G      1.144      1.139      1.279          7        640: 100%|██████████| 22/22 [00:13<00:00,  1.60it/s]\n",
            "                 Class     Images  Instances      Box(P          R      mAP50  mAP50-95): 100%|██████████| 3/3 [00:01<00:00,  2.61it/s]"
          ]
        },
        {
          "name": "stdout",
          "output_type": "stream",
          "text": [
            "                   all         85        242     0.0314     0.0413    0.00709    0.00334\n"
          ]
        },
        {
          "name": "stderr",
          "output_type": "stream",
          "text": [
            "\n"
          ]
        },
        {
          "name": "stdout",
          "output_type": "stream",
          "text": [
            "\n",
            "      Epoch    GPU_mem   box_loss   cls_loss   dfl_loss  Instances       Size\n"
          ]
        },
        {
          "name": "stderr",
          "output_type": "stream",
          "text": [
            "       7/70      8.17G       1.12      1.013      1.256         10        640: 100%|██████████| 22/22 [00:13<00:00,  1.57it/s]\n",
            "                 Class     Images  Instances      Box(P          R      mAP50  mAP50-95): 100%|██████████| 3/3 [00:01<00:00,  2.54it/s]"
          ]
        },
        {
          "name": "stdout",
          "output_type": "stream",
          "text": [
            "                   all         85        242     0.0685      0.112      0.016    0.00644\n"
          ]
        },
        {
          "name": "stderr",
          "output_type": "stream",
          "text": [
            "\n"
          ]
        },
        {
          "name": "stdout",
          "output_type": "stream",
          "text": [
            "\n",
            "      Epoch    GPU_mem   box_loss   cls_loss   dfl_loss  Instances       Size\n"
          ]
        },
        {
          "name": "stderr",
          "output_type": "stream",
          "text": [
            "       8/70      8.31G      1.063     0.9701      1.214         22        640: 100%|██████████| 22/22 [00:13<00:00,  1.63it/s]\n",
            "                 Class     Images  Instances      Box(P          R      mAP50  mAP50-95): 100%|██████████| 3/3 [00:01<00:00,  1.80it/s]"
          ]
        },
        {
          "name": "stdout",
          "output_type": "stream",
          "text": [
            "                   all         85        242     0.0673      0.103     0.0153    0.00652\n"
          ]
        },
        {
          "name": "stderr",
          "output_type": "stream",
          "text": [
            "\n"
          ]
        },
        {
          "name": "stdout",
          "output_type": "stream",
          "text": [
            "\n",
            "      Epoch    GPU_mem   box_loss   cls_loss   dfl_loss  Instances       Size\n"
          ]
        },
        {
          "name": "stderr",
          "output_type": "stream",
          "text": [
            "       9/70       8.2G      1.046     0.9809      1.234         10        640: 100%|██████████| 22/22 [00:13<00:00,  1.66it/s]\n",
            "                 Class     Images  Instances      Box(P          R      mAP50  mAP50-95): 100%|██████████| 3/3 [00:01<00:00,  1.70it/s]"
          ]
        },
        {
          "name": "stdout",
          "output_type": "stream",
          "text": [
            "                   all         85        242      0.158       0.15     0.0461     0.0249\n"
          ]
        },
        {
          "name": "stderr",
          "output_type": "stream",
          "text": [
            "\n"
          ]
        },
        {
          "name": "stdout",
          "output_type": "stream",
          "text": [
            "\n",
            "      Epoch    GPU_mem   box_loss   cls_loss   dfl_loss  Instances       Size\n"
          ]
        },
        {
          "name": "stderr",
          "output_type": "stream",
          "text": [
            "      10/70      8.26G       1.02     0.9318      1.182         16        640: 100%|██████████| 22/22 [00:13<00:00,  1.60it/s]\n",
            "                 Class     Images  Instances      Box(P          R      mAP50  mAP50-95): 100%|██████████| 3/3 [00:01<00:00,  2.21it/s]"
          ]
        },
        {
          "name": "stdout",
          "output_type": "stream",
          "text": [
            "                   all         85        242      0.603      0.401      0.474      0.268\n"
          ]
        },
        {
          "name": "stderr",
          "output_type": "stream",
          "text": [
            "\n"
          ]
        },
        {
          "name": "stdout",
          "output_type": "stream",
          "text": [
            "\n",
            "      Epoch    GPU_mem   box_loss   cls_loss   dfl_loss  Instances       Size\n"
          ]
        },
        {
          "name": "stderr",
          "output_type": "stream",
          "text": [
            "      11/70      8.23G     0.9809     0.8466      1.198          9        640: 100%|██████████| 22/22 [00:14<00:00,  1.55it/s]\n",
            "                 Class     Images  Instances      Box(P          R      mAP50  mAP50-95): 100%|██████████| 3/3 [00:01<00:00,  2.52it/s]"
          ]
        },
        {
          "name": "stdout",
          "output_type": "stream",
          "text": [
            "                   all         85        242      0.646      0.747      0.672      0.453\n"
          ]
        },
        {
          "name": "stderr",
          "output_type": "stream",
          "text": [
            "\n"
          ]
        },
        {
          "name": "stdout",
          "output_type": "stream",
          "text": [
            "\n",
            "      Epoch    GPU_mem   box_loss   cls_loss   dfl_loss  Instances       Size\n"
          ]
        },
        {
          "name": "stderr",
          "output_type": "stream",
          "text": [
            "      12/70      8.28G      1.002     0.8966      1.182          7        640: 100%|██████████| 22/22 [00:14<00:00,  1.52it/s]\n",
            "                 Class     Images  Instances      Box(P          R      mAP50  mAP50-95): 100%|██████████| 3/3 [00:01<00:00,  2.05it/s]"
          ]
        },
        {
          "name": "stdout",
          "output_type": "stream",
          "text": [
            "                   all         85        242      0.458      0.351      0.303      0.169\n"
          ]
        },
        {
          "name": "stderr",
          "output_type": "stream",
          "text": [
            "\n"
          ]
        },
        {
          "name": "stdout",
          "output_type": "stream",
          "text": [
            "\n",
            "      Epoch    GPU_mem   box_loss   cls_loss   dfl_loss  Instances       Size\n"
          ]
        },
        {
          "name": "stderr",
          "output_type": "stream",
          "text": [
            "      13/70      8.22G     0.9658     0.8734      1.171         13        640: 100%|██████████| 22/22 [00:13<00:00,  1.59it/s]\n",
            "                 Class     Images  Instances      Box(P          R      mAP50  mAP50-95): 100%|██████████| 3/3 [00:01<00:00,  2.45it/s]"
          ]
        },
        {
          "name": "stdout",
          "output_type": "stream",
          "text": [
            "                   all         85        242      0.362       0.45      0.331      0.168\n"
          ]
        },
        {
          "name": "stderr",
          "output_type": "stream",
          "text": [
            "\n"
          ]
        },
        {
          "name": "stdout",
          "output_type": "stream",
          "text": [
            "\n",
            "      Epoch    GPU_mem   box_loss   cls_loss   dfl_loss  Instances       Size\n"
          ]
        },
        {
          "name": "stderr",
          "output_type": "stream",
          "text": [
            "      14/70      8.28G     0.9559      0.776       1.15          7        640: 100%|██████████| 22/22 [00:13<00:00,  1.59it/s]\n",
            "                 Class     Images  Instances      Box(P          R      mAP50  mAP50-95): 100%|██████████| 3/3 [00:01<00:00,  2.49it/s]"
          ]
        },
        {
          "name": "stdout",
          "output_type": "stream",
          "text": [
            "                   all         85        242       0.46       0.38      0.297      0.192\n"
          ]
        },
        {
          "name": "stderr",
          "output_type": "stream",
          "text": [
            "\n"
          ]
        },
        {
          "name": "stdout",
          "output_type": "stream",
          "text": [
            "\n",
            "      Epoch    GPU_mem   box_loss   cls_loss   dfl_loss  Instances       Size\n"
          ]
        },
        {
          "name": "stderr",
          "output_type": "stream",
          "text": [
            "      15/70      8.26G     0.9309      1.407       1.15          1        640: 100%|██████████| 22/22 [00:13<00:00,  1.63it/s]\n",
            "                 Class     Images  Instances      Box(P          R      mAP50  mAP50-95): 100%|██████████| 3/3 [00:01<00:00,  1.91it/s]"
          ]
        },
        {
          "name": "stdout",
          "output_type": "stream",
          "text": [
            "                   all         85        242      0.599      0.756        0.7      0.506\n"
          ]
        },
        {
          "name": "stderr",
          "output_type": "stream",
          "text": [
            "\n"
          ]
        },
        {
          "name": "stdout",
          "output_type": "stream",
          "text": [
            "\n",
            "      Epoch    GPU_mem   box_loss   cls_loss   dfl_loss  Instances       Size\n"
          ]
        },
        {
          "name": "stderr",
          "output_type": "stream",
          "text": [
            "      16/70      8.25G     0.9248     0.7785      1.149         12        640: 100%|██████████| 22/22 [00:13<00:00,  1.59it/s]\n",
            "                 Class     Images  Instances      Box(P          R      mAP50  mAP50-95): 100%|██████████| 3/3 [00:01<00:00,  2.14it/s]"
          ]
        },
        {
          "name": "stdout",
          "output_type": "stream",
          "text": [
            "                   all         85        242      0.476      0.244      0.277      0.149\n"
          ]
        },
        {
          "name": "stderr",
          "output_type": "stream",
          "text": [
            "\n"
          ]
        },
        {
          "name": "stdout",
          "output_type": "stream",
          "text": [
            "\n",
            "      Epoch    GPU_mem   box_loss   cls_loss   dfl_loss  Instances       Size\n"
          ]
        },
        {
          "name": "stderr",
          "output_type": "stream",
          "text": [
            "      17/70      8.28G     0.9152     0.8178      1.148          6        640: 100%|██████████| 22/22 [00:13<00:00,  1.67it/s]\n",
            "                 Class     Images  Instances      Box(P          R      mAP50  mAP50-95): 100%|██████████| 3/3 [00:01<00:00,  2.56it/s]"
          ]
        },
        {
          "name": "stdout",
          "output_type": "stream",
          "text": [
            "                   all         85        242      0.488      0.334      0.348      0.223\n"
          ]
        },
        {
          "name": "stderr",
          "output_type": "stream",
          "text": [
            "\n"
          ]
        },
        {
          "name": "stdout",
          "output_type": "stream",
          "text": [
            "\n",
            "      Epoch    GPU_mem   box_loss   cls_loss   dfl_loss  Instances       Size\n"
          ]
        },
        {
          "name": "stderr",
          "output_type": "stream",
          "text": [
            "      18/70       8.3G     0.9194     0.8207      1.143         19        640: 100%|██████████| 22/22 [00:14<00:00,  1.55it/s]\n",
            "                 Class     Images  Instances      Box(P          R      mAP50  mAP50-95): 100%|██████████| 3/3 [00:01<00:00,  2.54it/s]"
          ]
        },
        {
          "name": "stdout",
          "output_type": "stream",
          "text": [
            "                   all         85        242      0.655      0.517      0.602      0.412\n"
          ]
        },
        {
          "name": "stderr",
          "output_type": "stream",
          "text": [
            "\n"
          ]
        },
        {
          "name": "stdout",
          "output_type": "stream",
          "text": [
            "\n",
            "      Epoch    GPU_mem   box_loss   cls_loss   dfl_loss  Instances       Size\n"
          ]
        },
        {
          "name": "stderr",
          "output_type": "stream",
          "text": [
            "      19/70      8.25G     0.8693     0.7674      1.119          9        640: 100%|██████████| 22/22 [00:13<00:00,  1.68it/s]\n",
            "                 Class     Images  Instances      Box(P          R      mAP50  mAP50-95): 100%|██████████| 3/3 [00:01<00:00,  2.60it/s]"
          ]
        },
        {
          "name": "stdout",
          "output_type": "stream",
          "text": [
            "                   all         85        242      0.556      0.528      0.484      0.319\n"
          ]
        },
        {
          "name": "stderr",
          "output_type": "stream",
          "text": [
            "\n"
          ]
        },
        {
          "name": "stdout",
          "output_type": "stream",
          "text": [
            "\n",
            "      Epoch    GPU_mem   box_loss   cls_loss   dfl_loss  Instances       Size\n"
          ]
        },
        {
          "name": "stderr",
          "output_type": "stream",
          "text": [
            "      20/70      8.26G     0.8552     0.7259      1.109         15        640: 100%|██████████| 22/22 [00:13<00:00,  1.66it/s]\n",
            "                 Class     Images  Instances      Box(P          R      mAP50  mAP50-95): 100%|██████████| 3/3 [00:01<00:00,  2.60it/s]"
          ]
        },
        {
          "name": "stdout",
          "output_type": "stream",
          "text": [
            "                   all         85        242      0.721      0.917      0.798      0.595\n"
          ]
        },
        {
          "name": "stderr",
          "output_type": "stream",
          "text": [
            "\n"
          ]
        },
        {
          "name": "stdout",
          "output_type": "stream",
          "text": [
            "\n",
            "      Epoch    GPU_mem   box_loss   cls_loss   dfl_loss  Instances       Size\n"
          ]
        },
        {
          "name": "stderr",
          "output_type": "stream",
          "text": [
            "      21/70      8.23G     0.8647      0.742      1.109          9        640: 100%|██████████| 22/22 [00:13<00:00,  1.65it/s]\n",
            "                 Class     Images  Instances      Box(P          R      mAP50  mAP50-95): 100%|██████████| 3/3 [00:01<00:00,  2.09it/s]"
          ]
        },
        {
          "name": "stdout",
          "output_type": "stream",
          "text": [
            "                   all         85        242      0.712      0.864      0.738      0.553\n"
          ]
        },
        {
          "name": "stderr",
          "output_type": "stream",
          "text": [
            "\n"
          ]
        },
        {
          "name": "stdout",
          "output_type": "stream",
          "text": [
            "\n",
            "      Epoch    GPU_mem   box_loss   cls_loss   dfl_loss  Instances       Size\n"
          ]
        },
        {
          "name": "stderr",
          "output_type": "stream",
          "text": [
            "      22/70      8.25G     0.8239     0.7357      1.083          8        640: 100%|██████████| 22/22 [00:13<00:00,  1.67it/s]\n",
            "                 Class     Images  Instances      Box(P          R      mAP50  mAP50-95): 100%|██████████| 3/3 [00:01<00:00,  2.60it/s]"
          ]
        },
        {
          "name": "stdout",
          "output_type": "stream",
          "text": [
            "                   all         85        242      0.645       0.88      0.733      0.529\n"
          ]
        },
        {
          "name": "stderr",
          "output_type": "stream",
          "text": [
            "\n"
          ]
        },
        {
          "name": "stdout",
          "output_type": "stream",
          "text": [
            "\n",
            "      Epoch    GPU_mem   box_loss   cls_loss   dfl_loss  Instances       Size\n"
          ]
        },
        {
          "name": "stderr",
          "output_type": "stream",
          "text": [
            "      23/70      8.24G     0.9001     0.7382      1.106         48        640: 100%|██████████| 22/22 [00:13<00:00,  1.65it/s]\n",
            "                 Class     Images  Instances      Box(P          R      mAP50  mAP50-95): 100%|██████████| 3/3 [00:01<00:00,  2.08it/s]"
          ]
        },
        {
          "name": "stdout",
          "output_type": "stream",
          "text": [
            "                   all         85        242      0.691       0.61      0.644      0.432\n"
          ]
        },
        {
          "name": "stderr",
          "output_type": "stream",
          "text": [
            "\n"
          ]
        },
        {
          "name": "stdout",
          "output_type": "stream",
          "text": [
            "\n",
            "      Epoch    GPU_mem   box_loss   cls_loss   dfl_loss  Instances       Size\n"
          ]
        },
        {
          "name": "stderr",
          "output_type": "stream",
          "text": [
            "      24/70      8.27G     0.8071     0.6837      1.076          5        640: 100%|██████████| 22/22 [00:13<00:00,  1.66it/s]\n",
            "                 Class     Images  Instances      Box(P          R      mAP50  mAP50-95): 100%|██████████| 3/3 [00:01<00:00,  1.98it/s]"
          ]
        },
        {
          "name": "stdout",
          "output_type": "stream",
          "text": [
            "                   all         85        242      0.748      0.612      0.671      0.458\n"
          ]
        },
        {
          "name": "stderr",
          "output_type": "stream",
          "text": [
            "\n"
          ]
        },
        {
          "name": "stdout",
          "output_type": "stream",
          "text": [
            "\n",
            "      Epoch    GPU_mem   box_loss   cls_loss   dfl_loss  Instances       Size\n"
          ]
        },
        {
          "name": "stderr",
          "output_type": "stream",
          "text": [
            "      25/70      8.21G     0.8071     0.6647      1.071         11        640: 100%|██████████| 22/22 [00:13<00:00,  1.64it/s]\n",
            "                 Class     Images  Instances      Box(P          R      mAP50  mAP50-95): 100%|██████████| 3/3 [00:01<00:00,  2.03it/s]"
          ]
        },
        {
          "name": "stdout",
          "output_type": "stream",
          "text": [
            "                   all         85        242       0.65      0.744       0.72        0.5\n"
          ]
        },
        {
          "name": "stderr",
          "output_type": "stream",
          "text": [
            "\n"
          ]
        },
        {
          "name": "stdout",
          "output_type": "stream",
          "text": [
            "\n",
            "      Epoch    GPU_mem   box_loss   cls_loss   dfl_loss  Instances       Size\n"
          ]
        },
        {
          "name": "stderr",
          "output_type": "stream",
          "text": [
            "      26/70       8.3G     0.8266     0.6713      1.058         15        640: 100%|██████████| 22/22 [00:13<00:00,  1.59it/s]\n",
            "                 Class     Images  Instances      Box(P          R      mAP50  mAP50-95): 100%|██████████| 3/3 [00:01<00:00,  2.53it/s]"
          ]
        },
        {
          "name": "stdout",
          "output_type": "stream",
          "text": [
            "                   all         85        242      0.711      0.855      0.745      0.562\n"
          ]
        },
        {
          "name": "stderr",
          "output_type": "stream",
          "text": [
            "\n"
          ]
        },
        {
          "name": "stdout",
          "output_type": "stream",
          "text": [
            "\n",
            "      Epoch    GPU_mem   box_loss   cls_loss   dfl_loss  Instances       Size\n"
          ]
        },
        {
          "name": "stderr",
          "output_type": "stream",
          "text": [
            "      27/70      8.25G     0.7818     0.6502      1.068          8        640: 100%|██████████| 22/22 [00:13<00:00,  1.58it/s]\n",
            "                 Class     Images  Instances      Box(P          R      mAP50  mAP50-95): 100%|██████████| 3/3 [00:01<00:00,  2.12it/s]"
          ]
        },
        {
          "name": "stdout",
          "output_type": "stream",
          "text": [
            "                   all         85        242      0.747      0.872        0.8      0.602\n"
          ]
        },
        {
          "name": "stderr",
          "output_type": "stream",
          "text": [
            "\n"
          ]
        },
        {
          "name": "stdout",
          "output_type": "stream",
          "text": [
            "\n",
            "      Epoch    GPU_mem   box_loss   cls_loss   dfl_loss  Instances       Size\n"
          ]
        },
        {
          "name": "stderr",
          "output_type": "stream",
          "text": [
            "      28/70      8.27G     0.7763     0.6519      1.077          7        640: 100%|██████████| 22/22 [00:13<00:00,  1.59it/s]\n",
            "                 Class     Images  Instances      Box(P          R      mAP50  mAP50-95): 100%|██████████| 3/3 [00:01<00:00,  2.17it/s]"
          ]
        },
        {
          "name": "stdout",
          "output_type": "stream",
          "text": [
            "                   all         85        242      0.642      0.521      0.554        0.4\n"
          ]
        },
        {
          "name": "stderr",
          "output_type": "stream",
          "text": [
            "\n"
          ]
        },
        {
          "name": "stdout",
          "output_type": "stream",
          "text": [
            "\n",
            "      Epoch    GPU_mem   box_loss   cls_loss   dfl_loss  Instances       Size\n"
          ]
        },
        {
          "name": "stderr",
          "output_type": "stream",
          "text": [
            "      29/70      8.27G      0.801     0.6543      1.067         10        640: 100%|██████████| 22/22 [00:13<00:00,  1.59it/s]\n",
            "                 Class     Images  Instances      Box(P          R      mAP50  mAP50-95): 100%|██████████| 3/3 [00:01<00:00,  2.04it/s]"
          ]
        },
        {
          "name": "stdout",
          "output_type": "stream",
          "text": [
            "                   all         85        242      0.769      0.777      0.794      0.586\n"
          ]
        },
        {
          "name": "stderr",
          "output_type": "stream",
          "text": [
            "\n"
          ]
        },
        {
          "name": "stdout",
          "output_type": "stream",
          "text": [
            "\n",
            "      Epoch    GPU_mem   box_loss   cls_loss   dfl_loss  Instances       Size\n"
          ]
        },
        {
          "name": "stderr",
          "output_type": "stream",
          "text": [
            "      30/70      8.25G     0.8356     0.6711      1.066         19        640: 100%|██████████| 22/22 [00:13<00:00,  1.66it/s]\n",
            "                 Class     Images  Instances      Box(P          R      mAP50  mAP50-95): 100%|██████████| 3/3 [00:01<00:00,  2.57it/s]"
          ]
        },
        {
          "name": "stdout",
          "output_type": "stream",
          "text": [
            "                   all         85        242      0.745      0.893      0.793      0.597\n"
          ]
        },
        {
          "name": "stderr",
          "output_type": "stream",
          "text": [
            "\n"
          ]
        },
        {
          "name": "stdout",
          "output_type": "stream",
          "text": [
            "\n",
            "      Epoch    GPU_mem   box_loss   cls_loss   dfl_loss  Instances       Size\n"
          ]
        },
        {
          "name": "stderr",
          "output_type": "stream",
          "text": [
            "      31/70      8.25G     0.8017     0.6194      1.079          7        640: 100%|██████████| 22/22 [00:14<00:00,  1.56it/s]\n",
            "                 Class     Images  Instances      Box(P          R      mAP50  mAP50-95): 100%|██████████| 3/3 [00:01<00:00,  2.48it/s]"
          ]
        },
        {
          "name": "stdout",
          "output_type": "stream",
          "text": [
            "                   all         85        242      0.745      0.888      0.845      0.646\n"
          ]
        },
        {
          "name": "stderr",
          "output_type": "stream",
          "text": [
            "\n"
          ]
        },
        {
          "name": "stdout",
          "output_type": "stream",
          "text": [
            "\n",
            "      Epoch    GPU_mem   box_loss   cls_loss   dfl_loss  Instances       Size\n"
          ]
        },
        {
          "name": "stderr",
          "output_type": "stream",
          "text": [
            "      32/70      8.25G     0.7668     0.6332      1.051          5        640: 100%|██████████| 22/22 [00:13<00:00,  1.66it/s]\n",
            "                 Class     Images  Instances      Box(P          R      mAP50  mAP50-95): 100%|██████████| 3/3 [00:01<00:00,  2.61it/s]"
          ]
        },
        {
          "name": "stdout",
          "output_type": "stream",
          "text": [
            "                   all         85        242      0.792      0.744       0.79       0.56\n"
          ]
        },
        {
          "name": "stderr",
          "output_type": "stream",
          "text": [
            "\n"
          ]
        },
        {
          "name": "stdout",
          "output_type": "stream",
          "text": [
            "\n",
            "      Epoch    GPU_mem   box_loss   cls_loss   dfl_loss  Instances       Size\n"
          ]
        },
        {
          "name": "stderr",
          "output_type": "stream",
          "text": [
            "      33/70      8.24G     0.7916     0.6539      1.066          8        640: 100%|██████████| 22/22 [00:13<00:00,  1.65it/s]\n",
            "                 Class     Images  Instances      Box(P          R      mAP50  mAP50-95): 100%|██████████| 3/3 [00:01<00:00,  2.08it/s]"
          ]
        },
        {
          "name": "stdout",
          "output_type": "stream",
          "text": [
            "                   all         85        242       0.73      0.888       0.79      0.614\n"
          ]
        },
        {
          "name": "stderr",
          "output_type": "stream",
          "text": [
            "\n"
          ]
        },
        {
          "name": "stdout",
          "output_type": "stream",
          "text": [
            "\n",
            "      Epoch    GPU_mem   box_loss   cls_loss   dfl_loss  Instances       Size\n"
          ]
        },
        {
          "name": "stderr",
          "output_type": "stream",
          "text": [
            "      34/70      8.25G     0.7678     0.6313       1.04         27        640: 100%|██████████| 22/22 [00:13<00:00,  1.68it/s]\n",
            "                 Class     Images  Instances      Box(P          R      mAP50  mAP50-95): 100%|██████████| 3/3 [00:01<00:00,  2.62it/s]"
          ]
        },
        {
          "name": "stdout",
          "output_type": "stream",
          "text": [
            "                   all         85        242      0.692      0.836       0.74      0.557\n"
          ]
        },
        {
          "name": "stderr",
          "output_type": "stream",
          "text": [
            "\n"
          ]
        },
        {
          "name": "stdout",
          "output_type": "stream",
          "text": [
            "\n",
            "      Epoch    GPU_mem   box_loss   cls_loss   dfl_loss  Instances       Size\n"
          ]
        },
        {
          "name": "stderr",
          "output_type": "stream",
          "text": [
            "      35/70      8.22G      0.754     0.5876      1.038         10        640: 100%|██████████| 22/22 [00:13<00:00,  1.66it/s]\n",
            "                 Class     Images  Instances      Box(P          R      mAP50  mAP50-95): 100%|██████████| 3/3 [00:01<00:00,  2.58it/s]"
          ]
        },
        {
          "name": "stdout",
          "output_type": "stream",
          "text": [
            "                   all         85        242      0.763      0.814      0.816      0.621\n"
          ]
        },
        {
          "name": "stderr",
          "output_type": "stream",
          "text": [
            "\n"
          ]
        },
        {
          "name": "stdout",
          "output_type": "stream",
          "text": [
            "\n",
            "      Epoch    GPU_mem   box_loss   cls_loss   dfl_loss  Instances       Size\n"
          ]
        },
        {
          "name": "stderr",
          "output_type": "stream",
          "text": [
            "      36/70      8.29G     0.7877     0.6242      1.048         13        640: 100%|██████████| 22/22 [00:13<00:00,  1.66it/s]\n",
            "                 Class     Images  Instances      Box(P          R      mAP50  mAP50-95): 100%|██████████| 3/3 [00:01<00:00,  2.63it/s]"
          ]
        },
        {
          "name": "stdout",
          "output_type": "stream",
          "text": [
            "                   all         85        242      0.725      0.876      0.799       0.62\n"
          ]
        },
        {
          "name": "stderr",
          "output_type": "stream",
          "text": [
            "\n"
          ]
        },
        {
          "name": "stdout",
          "output_type": "stream",
          "text": [
            "\n",
            "      Epoch    GPU_mem   box_loss   cls_loss   dfl_loss  Instances       Size\n"
          ]
        },
        {
          "name": "stderr",
          "output_type": "stream",
          "text": [
            "      37/70      8.21G     0.8114     0.6257      1.068         15        640: 100%|██████████| 22/22 [00:13<00:00,  1.58it/s]\n",
            "                 Class     Images  Instances      Box(P          R      mAP50  mAP50-95): 100%|██████████| 3/3 [00:01<00:00,  1.97it/s]"
          ]
        },
        {
          "name": "stdout",
          "output_type": "stream",
          "text": [
            "                   all         85        242      0.705      0.909      0.788      0.608\n"
          ]
        },
        {
          "name": "stderr",
          "output_type": "stream",
          "text": [
            "\n"
          ]
        },
        {
          "name": "stdout",
          "output_type": "stream",
          "text": [
            "\n",
            "      Epoch    GPU_mem   box_loss   cls_loss   dfl_loss  Instances       Size\n"
          ]
        },
        {
          "name": "stderr",
          "output_type": "stream",
          "text": [
            "      38/70      8.26G      0.725     0.5643      1.028         17        640: 100%|██████████| 22/22 [00:13<00:00,  1.63it/s]\n",
            "                 Class     Images  Instances      Box(P          R      mAP50  mAP50-95): 100%|██████████| 3/3 [00:01<00:00,  2.03it/s]"
          ]
        },
        {
          "name": "stdout",
          "output_type": "stream",
          "text": [
            "                   all         85        242      0.737       0.88      0.812      0.629\n"
          ]
        },
        {
          "name": "stderr",
          "output_type": "stream",
          "text": [
            "\n"
          ]
        },
        {
          "name": "stdout",
          "output_type": "stream",
          "text": [
            "\n",
            "      Epoch    GPU_mem   box_loss   cls_loss   dfl_loss  Instances       Size\n"
          ]
        },
        {
          "name": "stderr",
          "output_type": "stream",
          "text": [
            "      39/70      8.24G     0.7618     0.5944      1.048         11        640: 100%|██████████| 22/22 [00:13<00:00,  1.65it/s]\n",
            "                 Class     Images  Instances      Box(P          R      mAP50  mAP50-95): 100%|██████████| 3/3 [00:01<00:00,  2.59it/s]"
          ]
        },
        {
          "name": "stdout",
          "output_type": "stream",
          "text": [
            "                   all         85        242      0.742      0.909      0.784      0.606\n"
          ]
        },
        {
          "name": "stderr",
          "output_type": "stream",
          "text": [
            "\n"
          ]
        },
        {
          "name": "stdout",
          "output_type": "stream",
          "text": [
            "\n",
            "      Epoch    GPU_mem   box_loss   cls_loss   dfl_loss  Instances       Size\n"
          ]
        },
        {
          "name": "stderr",
          "output_type": "stream",
          "text": [
            "      40/70      8.25G     0.7155     0.5864       1.03          6        640: 100%|██████████| 22/22 [00:13<00:00,  1.63it/s]\n",
            "                 Class     Images  Instances      Box(P          R      mAP50  mAP50-95): 100%|██████████| 3/3 [00:01<00:00,  1.99it/s]"
          ]
        },
        {
          "name": "stdout",
          "output_type": "stream",
          "text": [
            "                   all         85        242      0.685      0.764      0.729      0.534\n"
          ]
        },
        {
          "name": "stderr",
          "output_type": "stream",
          "text": [
            "\n"
          ]
        },
        {
          "name": "stdout",
          "output_type": "stream",
          "text": [
            "\n",
            "      Epoch    GPU_mem   box_loss   cls_loss   dfl_loss  Instances       Size\n"
          ]
        },
        {
          "name": "stderr",
          "output_type": "stream",
          "text": [
            "      41/70      8.24G     0.7026     0.5622      1.021         17        640: 100%|██████████| 22/22 [00:14<00:00,  1.57it/s]\n",
            "                 Class     Images  Instances      Box(P          R      mAP50  mAP50-95): 100%|██████████| 3/3 [00:01<00:00,  2.52it/s]"
          ]
        },
        {
          "name": "stdout",
          "output_type": "stream",
          "text": [
            "                   all         85        242      0.706      0.934       0.81      0.617\n"
          ]
        },
        {
          "name": "stderr",
          "output_type": "stream",
          "text": [
            "\n"
          ]
        },
        {
          "name": "stdout",
          "output_type": "stream",
          "text": [
            "\n",
            "      Epoch    GPU_mem   box_loss   cls_loss   dfl_loss  Instances       Size\n"
          ]
        },
        {
          "name": "stderr",
          "output_type": "stream",
          "text": [
            "      42/70      8.29G     0.7341     0.6123      1.025          2        640: 100%|██████████| 22/22 [00:13<00:00,  1.65it/s]\n",
            "                 Class     Images  Instances      Box(P          R      mAP50  mAP50-95): 100%|██████████| 3/3 [00:01<00:00,  2.56it/s]"
          ]
        },
        {
          "name": "stdout",
          "output_type": "stream",
          "text": [
            "                   all         85        242      0.745      0.905      0.826       0.65\n"
          ]
        },
        {
          "name": "stderr",
          "output_type": "stream",
          "text": [
            "\n"
          ]
        },
        {
          "name": "stdout",
          "output_type": "stream",
          "text": [
            "\n",
            "      Epoch    GPU_mem   box_loss   cls_loss   dfl_loss  Instances       Size\n"
          ]
        },
        {
          "name": "stderr",
          "output_type": "stream",
          "text": [
            "      43/70      8.21G     0.7054     0.5525      1.009          9        640: 100%|██████████| 22/22 [00:13<00:00,  1.63it/s]\n",
            "                 Class     Images  Instances      Box(P          R      mAP50  mAP50-95): 100%|██████████| 3/3 [00:01<00:00,  2.17it/s]"
          ]
        },
        {
          "name": "stdout",
          "output_type": "stream",
          "text": [
            "                   all         85        242      0.739      0.851      0.833      0.643\n"
          ]
        },
        {
          "name": "stderr",
          "output_type": "stream",
          "text": [
            "\n"
          ]
        },
        {
          "name": "stdout",
          "output_type": "stream",
          "text": [
            "\n",
            "      Epoch    GPU_mem   box_loss   cls_loss   dfl_loss  Instances       Size\n"
          ]
        },
        {
          "name": "stderr",
          "output_type": "stream",
          "text": [
            "      44/70      8.29G     0.7453     0.5605      1.029         11        640: 100%|██████████| 22/22 [00:13<00:00,  1.68it/s]\n",
            "                 Class     Images  Instances      Box(P          R      mAP50  mAP50-95): 100%|██████████| 3/3 [00:01<00:00,  2.08it/s]"
          ]
        },
        {
          "name": "stdout",
          "output_type": "stream",
          "text": [
            "                   all         85        242      0.764       0.91      0.837      0.631\n"
          ]
        },
        {
          "name": "stderr",
          "output_type": "stream",
          "text": [
            "\n"
          ]
        },
        {
          "name": "stdout",
          "output_type": "stream",
          "text": [
            "\n",
            "      Epoch    GPU_mem   box_loss   cls_loss   dfl_loss  Instances       Size\n"
          ]
        },
        {
          "name": "stderr",
          "output_type": "stream",
          "text": [
            "      45/70      8.21G     0.7365     0.5518      1.034         22        640: 100%|██████████| 22/22 [00:13<00:00,  1.62it/s]\n",
            "                 Class     Images  Instances      Box(P          R      mAP50  mAP50-95): 100%|██████████| 3/3 [00:01<00:00,  1.96it/s]"
          ]
        },
        {
          "name": "stdout",
          "output_type": "stream",
          "text": [
            "                   all         85        242      0.656      0.861      0.752      0.567\n"
          ]
        },
        {
          "name": "stderr",
          "output_type": "stream",
          "text": [
            "\n"
          ]
        },
        {
          "name": "stdout",
          "output_type": "stream",
          "text": [
            "\n",
            "      Epoch    GPU_mem   box_loss   cls_loss   dfl_loss  Instances       Size\n"
          ]
        },
        {
          "name": "stderr",
          "output_type": "stream",
          "text": [
            "      46/70      8.18G      0.732     0.5727      1.035         13        640: 100%|██████████| 22/22 [00:13<00:00,  1.64it/s]\n",
            "                 Class     Images  Instances      Box(P          R      mAP50  mAP50-95): 100%|██████████| 3/3 [00:01<00:00,  2.24it/s]"
          ]
        },
        {
          "name": "stdout",
          "output_type": "stream",
          "text": [
            "                   all         85        242      0.772      0.922      0.849       0.67\n"
          ]
        },
        {
          "name": "stderr",
          "output_type": "stream",
          "text": [
            "\n"
          ]
        },
        {
          "name": "stdout",
          "output_type": "stream",
          "text": [
            "\n",
            "      Epoch    GPU_mem   box_loss   cls_loss   dfl_loss  Instances       Size\n"
          ]
        },
        {
          "name": "stderr",
          "output_type": "stream",
          "text": [
            "      47/70      8.18G     0.7457     0.5601      1.022         25        640: 100%|██████████| 22/22 [00:13<00:00,  1.66it/s]\n",
            "                 Class     Images  Instances      Box(P          R      mAP50  mAP50-95): 100%|██████████| 3/3 [00:01<00:00,  2.59it/s]"
          ]
        },
        {
          "name": "stdout",
          "output_type": "stream",
          "text": [
            "                   all         85        242      0.769      0.909      0.855      0.675\n"
          ]
        },
        {
          "name": "stderr",
          "output_type": "stream",
          "text": [
            "\n"
          ]
        },
        {
          "name": "stdout",
          "output_type": "stream",
          "text": [
            "\n",
            "      Epoch    GPU_mem   box_loss   cls_loss   dfl_loss  Instances       Size\n"
          ]
        },
        {
          "name": "stderr",
          "output_type": "stream",
          "text": [
            "      48/70      8.29G     0.6627     0.5402     0.9994          7        640: 100%|██████████| 22/22 [00:13<00:00,  1.60it/s]\n",
            "                 Class     Images  Instances      Box(P          R      mAP50  mAP50-95): 100%|██████████| 3/3 [00:01<00:00,  2.17it/s]"
          ]
        },
        {
          "name": "stdout",
          "output_type": "stream",
          "text": [
            "                   all         85        242      0.743      0.893      0.832      0.632\n"
          ]
        },
        {
          "name": "stderr",
          "output_type": "stream",
          "text": [
            "\n"
          ]
        },
        {
          "name": "stdout",
          "output_type": "stream",
          "text": [
            "\n",
            "      Epoch    GPU_mem   box_loss   cls_loss   dfl_loss  Instances       Size\n"
          ]
        },
        {
          "name": "stderr",
          "output_type": "stream",
          "text": [
            "      49/70      8.24G     0.6912     0.5142      1.017         10        640: 100%|██████████| 22/22 [00:13<00:00,  1.60it/s]\n",
            "                 Class     Images  Instances      Box(P          R      mAP50  mAP50-95): 100%|██████████| 3/3 [00:01<00:00,  2.34it/s]"
          ]
        },
        {
          "name": "stdout",
          "output_type": "stream",
          "text": [
            "                   all         85        242      0.738      0.917      0.833      0.662\n"
          ]
        },
        {
          "name": "stderr",
          "output_type": "stream",
          "text": [
            "\n"
          ]
        },
        {
          "name": "stdout",
          "output_type": "stream",
          "text": [
            "\n",
            "      Epoch    GPU_mem   box_loss   cls_loss   dfl_loss  Instances       Size\n"
          ]
        },
        {
          "name": "stderr",
          "output_type": "stream",
          "text": [
            "      50/70      8.28G      0.692     0.5355      1.041          3        640: 100%|██████████| 22/22 [00:13<00:00,  1.63it/s]\n",
            "                 Class     Images  Instances      Box(P          R      mAP50  mAP50-95): 100%|██████████| 3/3 [00:01<00:00,  2.08it/s]"
          ]
        },
        {
          "name": "stdout",
          "output_type": "stream",
          "text": [
            "                   all         85        242       0.73      0.917      0.827      0.641\n"
          ]
        },
        {
          "name": "stderr",
          "output_type": "stream",
          "text": [
            "\n"
          ]
        },
        {
          "name": "stdout",
          "output_type": "stream",
          "text": [
            "\n",
            "      Epoch    GPU_mem   box_loss   cls_loss   dfl_loss  Instances       Size\n"
          ]
        },
        {
          "name": "stderr",
          "output_type": "stream",
          "text": [
            "      51/70      8.19G      0.671     0.5852     0.9989          3        640: 100%|██████████| 22/22 [00:13<00:00,  1.62it/s]\n",
            "                 Class     Images  Instances      Box(P          R      mAP50  mAP50-95): 100%|██████████| 3/3 [00:01<00:00,  1.54it/s]"
          ]
        },
        {
          "name": "stdout",
          "output_type": "stream",
          "text": [
            "                   all         85        242      0.751      0.926      0.844      0.657\n"
          ]
        },
        {
          "name": "stderr",
          "output_type": "stream",
          "text": [
            "\n"
          ]
        },
        {
          "name": "stdout",
          "output_type": "stream",
          "text": [
            "\n",
            "      Epoch    GPU_mem   box_loss   cls_loss   dfl_loss  Instances       Size\n"
          ]
        },
        {
          "name": "stderr",
          "output_type": "stream",
          "text": [
            "      52/70      8.31G     0.6762     0.5279      1.015         13        640: 100%|██████████| 22/22 [00:13<00:00,  1.67it/s]\n",
            "                 Class     Images  Instances      Box(P          R      mAP50  mAP50-95): 100%|██████████| 3/3 [00:01<00:00,  2.63it/s]"
          ]
        },
        {
          "name": "stdout",
          "output_type": "stream",
          "text": [
            "                   all         85        242      0.731      0.965      0.841       0.68\n"
          ]
        },
        {
          "name": "stderr",
          "output_type": "stream",
          "text": [
            "\n"
          ]
        },
        {
          "name": "stdout",
          "output_type": "stream",
          "text": [
            "\n",
            "      Epoch    GPU_mem   box_loss   cls_loss   dfl_loss  Instances       Size\n"
          ]
        },
        {
          "name": "stderr",
          "output_type": "stream",
          "text": [
            "      53/70      8.23G      0.643     0.5124     0.9947         20        640: 100%|██████████| 22/22 [00:14<00:00,  1.56it/s]\n",
            "                 Class     Images  Instances      Box(P          R      mAP50  mAP50-95): 100%|██████████| 3/3 [00:01<00:00,  2.50it/s]"
          ]
        },
        {
          "name": "stdout",
          "output_type": "stream",
          "text": [
            "                   all         85        242      0.779      0.873      0.846      0.672\n"
          ]
        },
        {
          "name": "stderr",
          "output_type": "stream",
          "text": [
            "\n"
          ]
        },
        {
          "name": "stdout",
          "output_type": "stream",
          "text": [
            "\n",
            "      Epoch    GPU_mem   box_loss   cls_loss   dfl_loss  Instances       Size\n"
          ]
        },
        {
          "name": "stderr",
          "output_type": "stream",
          "text": [
            "      54/70      8.29G     0.6349     0.5131      1.004         13        640: 100%|██████████| 22/22 [00:13<00:00,  1.63it/s]\n",
            "                 Class     Images  Instances      Box(P          R      mAP50  mAP50-95): 100%|██████████| 3/3 [00:01<00:00,  2.02it/s]"
          ]
        },
        {
          "name": "stdout",
          "output_type": "stream",
          "text": [
            "                   all         85        242      0.757      0.921      0.839      0.669\n"
          ]
        },
        {
          "name": "stderr",
          "output_type": "stream",
          "text": [
            "\n"
          ]
        },
        {
          "name": "stdout",
          "output_type": "stream",
          "text": [
            "\n",
            "      Epoch    GPU_mem   box_loss   cls_loss   dfl_loss  Instances       Size\n"
          ]
        },
        {
          "name": "stderr",
          "output_type": "stream",
          "text": [
            "      55/70      8.26G     0.6696     0.5088      1.026          4        640: 100%|██████████| 22/22 [00:13<00:00,  1.66it/s]\n",
            "                 Class     Images  Instances      Box(P          R      mAP50  mAP50-95): 100%|██████████| 3/3 [00:01<00:00,  2.59it/s]"
          ]
        },
        {
          "name": "stdout",
          "output_type": "stream",
          "text": [
            "                   all         85        242      0.717      0.911      0.812      0.629\n"
          ]
        },
        {
          "name": "stderr",
          "output_type": "stream",
          "text": [
            "\n"
          ]
        },
        {
          "name": "stdout",
          "output_type": "stream",
          "text": [
            "\n",
            "      Epoch    GPU_mem   box_loss   cls_loss   dfl_loss  Instances       Size\n"
          ]
        },
        {
          "name": "stderr",
          "output_type": "stream",
          "text": [
            "      56/70      8.26G     0.6455     0.4995     0.9831         22        640: 100%|██████████| 22/22 [00:13<00:00,  1.67it/s]\n",
            "                 Class     Images  Instances      Box(P          R      mAP50  mAP50-95): 100%|██████████| 3/3 [00:01<00:00,  2.61it/s]"
          ]
        },
        {
          "name": "stdout",
          "output_type": "stream",
          "text": [
            "                   all         85        242      0.782      0.901      0.815      0.641\n"
          ]
        },
        {
          "name": "stderr",
          "output_type": "stream",
          "text": [
            "\n"
          ]
        },
        {
          "name": "stdout",
          "output_type": "stream",
          "text": [
            "\n",
            "      Epoch    GPU_mem   box_loss   cls_loss   dfl_loss  Instances       Size\n"
          ]
        },
        {
          "name": "stderr",
          "output_type": "stream",
          "text": [
            "      57/70      8.28G     0.6448     0.4958     0.9775         10        640: 100%|██████████| 22/22 [00:13<00:00,  1.59it/s]\n",
            "                 Class     Images  Instances      Box(P          R      mAP50  mAP50-95): 100%|██████████| 3/3 [00:01<00:00,  2.51it/s]"
          ]
        },
        {
          "name": "stdout",
          "output_type": "stream",
          "text": [
            "                   all         85        242       0.78      0.926      0.814      0.649\n"
          ]
        },
        {
          "name": "stderr",
          "output_type": "stream",
          "text": [
            "\n"
          ]
        },
        {
          "name": "stdout",
          "output_type": "stream",
          "text": [
            "\n",
            "      Epoch    GPU_mem   box_loss   cls_loss   dfl_loss  Instances       Size\n"
          ]
        },
        {
          "name": "stderr",
          "output_type": "stream",
          "text": [
            "      58/70      8.27G     0.6226     0.4595      0.987          5        640: 100%|██████████| 22/22 [00:13<00:00,  1.68it/s]\n",
            "                 Class     Images  Instances      Box(P          R      mAP50  mAP50-95): 100%|██████████| 3/3 [00:01<00:00,  1.56it/s]"
          ]
        },
        {
          "name": "stdout",
          "output_type": "stream",
          "text": [
            "                   all         85        242      0.782      0.918       0.85      0.681\n"
          ]
        },
        {
          "name": "stderr",
          "output_type": "stream",
          "text": [
            "\n"
          ]
        },
        {
          "name": "stdout",
          "output_type": "stream",
          "text": [
            "\n",
            "      Epoch    GPU_mem   box_loss   cls_loss   dfl_loss  Instances       Size\n"
          ]
        },
        {
          "name": "stderr",
          "output_type": "stream",
          "text": [
            "      59/70      8.27G     0.5995     0.4503     0.9646          8        640: 100%|██████████| 22/22 [00:12<00:00,  1.69it/s]\n",
            "                 Class     Images  Instances      Box(P          R      mAP50  mAP50-95): 100%|██████████| 3/3 [00:01<00:00,  2.60it/s]"
          ]
        },
        {
          "name": "stdout",
          "output_type": "stream",
          "text": [
            "                   all         85        242      0.782      0.919      0.848      0.674\n"
          ]
        },
        {
          "name": "stderr",
          "output_type": "stream",
          "text": [
            "\n"
          ]
        },
        {
          "name": "stdout",
          "output_type": "stream",
          "text": [
            "\n",
            "      Epoch    GPU_mem   box_loss   cls_loss   dfl_loss  Instances       Size\n"
          ]
        },
        {
          "name": "stderr",
          "output_type": "stream",
          "text": [
            "      60/70      8.29G     0.6064       0.46     0.9814         14        640: 100%|██████████| 22/22 [00:14<00:00,  1.57it/s]\n",
            "                 Class     Images  Instances      Box(P          R      mAP50  mAP50-95): 100%|██████████| 3/3 [00:01<00:00,  2.48it/s]"
          ]
        },
        {
          "name": "stdout",
          "output_type": "stream",
          "text": [
            "                   all         85        242      0.785      0.933      0.853      0.682\n"
          ]
        },
        {
          "name": "stderr",
          "output_type": "stream",
          "text": [
            "\n"
          ]
        },
        {
          "name": "stdout",
          "output_type": "stream",
          "text": [
            "Closing dataloader mosaic\n",
            "\u001b[34m\u001b[1malbumentations: \u001b[0mBlur(p=0.01, blur_limit=(3, 7)), MedianBlur(p=0.01, blur_limit=(3, 7)), ToGray(p=0.01, method='weighted_average', num_output_channels=3), CLAHE(p=0.01, clip_limit=(1.0, 4.0), tile_grid_size=(8, 8))\n",
            "\n",
            "      Epoch    GPU_mem   box_loss   cls_loss   dfl_loss  Instances       Size\n"
          ]
        },
        {
          "name": "stderr",
          "output_type": "stream",
          "text": [
            "      61/70      8.23G     0.6479     0.4609     0.9891          2        640: 100%|██████████| 22/22 [00:14<00:00,  1.51it/s]\n",
            "                 Class     Images  Instances      Box(P          R      mAP50  mAP50-95): 100%|██████████| 3/3 [00:01<00:00,  2.57it/s]"
          ]
        },
        {
          "name": "stdout",
          "output_type": "stream",
          "text": [
            "                   all         85        242      0.805       0.89      0.842       0.69\n"
          ]
        },
        {
          "name": "stderr",
          "output_type": "stream",
          "text": [
            "\n"
          ]
        },
        {
          "name": "stdout",
          "output_type": "stream",
          "text": [
            "\n",
            "      Epoch    GPU_mem   box_loss   cls_loss   dfl_loss  Instances       Size\n"
          ]
        },
        {
          "name": "stderr",
          "output_type": "stream",
          "text": [
            "      62/70      8.27G     0.5834     0.4046     0.9309         20        640: 100%|██████████| 22/22 [00:13<00:00,  1.64it/s]\n",
            "                 Class     Images  Instances      Box(P          R      mAP50  mAP50-95): 100%|██████████| 3/3 [00:01<00:00,  2.24it/s]"
          ]
        },
        {
          "name": "stdout",
          "output_type": "stream",
          "text": [
            "                   all         85        242      0.776       0.95      0.853      0.705\n"
          ]
        },
        {
          "name": "stderr",
          "output_type": "stream",
          "text": [
            "\n"
          ]
        },
        {
          "name": "stdout",
          "output_type": "stream",
          "text": [
            "\n",
            "      Epoch    GPU_mem   box_loss   cls_loss   dfl_loss  Instances       Size\n"
          ]
        },
        {
          "name": "stderr",
          "output_type": "stream",
          "text": [
            "      63/70      8.24G     0.5954     0.4145      0.981          2        640: 100%|██████████| 22/22 [00:12<00:00,  1.71it/s]\n",
            "                 Class     Images  Instances      Box(P          R      mAP50  mAP50-95): 100%|██████████| 3/3 [00:01<00:00,  2.20it/s]"
          ]
        },
        {
          "name": "stdout",
          "output_type": "stream",
          "text": [
            "                   all         85        242       0.76      0.917      0.848      0.681\n"
          ]
        },
        {
          "name": "stderr",
          "output_type": "stream",
          "text": [
            "\n"
          ]
        },
        {
          "name": "stdout",
          "output_type": "stream",
          "text": [
            "\n",
            "      Epoch    GPU_mem   box_loss   cls_loss   dfl_loss  Instances       Size\n"
          ]
        },
        {
          "name": "stderr",
          "output_type": "stream",
          "text": [
            "      64/70      8.28G     0.6333     0.4192       1.01          2        640: 100%|██████████| 22/22 [00:13<00:00,  1.67it/s]\n",
            "                 Class     Images  Instances      Box(P          R      mAP50  mAP50-95): 100%|██████████| 3/3 [00:01<00:00,  1.54it/s]"
          ]
        },
        {
          "name": "stdout",
          "output_type": "stream",
          "text": [
            "                   all         85        242      0.763      0.917      0.848      0.688\n"
          ]
        },
        {
          "name": "stderr",
          "output_type": "stream",
          "text": [
            "\n"
          ]
        },
        {
          "name": "stdout",
          "output_type": "stream",
          "text": [
            "\n",
            "      Epoch    GPU_mem   box_loss   cls_loss   dfl_loss  Instances       Size\n"
          ]
        },
        {
          "name": "stderr",
          "output_type": "stream",
          "text": [
            "      65/70      8.22G     0.5792       0.38     0.9409          7        640: 100%|██████████| 22/22 [00:13<00:00,  1.68it/s]\n",
            "                 Class     Images  Instances      Box(P          R      mAP50  mAP50-95): 100%|██████████| 3/3 [00:01<00:00,  2.57it/s]"
          ]
        },
        {
          "name": "stdout",
          "output_type": "stream",
          "text": [
            "                   all         85        242      0.744      0.921      0.839       0.69\n"
          ]
        },
        {
          "name": "stderr",
          "output_type": "stream",
          "text": [
            "\n"
          ]
        },
        {
          "name": "stdout",
          "output_type": "stream",
          "text": [
            "\n",
            "      Epoch    GPU_mem   box_loss   cls_loss   dfl_loss  Instances       Size\n"
          ]
        },
        {
          "name": "stderr",
          "output_type": "stream",
          "text": [
            "      66/70      8.26G     0.6346     0.5097      0.983          4        640: 100%|██████████| 22/22 [00:14<00:00,  1.57it/s]\n",
            "                 Class     Images  Instances      Box(P          R      mAP50  mAP50-95): 100%|██████████| 3/3 [00:01<00:00,  2.57it/s]"
          ]
        },
        {
          "name": "stdout",
          "output_type": "stream",
          "text": [
            "                   all         85        242       0.76      0.917      0.841      0.685\n"
          ]
        },
        {
          "name": "stderr",
          "output_type": "stream",
          "text": [
            "\n"
          ]
        },
        {
          "name": "stdout",
          "output_type": "stream",
          "text": [
            "\n",
            "      Epoch    GPU_mem   box_loss   cls_loss   dfl_loss  Instances       Size\n"
          ]
        },
        {
          "name": "stderr",
          "output_type": "stream",
          "text": [
            "      67/70      8.24G      0.574     0.3758     0.9274          6        640: 100%|██████████| 22/22 [00:13<00:00,  1.68it/s]\n",
            "                 Class     Images  Instances      Box(P          R      mAP50  mAP50-95): 100%|██████████| 3/3 [00:01<00:00,  2.62it/s]"
          ]
        },
        {
          "name": "stdout",
          "output_type": "stream",
          "text": [
            "                   all         85        242      0.779      0.913      0.838      0.686\n"
          ]
        },
        {
          "name": "stderr",
          "output_type": "stream",
          "text": [
            "\n"
          ]
        },
        {
          "name": "stdout",
          "output_type": "stream",
          "text": [
            "\n",
            "      Epoch    GPU_mem   box_loss   cls_loss   dfl_loss  Instances       Size\n"
          ]
        },
        {
          "name": "stderr",
          "output_type": "stream",
          "text": [
            "      68/70      8.34G     0.5493      0.357     0.9367          3        640: 100%|██████████| 22/22 [00:13<00:00,  1.63it/s]\n",
            "                 Class     Images  Instances      Box(P          R      mAP50  mAP50-95): 100%|██████████| 3/3 [00:01<00:00,  2.53it/s]"
          ]
        },
        {
          "name": "stdout",
          "output_type": "stream",
          "text": [
            "                   all         85        242      0.779      0.933      0.846      0.691\n"
          ]
        },
        {
          "name": "stderr",
          "output_type": "stream",
          "text": [
            "\n"
          ]
        },
        {
          "name": "stdout",
          "output_type": "stream",
          "text": [
            "\n",
            "      Epoch    GPU_mem   box_loss   cls_loss   dfl_loss  Instances       Size\n"
          ]
        },
        {
          "name": "stderr",
          "output_type": "stream",
          "text": [
            "      69/70      8.27G     0.5706      0.371     0.9514          2        640: 100%|██████████| 22/22 [00:13<00:00,  1.68it/s]\n",
            "                 Class     Images  Instances      Box(P          R      mAP50  mAP50-95): 100%|██████████| 3/3 [00:01<00:00,  2.31it/s]"
          ]
        },
        {
          "name": "stdout",
          "output_type": "stream",
          "text": [
            "                   all         85        242      0.778      0.929      0.849      0.689\n"
          ]
        },
        {
          "name": "stderr",
          "output_type": "stream",
          "text": [
            "\n"
          ]
        },
        {
          "name": "stdout",
          "output_type": "stream",
          "text": [
            "\n",
            "      Epoch    GPU_mem   box_loss   cls_loss   dfl_loss  Instances       Size\n"
          ]
        },
        {
          "name": "stderr",
          "output_type": "stream",
          "text": [
            "      70/70      8.21G     0.5647     0.3918     0.9453          1        640: 100%|██████████| 22/22 [00:13<00:00,  1.65it/s]\n",
            "                 Class     Images  Instances      Box(P          R      mAP50  mAP50-95): 100%|██████████| 3/3 [00:01<00:00,  2.34it/s]"
          ]
        },
        {
          "name": "stdout",
          "output_type": "stream",
          "text": [
            "                   all         85        242      0.775       0.93      0.856      0.704\n"
          ]
        },
        {
          "name": "stderr",
          "output_type": "stream",
          "text": [
            "\n"
          ]
        },
        {
          "name": "stdout",
          "output_type": "stream",
          "text": [
            "\n",
            "70 epochs completed in 0.327 hours.\n",
            "Optimizer stripped from /content/drive/MyDrive/dataHN/experiments/yolo_doc_ill_detect/training/runs/run8_yolo11m_1024/weights/last.pt, 40.5MB\n",
            "Optimizer stripped from /content/drive/MyDrive/dataHN/experiments/yolo_doc_ill_detect/training/runs/run8_yolo11m_1024/weights/best.pt, 40.5MB\n",
            "\n",
            "Validating /content/drive/MyDrive/dataHN/experiments/yolo_doc_ill_detect/training/runs/run8_yolo11m_1024/weights/best.pt...\n",
            "Ultralytics 8.3.179 🚀 Python-3.11.13 torch-2.6.0+cu124 CUDA:0 (Tesla T4, 15095MiB)\n",
            "YOLO11m summary (fused): 125 layers, 20,030,803 parameters, 0 gradients, 67.6 GFLOPs\n"
          ]
        },
        {
          "name": "stderr",
          "output_type": "stream",
          "text": [
            "                 Class     Images  Instances      Box(P          R      mAP50  mAP50-95): 100%|██████████| 3/3 [00:01<00:00,  1.50it/s]\n"
          ]
        },
        {
          "name": "stdout",
          "output_type": "stream",
          "text": [
            "                   all         85        242      0.776       0.95      0.853      0.705\n",
            "Speed: 0.2ms preprocess, 10.9ms inference, 0.0ms loss, 2.7ms postprocess per image\n",
            "Results saved to \u001b[1m/content/drive/MyDrive/dataHN/experiments/yolo_doc_ill_detect/training/runs/run8_yolo11m_1024\u001b[0m\n"
          ]
        }
      ],
      "source": [
        "model = YOLO(model_name)\n",
        "\n",
        "results = model.train(\n",
        "    data=config,\n",
        "    epochs=epochs,\n",
        "    batch = batch,\n",
        "    dropout=dropout,\n",
        "    project = project,\n",
        "    name = name\n",
        ")\n"
      ]
    },
    {
      "cell_type": "code",
      "execution_count": null,
      "metadata": {
        "colab": {
          "base_uri": "https://localhost:8080/"
        },
        "id": "l6YnHOlC2AE0",
        "outputId": "c8386151-977b-4071-b5ea-2bb7676fd53c"
      },
      "outputs": [
        {
          "name": "stdout",
          "output_type": "stream",
          "text": [
            "\n",
            "image 1/1 /content/drive/MyDrive/dataHN/data/cleaned/doc_imgs_cleaned/Maciet_142-4_015.jpg: 640x480 2 illustrations, 1365.8ms\n",
            "Speed: 14.9ms preprocess, 1365.8ms inference, 33.7ms postprocess per image at shape (1, 3, 640, 480)\n"
          ]
        }
      ],
      "source": [
        "test = model.predict('/content/drive/MyDrive/dataHN/data/cleaned/doc_imgs_cleaned/Maciet_142-4_015.jpg', save_dir = True)\n"
      ]
    },
    {
      "cell_type": "code",
      "execution_count": null,
      "metadata": {
        "colab": {
          "base_uri": "https://localhost:8080/",
          "height": 452
        },
        "id": "keaTjndk3A8-",
        "outputId": "887c86ef-96b6-4ada-e8d5-76bf006d58a4"
      },
      "outputs": [
        {
          "data": {
            "text/plain": [
              "<matplotlib.image.AxesImage at 0x7b1bf672fa10>"
            ]
          },
          "execution_count": 10,
          "metadata": {},
          "output_type": "execute_result"
        },
        {
          "data": {
            "image/png": "[encoded data removed]",
            "text/plain": [
              "<Figure size 640x480 with 1 Axes>"
            ]
          },
          "metadata": {},
          "output_type": "display_data"
        }
      ],
      "source": [
        "import matplotlib.pyplot as plt\n",
        "import cv2\n",
        "\n",
        "resultat = test[0].plot()\n",
        "plt.imshow(cv2.cvtColor(resultat, cv2.COLOR_BGR2RGB))\n"
      ]
    },
    {
      "cell_type": "markdown",
      "metadata": {
        "id": "fyw209MJDpai"
      },
      "source": [
        "### çöp?"
      ]
    },
    {
      "cell_type": "code",
      "execution_count": null,
      "metadata": {
        "colab": {
          "base_uri": "https://localhost:8080/"
        },
        "collapsed": true,
        "id": "EIYVOi6ix11A",
        "outputId": "1e743a6e-5a42-4f2d-d585-d692765bd084"
      },
      "outputs": [
        {
          "name": "stdout",
          "output_type": "stream",
          "text": [
            "Ultralytics 8.3.173 🚀 Python-3.11.13 torch-2.6.0+cu124 CUDA:0 (Tesla T4, 15095MiB)\n",
            "\u001b[34m\u001b[1mengine/trainer: \u001b[0magnostic_nms=False, amp=True, augment=False, auto_augment=randaugment, batch=32, bgr=0.0, box=7.5, cache=False, cfg=None, classes=None, close_mosaic=10, cls=0.5, conf=None, copy_paste=0.0, copy_paste_mode=flip, cos_lr=False, cutmix=0.0, data=/content/drive/MyDrive/dataHN/experiments/yolo_doc_cls/data, degrees=0.0, deterministic=True, device=None, dfl=1.5, dnn=False, dropout=0.1, dynamic=False, embed=None, epochs=20, erasing=0.4, exist_ok=False, fliplr=0.5, flipud=0.0, format=torchscript, fraction=1.0, freeze=None, half=False, hsv_h=0.015, hsv_s=0.7, hsv_v=0.4, imgsz=640, int8=False, iou=0.7, keras=False, kobj=1.0, line_width=None, lr0=0.0005, lrf=0.01, mask_ratio=4, max_det=300, mixup=0.0, mode=train, model=yolo11s-cls.pt, momentum=0.937, mosaic=1.0, multi_scale=False, name=run5_yolo11s-cls2, nbs=64, nms=False, opset=None, optimize=False, optimizer=auto, overlap_mask=True, patience=100, perspective=0.0, plots=True, pose=12.0, pretrained=True, profile=False, project=/content/drive/MyDrive/dataHN/experiments/yolo_doc_cls/training/runs, rect=False, resume=False, retina_masks=False, save=True, save_conf=False, save_crop=False, save_dir=/content/drive/MyDrive/dataHN/experiments/yolo_doc_cls/training/runs/run5_yolo11s-cls2, save_frames=False, save_json=False, save_period=-1, save_txt=False, scale=0.5, seed=0, shear=0.0, show=False, show_boxes=True, show_conf=True, show_labels=True, simplify=True, single_cls=False, source=None, split=val, stream_buffer=False, task=classify, time=None, tracker=botsort.yaml, translate=0.1, val=True, verbose=True, vid_stride=1, visualize=False, warmup_bias_lr=0.1, warmup_epochs=3.0, warmup_momentum=0.8, weight_decay=0.0005, workers=8, workspace=None\n",
            "\u001b[34m\u001b[1mtrain:\u001b[0m /content/drive/MyDrive/dataHN/experiments/yolo_doc_cls/data/train... found 749 images in 2 classes ✅ \n",
            "\u001b[34m\u001b[1mval:\u001b[0m /content/drive/MyDrive/dataHN/experiments/yolo_doc_cls/data/val... found 188 images in 2 classes ✅ \n",
            "\u001b[34m\u001b[1mtest:\u001b[0m None...\n",
            "Overriding model.yaml nc=80 with nc=2\n",
            "\n",
            "                   from  n    params  module                                       arguments                     \n",
            "  0                  -1  1       928  ultralytics.nn.modules.conv.Conv             [3, 32, 3, 2]                 \n",
            "  1                  -1  1     18560  ultralytics.nn.modules.conv.Conv             [32, 64, 3, 2]                \n",
            "  2                  -1  1     26080  ultralytics.nn.modules.block.C3k2            [64, 128, 1, False, 0.25]     \n",
            "  3                  -1  1    147712  ultralytics.nn.modules.conv.Conv             [128, 128, 3, 2]              \n",
            "  4                  -1  1    103360  ultralytics.nn.modules.block.C3k2            [128, 256, 1, False, 0.25]    \n",
            "  5                  -1  1    590336  ultralytics.nn.modules.conv.Conv             [256, 256, 3, 2]              \n",
            "  6                  -1  1    346112  ultralytics.nn.modules.block.C3k2            [256, 256, 1, True]           \n",
            "  7                  -1  1   1180672  ultralytics.nn.modules.conv.Conv             [256, 512, 3, 2]              \n",
            "  8                  -1  1   1380352  ultralytics.nn.modules.block.C3k2            [512, 512, 1, True]           \n",
            "  9                  -1  1    990976  ultralytics.nn.modules.block.C2PSA           [512, 512, 1]                 \n",
            " 10                  -1  1    660482  ultralytics.nn.modules.head.Classify         [512, 2]                      \n",
            "YOLO11s-cls summary: 86 layers, 5,445,570 parameters, 5,445,570 gradients, 12.1 GFLOPs\n",
            "Transferred 234/236 items from pretrained weights\n",
            "\u001b[34m\u001b[1mAMP: \u001b[0mrunning Automatic Mixed Precision (AMP) checks...\n",
            "\u001b[34m\u001b[1mAMP: \u001b[0mchecks passed ✅\n",
            "WARNING ⚠️ \u001b[34m\u001b[1mtrain: \u001b[0mSlow image access detected (ping: 14.5±31.4 ms, read: 179.3±142.3 MB/s, size: 2526.1 KB). Use local storage instead of remote/mounted storage for better performance. See https://docs.ultralytics.com/guides/model-training-tips/\n"
          ]
        },
        {
          "name": "stderr",
          "output_type": "stream",
          "text": [
            "\u001b[34m\u001b[1mtrain: \u001b[0mScanning /content/drive/MyDrive/dataHN/experiments/yolo_doc_cls/data/train... 24 images, 0 corrupt:   3%|▎         | 24/749 [00:00<00:03, 235.09it/s]/usr/local/lib/python3.11/dist-packages/PIL/Image.py:3452: DecompressionBombWarning: Image size (131542390 pixels) exceeds limit of 89478485 pixels, could be decompression bomb DOS attack.\n",
            "  warnings.warn(\n",
            "\u001b[34m\u001b[1mtrain: \u001b[0mScanning /content/drive/MyDrive/dataHN/experiments/yolo_doc_cls/data/train... 749 images, 0 corrupt: 100%|██████████| 749/749 [00:04<00:00, 155.36it/s]\n"
          ]
        },
        {
          "name": "stdout",
          "output_type": "stream",
          "text": [
            "\u001b[34m\u001b[1mtrain: \u001b[0mNew cache created: /content/drive/MyDrive/dataHN/experiments/yolo_doc_cls/data/train.cache\n",
            "\u001b[34m\u001b[1mval: \u001b[0mFast image access ✅ (ping: 2.3±3.1 ms, read: 155.5±116.3 MB/s, size: 2955.1 KB)\n"
          ]
        },
        {
          "name": "stderr",
          "output_type": "stream",
          "text": [
            "\u001b[34m\u001b[1mval: \u001b[0mScanning /content/drive/MyDrive/dataHN/experiments/yolo_doc_cls/data/val... 188 images, 0 corrupt: 100%|██████████| 188/188 [00:01<00:00, 102.82it/s]"
          ]
        },
        {
          "name": "stdout",
          "output_type": "stream",
          "text": [
            "\u001b[34m\u001b[1mval: \u001b[0mNew cache created: /content/drive/MyDrive/dataHN/experiments/yolo_doc_cls/data/val.cache\n"
          ]
        },
        {
          "name": "stderr",
          "output_type": "stream",
          "text": [
            "\n"
          ]
        },
        {
          "name": "stdout",
          "output_type": "stream",
          "text": [
            "\u001b[34m\u001b[1moptimizer:\u001b[0m 'optimizer=auto' found, ignoring 'lr0=0.0005' and 'momentum=0.937' and determining best 'optimizer', 'lr0' and 'momentum' automatically... \n",
            "\u001b[34m\u001b[1moptimizer:\u001b[0m AdamW(lr=0.001667, momentum=0.9) with parameter groups 39 weight(decay=0.0), 40 weight(decay=0.0005), 40 bias(decay=0.0)\n",
            "Image sizes 640 train, 640 val\n",
            "Using 2 dataloader workers\n",
            "Logging results to \u001b[1m/content/drive/MyDrive/dataHN/experiments/yolo_doc_cls/training/runs/run5_yolo11s-cls2\u001b[0m\n",
            "Starting training for 20 epochs...\n",
            "\n",
            "      Epoch    GPU_mem       loss  Instances       Size\n"
          ]
        },
        {
          "name": "stderr",
          "output_type": "stream",
          "text": [
            "       1/20      5.64G      0.468         32        640:  54%|█████▍    | 13/24 [05:54<04:48, 26.20s/it]/usr/local/lib/python3.11/dist-packages/PIL/Image.py:3452: DecompressionBombWarning: Image size (101181080 pixels) exceeds limit of 89478485 pixels, could be decompression bomb DOS attack.\n",
            "  warnings.warn(\n",
            "       1/20      5.64G     0.3134         13        640: 100%|██████████| 24/24 [13:02<00:00, 32.61s/it]\n",
            "               classes   top1_acc   top5_acc: 100%|██████████| 3/3 [00:00<00:00,  3.74it/s]"
          ]
        },
        {
          "name": "stdout",
          "output_type": "stream",
          "text": [
            "                   all      0.963          1\n"
          ]
        },
        {
          "name": "stderr",
          "output_type": "stream",
          "text": [
            "\n"
          ]
        },
        {
          "name": "stdout",
          "output_type": "stream",
          "text": [
            "\n",
            "      Epoch    GPU_mem       loss  Instances       Size\n"
          ]
        },
        {
          "name": "stderr",
          "output_type": "stream",
          "text": [
            "       2/20      7.03G    0.09409         32        640:  88%|████████▊ | 21/24 [15:21<01:39, 33.04s/it]/usr/local/lib/python3.11/dist-packages/PIL/Image.py:3452: DecompressionBombWarning: Image size (93644784 pixels) exceeds limit of 89478485 pixels, could be decompression bomb DOS attack.\n",
            "  warnings.warn(\n",
            "       2/20      7.03G    0.09979         13        640: 100%|██████████| 24/24 [17:40<00:00, 44.19s/it]\n",
            "               classes   top1_acc   top5_acc: 100%|██████████| 3/3 [00:00<00:00,  4.97it/s]"
          ]
        },
        {
          "name": "stdout",
          "output_type": "stream",
          "text": [
            "                   all      0.957          1\n"
          ]
        },
        {
          "name": "stderr",
          "output_type": "stream",
          "text": [
            "\n"
          ]
        },
        {
          "name": "stdout",
          "output_type": "stream",
          "text": [
            "\n",
            "      Epoch    GPU_mem       loss  Instances       Size\n"
          ]
        },
        {
          "name": "stderr",
          "output_type": "stream",
          "text": [
            "       3/20      7.05G     0.1611         13        640: 100%|██████████| 24/24 [24:36<00:00, 61.52s/it]\n",
            "               classes   top1_acc   top5_acc: 100%|██████████| 3/3 [00:00<00:00,  4.70it/s]"
          ]
        },
        {
          "name": "stdout",
          "output_type": "stream",
          "text": [
            "                   all      0.941          1\n"
          ]
        },
        {
          "name": "stderr",
          "output_type": "stream",
          "text": [
            "\n"
          ]
        },
        {
          "name": "stdout",
          "output_type": "stream",
          "text": [
            "\n",
            "      Epoch    GPU_mem       loss  Instances       Size\n"
          ]
        },
        {
          "name": "stderr",
          "output_type": "stream",
          "text": [
            "       4/20      7.07G     0.1428         32        640:  58%|█████▊    | 14/24 [17:57<11:13, 67.38s/it]/usr/local/lib/python3.11/dist-packages/PIL/Image.py:3452: DecompressionBombWarning: Image size (100104642 pixels) exceeds limit of 89478485 pixels, could be decompression bomb DOS attack.\n",
            "  warnings.warn(\n",
            "       4/20      7.07G     0.1529         13        640: 100%|██████████| 24/24 [29:20<00:00, 73.34s/it]\n",
            "               classes   top1_acc   top5_acc: 100%|██████████| 3/3 [00:00<00:00,  5.13it/s]"
          ]
        },
        {
          "name": "stdout",
          "output_type": "stream",
          "text": [
            "                   all       0.84          1\n"
          ]
        },
        {
          "name": "stderr",
          "output_type": "stream",
          "text": [
            "\n"
          ]
        },
        {
          "name": "stdout",
          "output_type": "stream",
          "text": [
            "\n",
            "      Epoch    GPU_mem       loss  Instances       Size\n"
          ]
        },
        {
          "name": "stderr",
          "output_type": "stream",
          "text": [
            "       5/20      7.08G     0.1923         32        640:  75%|███████▌  | 18/24 [28:29<06:59, 69.86s/it]"
          ]
        }
      ],
      "source": [
        "# model = YOLO(model_name)\n",
        "# results = model.train(data = data_dir,\n",
        "#                       epochs=epochs,\n",
        "#                       batch = batch,\n",
        "#                       dropout=dropout,\n",
        "#                       project = project,\n",
        "#                       name = name,\n",
        "#                       imgsz=imgsz,\n",
        "#                       lr0= lr0\n",
        "#                       )"
      ]
    },
    {
      "cell_type": "code",
      "execution_count": null,
      "metadata": {
        "colab": {
          "base_uri": "https://localhost:8080/"
        },
        "collapsed": true,
        "id": "qzMfSnauePwn",
        "outputId": "e8fa507e-e372-4629-fe9d-7b5cb5e45afc"
      },
      "outputs": [
        {
          "name": "stderr",
          "output_type": "stream",
          "text": [
            "Downloading https://github.com/ultralytics/assets/releases/download/v8.3.0/yolo11s-cls.pt to 'yolo11s-cls.pt': 100%|██████████| 13.0M/13.0M [00:00<00:00, 96.9MB/s]\n"
          ]
        },
        {
          "name": "stdout",
          "output_type": "stream",
          "text": [
            "Ultralytics 8.3.174 🚀 Python-3.11.13 torch-2.6.0+cu124 CUDA:0 (Tesla T4, 15095MiB)\n",
            "\u001b[34m\u001b[1mengine/trainer: \u001b[0magnostic_nms=False, amp=True, augment=False, auto_augment=randaugment, batch=16, bgr=0.0, box=7.5, cache=False, cfg=None, classes=None, close_mosaic=10, cls=0.5, conf=None, copy_paste=0.0, copy_paste_mode=flip, cos_lr=False, cutmix=0.0, data=/content/dataset_resized, degrees=0.0, deterministic=True, device=None, dfl=1.5, dnn=False, dropout=0.1, dynamic=False, embed=None, epochs=20, erasing=0.4, exist_ok=False, fliplr=0.5, flipud=0.0, format=torchscript, fraction=1.0, freeze=None, half=False, hsv_h=0.015, hsv_s=0.7, hsv_v=0.4, imgsz=224, int8=False, iou=0.7, keras=False, kobj=1.0, line_width=None, lr0=0.01, lrf=0.01, mask_ratio=4, max_det=300, mixup=0.0, mode=train, model=yolo11s-cls.pt, momentum=0.937, mosaic=1.0, multi_scale=False, name=run7_yolo11s-cls_img_resized, nbs=64, nms=False, opset=None, optimize=False, optimizer=auto, overlap_mask=True, patience=100, perspective=0.0, plots=True, pose=12.0, pretrained=True, profile=False, project=/content/drive/MyDrive/dataHN/experiments/yolo_doc_cls/training/runs, rect=False, resume=False, retina_masks=False, save=True, save_conf=False, save_crop=False, save_dir=/content/drive/MyDrive/dataHN/experiments/yolo_doc_cls/training/runs/run7_yolo11s-cls_img_resized, save_frames=False, save_json=False, save_period=-1, save_txt=False, scale=0.5, seed=0, shear=0.0, show=False, show_boxes=True, show_conf=True, show_labels=True, simplify=True, single_cls=False, source=None, split=val, stream_buffer=False, task=classify, time=None, tracker=botsort.yaml, translate=0.1, val=True, verbose=True, vid_stride=1, visualize=False, warmup_bias_lr=0.1, warmup_epochs=3.0, warmup_momentum=0.8, weight_decay=0.0005, workers=8, workspace=None\n",
            "\u001b[34m\u001b[1mtrain:\u001b[0m /content/dataset_resized/train... found 749 images in 2 classes ✅ \n",
            "\u001b[34m\u001b[1mval:\u001b[0m /content/dataset_resized/val... found 188 images in 2 classes ✅ \n",
            "\u001b[34m\u001b[1mtest:\u001b[0m None...\n",
            "Overriding model.yaml nc=80 with nc=2\n",
            "\n",
            "                   from  n    params  module                                       arguments                     \n",
            "  0                  -1  1       928  ultralytics.nn.modules.conv.Conv             [3, 32, 3, 2]                 \n",
            "  1                  -1  1     18560  ultralytics.nn.modules.conv.Conv             [32, 64, 3, 2]                \n",
            "  2                  -1  1     26080  ultralytics.nn.modules.block.C3k2            [64, 128, 1, False, 0.25]     \n",
            "  3                  -1  1    147712  ultralytics.nn.modules.conv.Conv             [128, 128, 3, 2]              \n",
            "  4                  -1  1    103360  ultralytics.nn.modules.block.C3k2            [128, 256, 1, False, 0.25]    \n",
            "  5                  -1  1    590336  ultralytics.nn.modules.conv.Conv             [256, 256, 3, 2]              \n",
            "  6                  -1  1    346112  ultralytics.nn.modules.block.C3k2            [256, 256, 1, True]           \n",
            "  7                  -1  1   1180672  ultralytics.nn.modules.conv.Conv             [256, 512, 3, 2]              \n",
            "  8                  -1  1   1380352  ultralytics.nn.modules.block.C3k2            [512, 512, 1, True]           \n",
            "  9                  -1  1    990976  ultralytics.nn.modules.block.C2PSA           [512, 512, 1]                 \n",
            " 10                  -1  1    660482  ultralytics.nn.modules.head.Classify         [512, 2]                      \n",
            "YOLO11s-cls summary: 86 layers, 5,445,570 parameters, 5,445,570 gradients, 12.1 GFLOPs\n",
            "Transferred 234/236 items from pretrained weights\n",
            "\u001b[34m\u001b[1mAMP: \u001b[0mrunning Automatic Mixed Precision (AMP) checks...\n"
          ]
        },
        {
          "name": "stderr",
          "output_type": "stream",
          "text": [
            "Downloading https://github.com/ultralytics/assets/releases/download/v8.3.0/yolo11n.pt to 'yolo11n.pt': 100%|██████████| 5.35M/5.35M [00:00<00:00, 56.5MB/s]\n"
          ]
        },
        {
          "name": "stdout",
          "output_type": "stream",
          "text": [
            "\u001b[34m\u001b[1mAMP: \u001b[0mchecks passed ✅\n",
            "\u001b[34m\u001b[1mtrain: \u001b[0mFast image access ✅ (ping: 0.0±0.0 ms, read: 1459.0±525.1 MB/s, size: 46.8 KB)\n"
          ]
        },
        {
          "name": "stderr",
          "output_type": "stream",
          "text": [
            "\u001b[34m\u001b[1mtrain: \u001b[0mScanning /content/dataset_resized/train... 749 images, 0 corrupt: 100%|██████████| 749/749 [00:00<00:00, 2485.06it/s]"
          ]
        },
        {
          "name": "stdout",
          "output_type": "stream",
          "text": [
            "\u001b[34m\u001b[1mtrain: \u001b[0mNew cache created: /content/dataset_resized/train.cache\n"
          ]
        },
        {
          "name": "stderr",
          "output_type": "stream",
          "text": [
            "\n"
          ]
        },
        {
          "name": "stdout",
          "output_type": "stream",
          "text": [
            "\u001b[34m\u001b[1mval: \u001b[0mFast image access ✅ (ping: 0.0±0.0 ms, read: 833.5±673.9 MB/s, size: 52.7 KB)\n"
          ]
        },
        {
          "name": "stderr",
          "output_type": "stream",
          "text": [
            "\u001b[34m\u001b[1mval: \u001b[0mScanning /content/dataset_resized/val... 188 images, 0 corrupt: 100%|██████████| 188/188 [00:00<00:00, 6439.39it/s]"
          ]
        },
        {
          "name": "stdout",
          "output_type": "stream",
          "text": [
            "\u001b[34m\u001b[1mval: \u001b[0mNew cache created: /content/dataset_resized/val.cache\n"
          ]
        },
        {
          "name": "stderr",
          "output_type": "stream",
          "text": [
            "\n"
          ]
        },
        {
          "name": "stdout",
          "output_type": "stream",
          "text": [
            "\u001b[34m\u001b[1moptimizer:\u001b[0m 'optimizer=auto' found, ignoring 'lr0=0.01' and 'momentum=0.937' and determining best 'optimizer', 'lr0' and 'momentum' automatically... \n",
            "\u001b[34m\u001b[1moptimizer:\u001b[0m AdamW(lr=0.001667, momentum=0.9) with parameter groups 39 weight(decay=0.0), 40 weight(decay=0.0005), 40 bias(decay=0.0)\n",
            "Image sizes 224 train, 224 val\n",
            "Using 2 dataloader workers\n",
            "Logging results to \u001b[1m/content/drive/MyDrive/dataHN/experiments/yolo_doc_cls/training/runs/run7_yolo11s-cls_img_resized\u001b[0m\n",
            "Starting training for 20 epochs...\n",
            "\n",
            "      Epoch    GPU_mem       loss  Instances       Size\n"
          ]
        },
        {
          "name": "stderr",
          "output_type": "stream",
          "text": [
            "       1/20     0.506G     0.8507         16        224:   6%|▋         | 3/47 [00:02<00:22,  1.99it/s]\n",
            "Downloading https://ultralytics.com/assets/Arial.ttf to '/root/.config/Ultralytics/Arial.ttf': 100%|██████████| 755k/755k [00:00<00:00, 9.94MB/s]\n",
            "       1/20     0.516G     0.3183         13        224: 100%|██████████| 47/47 [00:08<00:00,  5.31it/s]\n",
            "               classes   top1_acc   top5_acc: 100%|██████████| 6/6 [00:01<00:00,  4.61it/s]"
          ]
        },
        {
          "name": "stdout",
          "output_type": "stream",
          "text": [
            "                   all      0.979          1\n"
          ]
        },
        {
          "name": "stderr",
          "output_type": "stream",
          "text": [
            "\n"
          ]
        },
        {
          "name": "stdout",
          "output_type": "stream",
          "text": [
            "\n",
            "      Epoch    GPU_mem       loss  Instances       Size\n"
          ]
        },
        {
          "name": "stderr",
          "output_type": "stream",
          "text": [
            "       2/20     0.619G     0.1848         13        224: 100%|██████████| 47/47 [00:06<00:00,  7.22it/s]\n",
            "               classes   top1_acc   top5_acc: 100%|██████████| 6/6 [00:00<00:00,  9.96it/s]"
          ]
        },
        {
          "name": "stdout",
          "output_type": "stream",
          "text": [
            "                   all      0.973          1\n"
          ]
        },
        {
          "name": "stderr",
          "output_type": "stream",
          "text": [
            "\n"
          ]
        },
        {
          "name": "stdout",
          "output_type": "stream",
          "text": [
            "\n",
            "      Epoch    GPU_mem       loss  Instances       Size\n"
          ]
        },
        {
          "name": "stderr",
          "output_type": "stream",
          "text": [
            "       3/20     0.637G     0.2459         13        224: 100%|██████████| 47/47 [00:08<00:00,  5.66it/s]\n",
            "               classes   top1_acc   top5_acc: 100%|██████████| 6/6 [00:00<00:00,  7.87it/s]"
          ]
        },
        {
          "name": "stdout",
          "output_type": "stream",
          "text": [
            "                   all      0.931          1\n"
          ]
        },
        {
          "name": "stderr",
          "output_type": "stream",
          "text": [
            "\n"
          ]
        },
        {
          "name": "stdout",
          "output_type": "stream",
          "text": [
            "\n",
            "      Epoch    GPU_mem       loss  Instances       Size\n"
          ]
        },
        {
          "name": "stderr",
          "output_type": "stream",
          "text": [
            "       4/20     0.654G     0.1762         13        224: 100%|██████████| 47/47 [00:06<00:00,  7.56it/s]\n",
            "               classes   top1_acc   top5_acc: 100%|██████████| 6/6 [00:01<00:00,  4.81it/s]"
          ]
        },
        {
          "name": "stdout",
          "output_type": "stream",
          "text": [
            "                   all      0.957          1\n"
          ]
        },
        {
          "name": "stderr",
          "output_type": "stream",
          "text": [
            "\n"
          ]
        },
        {
          "name": "stdout",
          "output_type": "stream",
          "text": [
            "\n",
            "      Epoch    GPU_mem       loss  Instances       Size\n"
          ]
        },
        {
          "name": "stderr",
          "output_type": "stream",
          "text": [
            "       5/20     0.672G     0.1975         13        224: 100%|██████████| 47/47 [00:06<00:00,  7.17it/s]\n",
            "               classes   top1_acc   top5_acc: 100%|██████████| 6/6 [00:00<00:00,  6.34it/s]"
          ]
        },
        {
          "name": "stdout",
          "output_type": "stream",
          "text": [
            "                   all      0.963          1\n"
          ]
        },
        {
          "name": "stderr",
          "output_type": "stream",
          "text": [
            "\n"
          ]
        },
        {
          "name": "stdout",
          "output_type": "stream",
          "text": [
            "\n",
            "      Epoch    GPU_mem       loss  Instances       Size\n"
          ]
        },
        {
          "name": "stderr",
          "output_type": "stream",
          "text": [
            "       6/20     0.689G     0.1501         13        224: 100%|██████████| 47/47 [00:07<00:00,  6.16it/s]\n",
            "               classes   top1_acc   top5_acc: 100%|██████████| 6/6 [00:00<00:00,  6.03it/s]"
          ]
        },
        {
          "name": "stdout",
          "output_type": "stream",
          "text": [
            "                   all      0.963          1\n"
          ]
        },
        {
          "name": "stderr",
          "output_type": "stream",
          "text": [
            "\n"
          ]
        },
        {
          "name": "stdout",
          "output_type": "stream",
          "text": [
            "\n",
            "      Epoch    GPU_mem       loss  Instances       Size\n"
          ]
        },
        {
          "name": "stderr",
          "output_type": "stream",
          "text": [
            "       7/20     0.705G     0.1613         13        224: 100%|██████████| 47/47 [00:06<00:00,  7.50it/s]\n",
            "               classes   top1_acc   top5_acc: 100%|██████████| 6/6 [00:00<00:00,  6.83it/s]"
          ]
        },
        {
          "name": "stdout",
          "output_type": "stream",
          "text": [
            "                   all      0.979          1\n"
          ]
        },
        {
          "name": "stderr",
          "output_type": "stream",
          "text": [
            "\n"
          ]
        },
        {
          "name": "stdout",
          "output_type": "stream",
          "text": [
            "\n",
            "      Epoch    GPU_mem       loss  Instances       Size\n"
          ]
        },
        {
          "name": "stderr",
          "output_type": "stream",
          "text": [
            "       8/20     0.723G     0.1396         13        224: 100%|██████████| 47/47 [00:07<00:00,  6.35it/s]\n",
            "               classes   top1_acc   top5_acc: 100%|██████████| 6/6 [00:00<00:00,  7.49it/s]"
          ]
        },
        {
          "name": "stdout",
          "output_type": "stream",
          "text": [
            "                   all      0.963          1\n"
          ]
        },
        {
          "name": "stderr",
          "output_type": "stream",
          "text": [
            "\n"
          ]
        },
        {
          "name": "stdout",
          "output_type": "stream",
          "text": [
            "\n",
            "      Epoch    GPU_mem       loss  Instances       Size\n"
          ]
        },
        {
          "name": "stderr",
          "output_type": "stream",
          "text": [
            "       9/20     0.801G     0.1036         13        224: 100%|██████████| 47/47 [00:08<00:00,  5.71it/s]\n",
            "               classes   top1_acc   top5_acc: 100%|██████████| 6/6 [00:00<00:00,  8.82it/s]"
          ]
        },
        {
          "name": "stdout",
          "output_type": "stream",
          "text": [
            "                   all      0.952          1\n"
          ]
        },
        {
          "name": "stderr",
          "output_type": "stream",
          "text": [
            "\n"
          ]
        },
        {
          "name": "stdout",
          "output_type": "stream",
          "text": [
            "\n",
            "      Epoch    GPU_mem       loss  Instances       Size\n"
          ]
        },
        {
          "name": "stderr",
          "output_type": "stream",
          "text": [
            "      10/20     0.818G     0.1147         13        224: 100%|██████████| 47/47 [00:06<00:00,  7.67it/s]\n",
            "               classes   top1_acc   top5_acc: 100%|██████████| 6/6 [00:00<00:00,  6.72it/s]"
          ]
        },
        {
          "name": "stdout",
          "output_type": "stream",
          "text": [
            "                   all      0.973          1\n"
          ]
        },
        {
          "name": "stderr",
          "output_type": "stream",
          "text": [
            "\n"
          ]
        },
        {
          "name": "stdout",
          "output_type": "stream",
          "text": [
            "\n",
            "      Epoch    GPU_mem       loss  Instances       Size\n"
          ]
        },
        {
          "name": "stderr",
          "output_type": "stream",
          "text": [
            "      11/20     0.836G    0.08589         13        224: 100%|██████████| 47/47 [00:07<00:00,  6.36it/s]\n",
            "               classes   top1_acc   top5_acc: 100%|██████████| 6/6 [00:00<00:00,  8.27it/s]"
          ]
        },
        {
          "name": "stdout",
          "output_type": "stream",
          "text": [
            "                   all      0.979          1\n"
          ]
        },
        {
          "name": "stderr",
          "output_type": "stream",
          "text": [
            "\n"
          ]
        },
        {
          "name": "stdout",
          "output_type": "stream",
          "text": [
            "\n",
            "      Epoch    GPU_mem       loss  Instances       Size\n"
          ]
        },
        {
          "name": "stderr",
          "output_type": "stream",
          "text": [
            "      12/20     0.852G    0.06965         13        224: 100%|██████████| 47/47 [00:08<00:00,  5.75it/s]\n",
            "               classes   top1_acc   top5_acc: 100%|██████████| 6/6 [00:00<00:00,  6.73it/s]"
          ]
        },
        {
          "name": "stdout",
          "output_type": "stream",
          "text": [
            "                   all      0.979          1\n"
          ]
        },
        {
          "name": "stderr",
          "output_type": "stream",
          "text": [
            "\n"
          ]
        },
        {
          "name": "stdout",
          "output_type": "stream",
          "text": [
            "\n",
            "      Epoch    GPU_mem       loss  Instances       Size\n"
          ]
        },
        {
          "name": "stderr",
          "output_type": "stream",
          "text": [
            "      13/20     0.869G    0.06883         13        224: 100%|██████████| 47/47 [00:07<00:00,  6.11it/s]\n",
            "               classes   top1_acc   top5_acc: 100%|██████████| 6/6 [00:01<00:00,  4.30it/s]"
          ]
        },
        {
          "name": "stdout",
          "output_type": "stream",
          "text": [
            "                   all      0.984          1\n"
          ]
        },
        {
          "name": "stderr",
          "output_type": "stream",
          "text": [
            "\n"
          ]
        },
        {
          "name": "stdout",
          "output_type": "stream",
          "text": [
            "\n",
            "      Epoch    GPU_mem       loss  Instances       Size\n"
          ]
        },
        {
          "name": "stderr",
          "output_type": "stream",
          "text": [
            "      14/20     0.887G    0.07011         13        224: 100%|██████████| 47/47 [00:06<00:00,  7.11it/s]\n",
            "               classes   top1_acc   top5_acc: 100%|██████████| 6/6 [00:00<00:00,  8.78it/s]"
          ]
        },
        {
          "name": "stdout",
          "output_type": "stream",
          "text": [
            "                   all      0.979          1\n"
          ]
        },
        {
          "name": "stderr",
          "output_type": "stream",
          "text": [
            "\n"
          ]
        },
        {
          "name": "stdout",
          "output_type": "stream",
          "text": [
            "\n",
            "      Epoch    GPU_mem       loss  Instances       Size\n"
          ]
        },
        {
          "name": "stderr",
          "output_type": "stream",
          "text": [
            "      15/20     0.902G    0.03689         13        224: 100%|██████████| 47/47 [00:08<00:00,  5.77it/s]\n",
            "               classes   top1_acc   top5_acc: 100%|██████████| 6/6 [00:00<00:00, 10.27it/s]"
          ]
        },
        {
          "name": "stdout",
          "output_type": "stream",
          "text": [
            "                   all      0.973          1\n"
          ]
        },
        {
          "name": "stderr",
          "output_type": "stream",
          "text": [
            "\n"
          ]
        },
        {
          "name": "stdout",
          "output_type": "stream",
          "text": [
            "\n",
            "      Epoch    GPU_mem       loss  Instances       Size\n"
          ]
        },
        {
          "name": "stderr",
          "output_type": "stream",
          "text": [
            "      16/20     0.957G    0.03745         13        224: 100%|██████████| 47/47 [00:06<00:00,  6.88it/s]\n",
            "               classes   top1_acc   top5_acc: 100%|██████████| 6/6 [00:01<00:00,  3.58it/s]"
          ]
        },
        {
          "name": "stdout",
          "output_type": "stream",
          "text": [
            "                   all      0.979          1\n"
          ]
        },
        {
          "name": "stderr",
          "output_type": "stream",
          "text": [
            "\n"
          ]
        },
        {
          "name": "stdout",
          "output_type": "stream",
          "text": [
            "\n",
            "      Epoch    GPU_mem       loss  Instances       Size\n"
          ]
        },
        {
          "name": "stderr",
          "output_type": "stream",
          "text": [
            "      17/20      1.01G    0.05648         13        224: 100%|██████████| 47/47 [00:06<00:00,  7.54it/s]\n",
            "               classes   top1_acc   top5_acc: 100%|██████████| 6/6 [00:00<00:00,  7.16it/s]"
          ]
        },
        {
          "name": "stdout",
          "output_type": "stream",
          "text": [
            "                   all      0.979          1\n"
          ]
        },
        {
          "name": "stderr",
          "output_type": "stream",
          "text": [
            "\n"
          ]
        },
        {
          "name": "stdout",
          "output_type": "stream",
          "text": [
            "\n",
            "      Epoch    GPU_mem       loss  Instances       Size\n"
          ]
        },
        {
          "name": "stderr",
          "output_type": "stream",
          "text": [
            "      18/20      1.03G    0.05815         13        224: 100%|██████████| 47/47 [00:08<00:00,  5.87it/s]\n",
            "               classes   top1_acc   top5_acc: 100%|██████████| 6/6 [00:00<00:00,  6.39it/s]"
          ]
        },
        {
          "name": "stdout",
          "output_type": "stream",
          "text": [
            "                   all      0.979          1\n"
          ]
        },
        {
          "name": "stderr",
          "output_type": "stream",
          "text": [
            "\n"
          ]
        },
        {
          "name": "stdout",
          "output_type": "stream",
          "text": [
            "\n",
            "      Epoch    GPU_mem       loss  Instances       Size\n"
          ]
        },
        {
          "name": "stderr",
          "output_type": "stream",
          "text": [
            "      19/20      1.04G    0.02662         13        224: 100%|██████████| 47/47 [00:06<00:00,  7.03it/s]\n",
            "               classes   top1_acc   top5_acc: 100%|██████████| 6/6 [00:01<00:00,  4.17it/s]"
          ]
        },
        {
          "name": "stdout",
          "output_type": "stream",
          "text": [
            "                   all      0.979          1\n"
          ]
        },
        {
          "name": "stderr",
          "output_type": "stream",
          "text": [
            "\n"
          ]
        },
        {
          "name": "stdout",
          "output_type": "stream",
          "text": [
            "\n",
            "      Epoch    GPU_mem       loss  Instances       Size\n"
          ]
        },
        {
          "name": "stderr",
          "output_type": "stream",
          "text": [
            "      20/20      1.06G    0.05548         13        224: 100%|██████████| 47/47 [00:06<00:00,  7.26it/s]\n",
            "               classes   top1_acc   top5_acc: 100%|██████████| 6/6 [00:00<00:00,  8.50it/s]"
          ]
        },
        {
          "name": "stdout",
          "output_type": "stream",
          "text": [
            "                   all      0.979          1\n"
          ]
        },
        {
          "name": "stderr",
          "output_type": "stream",
          "text": [
            "\n"
          ]
        },
        {
          "name": "stdout",
          "output_type": "stream",
          "text": [
            "\n",
            "20 epochs completed in 0.052 hours.\n",
            "Optimizer stripped from /content/drive/MyDrive/dataHN/experiments/yolo_doc_cls/training/runs/run7_yolo11s-cls_img_resized/weights/last.pt, 11.0MB\n",
            "Optimizer stripped from /content/drive/MyDrive/dataHN/experiments/yolo_doc_cls/training/runs/run7_yolo11s-cls_img_resized/weights/best.pt, 11.0MB\n",
            "\n",
            "Validating /content/drive/MyDrive/dataHN/experiments/yolo_doc_cls/training/runs/run7_yolo11s-cls_img_resized/weights/best.pt...\n",
            "Ultralytics 8.3.174 🚀 Python-3.11.13 torch-2.6.0+cu124 CUDA:0 (Tesla T4, 15095MiB)\n",
            "YOLO11s-cls summary (fused): 47 layers, 5,436,690 parameters, 0 gradients, 12.0 GFLOPs\n",
            "\u001b[34m\u001b[1mtrain:\u001b[0m /content/dataset_resized/train... found 749 images in 2 classes ✅ \n",
            "\u001b[34m\u001b[1mval:\u001b[0m /content/dataset_resized/val... found 188 images in 2 classes ✅ \n",
            "\u001b[34m\u001b[1mtest:\u001b[0m None...\n"
          ]
        },
        {
          "name": "stderr",
          "output_type": "stream",
          "text": [
            "               classes   top1_acc   top5_acc: 100%|██████████| 6/6 [00:00<00:00,  8.89it/s]\n"
          ]
        },
        {
          "name": "stdout",
          "output_type": "stream",
          "text": [
            "                   all      0.984          1\n",
            "Speed: 0.1ms preprocess, 0.9ms inference, 0.0ms loss, 0.0ms postprocess per image\n",
            "Results saved to \u001b[1m/content/drive/MyDrive/dataHN/experiments/yolo_doc_cls/training/runs/run7_yolo11s-cls_img_resized\u001b[0m\n"
          ]
        }
      ],
      "source": [
        "model = YOLO(model_name)\n",
        "results = model.train(data = data_dir,\n",
        "                      epochs=epochs,\n",
        "                      batch = batch,\n",
        "                      dropout=dropout,\n",
        "                      project = project,\n",
        "                      name = name\n",
        "                      )"
      ]
    },
    {
      "cell_type": "code",
      "execution_count": null,
      "metadata": {
        "colab": {
          "base_uri": "https://localhost:8080/"
        },
        "id": "ip7fM5qODIvN",
        "outputId": "e52a6a95-e5fe-493a-904b-78e3b7fa2be1"
      },
      "outputs": [
        {
          "name": "stderr",
          "output_type": "stream",
          "text": [
            "239it [05:19, 20.11it/s]/usr/local/lib/python3.11/dist-packages/PIL/Image.py:3452: DecompressionBombWarning: Image size (131542390 pixels) exceeds limit of 89478485 pixels, could be decompression bomb DOS attack.\n",
            "  warnings.warn(\n",
            "259it [05:19, 27.18it/s]"
          ]
        },
        {
          "name": "stdout",
          "output_type": "stream",
          "text": [
            "Large image: Beaumont-Collinot_1880_116.jpg, size: 13174x9985\n"
          ]
        },
        {
          "name": "stderr",
          "output_type": "stream",
          "text": [
            "937it [05:22,  2.90it/s] \n"
          ]
        }
      ],
      "source": [
        "# ## Check very large file\n",
        "# from tqdm import tqdm\n",
        "# from PIL import Image\n",
        "# from pathlib import Path\n",
        "\n",
        "# img_dir = Path(training_dataset)\n",
        "# for img_path in tqdm(img_dir.glob(\"**/*.*\")):\n",
        "#     try:\n",
        "#         with Image.open(img_path) as img:\n",
        "#             w, h = img.size\n",
        "#             if w * h > 89_478_485:  # Pillow's default threshold\n",
        "#                 print(f\"Large image: {img_path.name}, size: {w}x{h}\")\n",
        "#     except Exception as e:\n",
        "#         print(f\"Corrupt or unreadable image: {img_path.name} – {e}\")\n"
      ]
    },
    {
      "cell_type": "markdown",
      "metadata": {
        "id": "9cbc0856"
      },
      "source": [
        "# Inference"
      ]
    },
    {
      "cell_type": "code",
      "execution_count": null,
      "metadata": {
        "colab": {
          "base_uri": "https://localhost:8080/",
          "height": 35
        },
        "id": "qwRz5eLdJ1Oz",
        "outputId": "dc79dc55-7342-47a4-ed64-2181523c71f4"
      },
      "outputs": [
        {
          "data": {
            "application/vnd.google.colaboratory.intrinsic+json": {
              "type": "string"
            },
            "text/plain": [
              "'/content/drive/MyDrive/dataHN/experiments/yolo_doc_ill_detect/training/runs/run8_yolo11m_1024/weights/best.pt'"
            ]
          },
          "execution_count": 23,
          "metadata": {},
          "output_type": "execute_result"
        }
      ],
      "source": [
        "model_best = os.path.join(project, name, 'weights','best.pt')\n",
        "model_best"
      ]
    },
    {
      "cell_type": "code",
      "execution_count": null,
      "metadata": {
        "id": "kcvDCsHaJ6SA"
      },
      "outputs": [],
      "source": [
        "model = YOLO('/content/drive/MyDrive/dataHN/experiments/yolo_doc_ill_detect/training/runs/run8_yolo11m_1024/weights/best.pt')"
      ]
    },
    {
      "cell_type": "code",
      "execution_count": null,
      "metadata": {
        "colab": {
          "base_uri": "https://localhost:8080/"
        },
        "id": "QvfOOLqdbdMG",
        "outputId": "5ec25b46-67b0-407e-880d-851bb560557c"
      },
      "outputs": [
        {
          "data": {
            "application/vnd.google.colaboratory.intrinsic+json": {
              "type": "string"
            },
            "text/plain": [
              "'/content/doc_imgs_cleaned'"
            ]
          },
          "execution_count": 6,
          "metadata": {},
          "output_type": "execute_result"
        }
      ],
      "source": [
        "import shutil\n",
        "\n",
        "source_folder = '/content/drive/MyDrive/dataHN/data/cleaned/doc_imgs_cleaned'\n",
        "doc_imgs_colab = '/content/doc_imgs_cleaned'\n",
        "\n",
        "shutil.copytree(source_folder, doc_imgs_colab, dirs_exist_ok=True)"
      ]
    },
    {
      "cell_type": "code",
      "execution_count": null,
      "metadata": {
        "colab": {
          "base_uri": "https://localhost:8080/"
        },
        "id": "rWEkYGaCDtpz",
        "outputId": "35b7e802-49ef-437a-a7f8-d32890ca9c6b"
      },
      "outputs": [
        {
          "name": "stdout",
          "output_type": "stream",
          "text": [
            "1932\n"
          ]
        }
      ],
      "source": [
        "print(len(os.listdir(doc_imgs_colab)))"
      ]
    },
    {
      "cell_type": "code",
      "execution_count": null,
      "metadata": {
        "colab": {
          "base_uri": "https://localhost:8080/"
        },
        "id": "hAWPQkWk-Gj1",
        "outputId": "8f814b99-af77-402f-e17e-3e9b2407d228"
      },
      "outputs": [
        {
          "data": {
            "text/plain": [
              "1932"
            ]
          },
          "execution_count": 8,
          "metadata": {},
          "output_type": "execute_result"
        }
      ],
      "source": [
        "#predict_data = doc_imgs_cleaned\n",
        "predict_data = doc_imgs_colab\n",
        "\n",
        "predict_images = [os.path.join(predict_data, img) for img in os.listdir(predict_data)]\n",
        "len(predict_images)"
      ]
    },
    {
      "cell_type": "code",
      "execution_count": null,
      "metadata": {
        "id": "6293544c"
      },
      "outputs": [],
      "source": [
        "num_training = 8\n",
        "predicts_dir = os.path.join(yolo_dir, 'predicts')\n",
        "project = os.path.join(predicts_dir, 'runs')\n",
        "name = f'run{num_training}_{model_name.split(\".\")[0]}'\n",
        "csv_dir = os.path.join(predicts_dir, 'csv')\n",
        "os.makedirs(csv_dir, exist_ok=True)\n",
        "results_csv = os.path.join(csv_dir, f'{name}_prediction_results.csv')"
      ]
    },
    {
      "cell_type": "code",
      "execution_count": null,
      "metadata": {
        "colab": {
          "base_uri": "https://localhost:8080/",
          "height": 35
        },
        "id": "SQzn7keaFd7j",
        "outputId": "59708974-f7d9-4914-ac2b-4521e2526bbc"
      },
      "outputs": [
        {
          "data": {
            "application/vnd.google.colaboratory.intrinsic+json": {
              "type": "string"
            },
            "text/plain": [
              "'/content/drive/MyDrive/dataHN/experiments/yolo_doc_ill_detect/predicts/runs/run8_yolo11m/weights/best.pt'"
            ]
          },
          "execution_count": 20,
          "metadata": {},
          "output_type": "execute_result"
        }
      ],
      "source": []
    },
    {
      "cell_type": "code",
      "execution_count": null,
      "metadata": {
        "id": "JODtTJRxJkF3"
      },
      "outputs": [],
      "source": []
    },
    {
      "cell_type": "code",
      "execution_count": null,
      "metadata": {
        "colab": {
          "base_uri": "https://localhost:8080/"
        },
        "collapsed": true,
        "id": "dorRTMcQsAuq",
        "outputId": "8b854355-3415-453f-f9ae-4736e3c98815"
      },
      "outputs": [
        {
          "name": "stdout",
          "output_type": "stream",
          "text": [
            "Processing section 1/100...\n",
            "\n",
            "0: 640x640 1 illustration, 24.7ms\n",
            "1: 640x640 2 illustrations, 24.7ms\n",
            "2: 640x640 1 illustration, 24.7ms\n",
            "3: 640x640 8 illustrations, 24.7ms\n",
            "4: 640x640 9 illustrations, 24.7ms\n",
            "5: 640x640 8 illustrations, 24.7ms\n",
            "6: 640x640 4 illustrations, 24.7ms\n",
            "7: 640x640 1 illustration, 24.7ms\n",
            "8: 640x640 1 illustration, 24.7ms\n",
            "9: 640x640 1 illustration, 24.7ms\n",
            "10: 640x640 4 illustrations, 24.7ms\n",
            "11: 640x640 4 illustrations, 24.7ms\n",
            "12: 640x640 1 illustration, 24.7ms\n",
            "13: 640x640 27 illustrations, 24.7ms\n",
            "14: 640x640 6 illustrations, 24.7ms\n",
            "15: 640x640 2 illustrations, 24.7ms\n",
            "16: 640x640 1 illustration, 24.7ms\n",
            "17: 640x640 11 illustrations, 24.7ms\n",
            "18: 640x640 1 illustration, 24.7ms\n",
            "19: 640x640 1 illustration, 24.7ms\n",
            "Speed: 3.3ms preprocess, 24.7ms inference, 0.9ms postprocess per image at shape (4, 3, 640, 640)\n",
            "Processing section 2/100...\n",
            "\n",
            "0: 640x640 3 illustrations, 25.6ms\n",
            "1: 640x640 2 illustrations, 25.6ms\n",
            "2: 640x640 7 illustrations, 25.6ms\n",
            "3: 640x640 6 illustrations, 25.6ms\n",
            "4: 640x640 25 illustrations, 25.6ms\n",
            "5: 640x640 3 illustrations, 25.6ms\n",
            "6: 640x640 1 illustration, 25.6ms\n",
            "7: 640x640 3 illustrations, 25.6ms\n",
            "8: 640x640 4 illustrations, 25.6ms\n",
            "9: 640x640 14 illustrations, 25.6ms\n",
            "10: 640x640 3 illustrations, 25.6ms\n",
            "11: 640x640 1 illustration, 25.6ms\n",
            "12: 640x640 9 illustrations, 25.6ms\n",
            "13: 640x640 1 illustration, 25.6ms\n",
            "14: 640x640 4 illustrations, 25.6ms\n",
            "15: 640x640 1 illustration, 25.6ms\n",
            "16: 640x640 2 illustrations, 25.6ms\n",
            "17: 640x640 35 illustrations, 25.6ms\n",
            "18: 640x640 5 illustrations, 25.6ms\n",
            "19: 640x640 6 illustrations, 25.6ms\n",
            "Speed: 4.4ms preprocess, 25.6ms inference, 1.2ms postprocess per image at shape (4, 3, 640, 640)\n",
            "Processing section 3/100...\n",
            "\n",
            "0: 640x640 3 illustrations, 25.2ms\n",
            "1: 640x640 1 illustration, 25.2ms\n",
            "2: 640x640 1 illustration, 25.2ms\n",
            "3: 640x640 4 illustrations, 25.2ms\n",
            "4: 640x640 2 illustrations, 25.2ms\n",
            "5: 640x640 5 illustrations, 25.2ms\n",
            "6: 640x640 7 illustrations, 25.2ms\n",
            "7: 640x640 1 illustration, 25.2ms\n",
            "8: 640x640 1 illustration, 25.2ms\n",
            "9: 640x640 1 illustration, 25.2ms\n",
            "10: 640x640 1 illustration, 25.2ms\n",
            "11: 640x640 10 illustrations, 25.2ms\n",
            "12: 640x640 1 illustration, 25.2ms\n",
            "13: 640x640 14 illustrations, 25.2ms\n",
            "14: 640x640 4 illustrations, 25.2ms\n",
            "15: 640x640 1 illustration, 25.2ms\n",
            "16: 640x640 1 illustration, 25.2ms\n",
            "17: 640x640 1 illustration, 25.2ms\n",
            "18: 640x640 2 illustrations, 25.2ms\n",
            "19: 640x640 1 illustration, 25.2ms\n",
            "Speed: 3.3ms preprocess, 25.2ms inference, 0.9ms postprocess per image at shape (4, 3, 640, 640)\n",
            "Processing section 4/100...\n",
            "\n",
            "0: 640x640 3 illustrations, 24.9ms\n",
            "1: 640x640 6 illustrations, 24.9ms\n",
            "2: 640x640 1 illustration, 24.9ms\n",
            "3: 640x640 4 illustrations, 24.9ms\n",
            "4: 640x640 3 illustrations, 24.9ms\n",
            "5: 640x640 1 illustration, 24.9ms\n",
            "6: 640x640 1 illustration, 24.9ms\n",
            "7: 640x640 6 illustrations, 24.9ms\n",
            "8: 640x640 9 illustrations, 24.9ms\n",
            "9: 640x640 8 illustrations, 24.9ms\n",
            "10: 640x640 7 illustrations, 24.9ms\n",
            "11: 640x640 8 illustrations, 24.9ms\n",
            "12: 640x640 5 illustrations, 24.9ms\n",
            "13: 640x640 1 illustration, 24.9ms\n",
            "14: 640x640 2 illustrations, 24.9ms\n",
            "15: 640x640 4 illustrations, 24.9ms\n",
            "16: 640x640 5 illustrations, 24.9ms\n",
            "17: 640x640 1 illustration, 24.9ms\n",
            "18: 640x640 4 illustrations, 24.9ms\n",
            "19: 640x640 4 illustrations, 24.9ms\n",
            "Speed: 3.2ms preprocess, 24.9ms inference, 1.0ms postprocess per image at shape (4, 3, 640, 640)\n",
            "Processing section 5/100...\n",
            "\n",
            "0: 640x640 1 illustration, 24.1ms\n",
            "1: 640x640 4 illustrations, 24.1ms\n",
            "2: 640x640 2 illustrations, 24.1ms\n",
            "3: 640x640 1 illustration, 24.1ms\n",
            "4: 640x640 2 illustrations, 24.1ms\n",
            "5: 640x640 9 illustrations, 24.1ms\n",
            "6: 640x640 2 illustrations, 24.1ms\n",
            "7: 640x640 2 illustrations, 24.1ms\n",
            "8: 640x640 4 illustrations, 24.1ms\n",
            "9: 640x640 9 illustrations, 24.1ms\n",
            "10: 640x640 1 illustration, 24.1ms\n",
            "11: 640x640 35 illustrations, 24.1ms\n",
            "12: 640x640 3 illustrations, 24.1ms\n",
            "13: 640x640 1 illustration, 24.1ms\n",
            "14: 640x640 1 illustration, 24.1ms\n",
            "15: 640x640 3 illustrations, 24.1ms\n",
            "16: 640x640 1 illustration, 24.1ms\n",
            "17: 640x640 4 illustrations, 24.1ms\n",
            "18: 640x640 5 illustrations, 24.1ms\n",
            "19: 640x640 3 illustrations, 24.1ms\n",
            "Speed: 3.3ms preprocess, 24.1ms inference, 1.2ms postprocess per image at shape (4, 3, 640, 640)\n",
            "Processing section 6/100...\n",
            "\n",
            "0: 640x640 3 illustrations, 26.1ms\n",
            "1: 640x640 2 illustrations, 26.1ms\n",
            "2: 640x640 4 illustrations, 26.1ms\n",
            "3: 640x640 4 illustrations, 26.1ms\n",
            "4: 640x640 4 illustrations, 26.1ms\n",
            "5: 640x640 2 illustrations, 26.1ms\n",
            "6: 640x640 1 illustration, 26.1ms\n",
            "7: 640x640 1 illustration, 26.1ms\n",
            "8: 640x640 1 illustration, 26.1ms\n",
            "9: 640x640 7 illustrations, 26.1ms\n",
            "10: 640x640 2 illustrations, 26.1ms\n",
            "11: 640x640 5 illustrations, 26.1ms\n",
            "12: 640x640 2 illustrations, 26.1ms\n",
            "13: 640x640 38 illustrations, 26.1ms\n",
            "14: 640x640 4 illustrations, 26.1ms\n",
            "15: 640x640 1 illustration, 26.1ms\n",
            "16: 640x640 9 illustrations, 26.1ms\n",
            "17: 640x640 2 illustrations, 26.1ms\n",
            "18: 640x640 18 illustrations, 26.1ms\n",
            "19: 640x640 13 illustrations, 26.1ms\n",
            "Speed: 3.3ms preprocess, 26.1ms inference, 0.9ms postprocess per image at shape (4, 3, 640, 640)\n",
            "Processing section 7/100...\n",
            "\n",
            "0: 640x640 1 illustration, 24.1ms\n",
            "1: 640x640 4 illustrations, 24.1ms\n",
            "2: 640x640 2 illustrations, 24.1ms\n",
            "3: 640x640 4 illustrations, 24.1ms\n",
            "4: 640x640 1 illustration, 24.1ms\n",
            "5: 640x640 1 illustration, 24.1ms\n",
            "6: 640x640 4 illustrations, 24.1ms\n",
            "7: 640x640 1 illustration, 24.1ms\n",
            "8: 640x640 14 illustrations, 24.1ms\n",
            "9: 640x640 1 illustration, 24.1ms\n",
            "10: 640x640 1 illustration, 24.1ms\n",
            "11: 640x640 1 illustration, 24.1ms\n",
            "12: 640x640 2 illustrations, 24.1ms\n",
            "13: 640x640 4 illustrations, 24.1ms\n",
            "14: 640x640 5 illustrations, 24.1ms\n",
            "15: 640x640 1 illustration, 24.1ms\n",
            "16: 640x640 8 illustrations, 24.1ms\n",
            "17: 640x640 5 illustrations, 24.1ms\n",
            "18: 640x640 1 illustration, 24.1ms\n",
            "19: 640x640 1 illustration, 24.1ms\n",
            "Speed: 4.7ms preprocess, 24.1ms inference, 1.6ms postprocess per image at shape (4, 3, 640, 640)\n",
            "Processing section 8/100...\n",
            "\n",
            "0: 640x640 3 illustrations, 26.0ms\n",
            "1: 640x640 5 illustrations, 26.0ms\n",
            "2: 640x640 7 illustrations, 26.0ms\n",
            "3: 640x640 2 illustrations, 26.0ms\n",
            "4: 640x640 1 illustration, 26.0ms\n",
            "5: 640x640 1 illustration, 26.0ms\n",
            "6: 640x640 5 illustrations, 26.0ms\n",
            "7: 640x640 4 illustrations, 26.0ms\n",
            "8: 640x640 1 illustration, 26.0ms\n",
            "9: 640x640 1 illustration, 26.0ms\n",
            "10: 640x640 3 illustrations, 26.0ms\n",
            "11: 640x640 2 illustrations, 26.0ms\n",
            "12: 640x640 7 illustrations, 26.0ms\n",
            "13: 640x640 1 illustration, 26.0ms\n",
            "14: 640x640 1 illustration, 26.0ms\n",
            "15: 640x640 1 illustration, 26.0ms\n",
            "16: 640x640 1 illustration, 26.0ms\n",
            "17: 640x640 2 illustrations, 26.0ms\n",
            "18: 640x640 2 illustrations, 26.0ms\n",
            "19: 640x640 1 illustration, 26.0ms\n",
            "Speed: 3.4ms preprocess, 26.0ms inference, 0.9ms postprocess per image at shape (4, 3, 640, 640)\n",
            "Processing section 9/100...\n",
            "\n",
            "0: 640x640 1 illustration, 24.9ms\n",
            "1: 640x640 5 illustrations, 24.9ms\n",
            "2: 640x640 1 illustration, 24.9ms\n",
            "3: 640x640 10 illustrations, 24.9ms\n",
            "4: 640x640 1 illustration, 24.9ms\n",
            "5: 640x640 10 illustrations, 24.9ms\n",
            "6: 640x640 2 illustrations, 24.9ms\n",
            "7: 640x640 2 illustrations, 24.9ms\n",
            "8: 640x640 7 illustrations, 24.9ms\n",
            "9: 640x640 7 illustrations, 24.9ms\n",
            "10: 640x640 4 illustrations, 24.9ms\n",
            "11: 640x640 1 illustration, 24.9ms\n",
            "12: 640x640 3 illustrations, 24.9ms\n",
            "13: 640x640 11 illustrations, 24.9ms\n",
            "14: 640x640 5 illustrations, 24.9ms\n",
            "15: 640x640 1 illustration, 24.9ms\n",
            "16: 640x640 2 illustrations, 24.9ms\n",
            "17: 640x640 2 illustrations, 24.9ms\n",
            "18: 640x640 7 illustrations, 24.9ms\n",
            "19: 640x640 6 illustrations, 24.9ms\n",
            "Speed: 3.5ms preprocess, 24.9ms inference, 0.9ms postprocess per image at shape (4, 3, 640, 640)\n",
            "Processing section 10/100...\n",
            "\n",
            "0: 640x640 2 illustrations, 25.4ms\n",
            "1: 640x640 1 illustration, 25.4ms\n",
            "2: 640x640 1 illustration, 25.4ms\n",
            "3: 640x640 2 illustrations, 25.4ms\n",
            "4: 640x640 2 illustrations, 25.4ms\n",
            "5: 640x640 3 illustrations, 25.4ms\n",
            "6: 640x640 1 illustration, 25.4ms\n",
            "7: 640x640 3 illustrations, 25.4ms\n",
            "8: 640x640 2 illustrations, 25.4ms\n",
            "9: 640x640 1 illustration, 25.4ms\n",
            "10: 640x640 38 illustrations, 25.4ms\n",
            "11: 640x640 7 illustrations, 25.4ms\n",
            "12: 640x640 3 illustrations, 25.4ms\n",
            "13: 640x640 2 illustrations, 25.4ms\n",
            "14: 640x640 1 illustration, 25.4ms\n",
            "15: 640x640 3 illustrations, 25.4ms\n",
            "16: 640x640 2 illustrations, 25.4ms\n",
            "17: 640x640 1 illustration, 25.4ms\n",
            "18: 640x640 (no detections), 25.4ms\n",
            "19: 640x640 4 illustrations, 25.4ms\n",
            "Speed: 4.7ms preprocess, 25.4ms inference, 1.1ms postprocess per image at shape (4, 3, 640, 640)\n",
            "Processing section 11/100...\n",
            "\n",
            "0: 640x640 20 illustrations, 24.8ms\n",
            "1: 640x640 1 illustration, 24.8ms\n",
            "2: 640x640 1 illustration, 24.8ms\n",
            "3: 640x640 1 illustration, 24.8ms\n",
            "4: 640x640 2 illustrations, 24.8ms\n",
            "5: 640x640 18 illustrations, 24.8ms\n",
            "6: 640x640 8 illustrations, 24.8ms\n",
            "7: 640x640 7 illustrations, 24.8ms\n",
            "8: 640x640 2 illustrations, 24.8ms\n",
            "9: 640x640 2 illustrations, 24.8ms\n",
            "10: 640x640 3 illustrations, 24.8ms\n",
            "11: 640x640 8 illustrations, 24.8ms\n",
            "12: 640x640 8 illustrations, 24.8ms\n",
            "13: 640x640 6 illustrations, 24.8ms\n",
            "14: 640x640 3 illustrations, 24.8ms\n",
            "15: 640x640 1 illustration, 24.8ms\n",
            "16: 640x640 4 illustrations, 24.8ms\n",
            "17: 640x640 11 illustrations, 24.8ms\n",
            "18: 640x640 18 illustrations, 24.8ms\n",
            "19: 640x640 3 illustrations, 24.8ms\n",
            "Speed: 3.5ms preprocess, 24.8ms inference, 0.9ms postprocess per image at shape (4, 3, 640, 640)\n",
            "Processing section 12/100...\n",
            "\n",
            "0: 640x640 20 illustrations, 25.8ms\n",
            "1: 640x640 2 illustrations, 25.8ms\n",
            "2: 640x640 1 illustration, 25.8ms\n",
            "3: 640x640 1 illustration, 25.8ms\n",
            "4: 640x640 2 illustrations, 25.8ms\n",
            "5: 640x640 4 illustrations, 25.8ms\n",
            "6: 640x640 6 illustrations, 25.8ms\n",
            "7: 640x640 4 illustrations, 25.8ms\n",
            "8: 640x640 2 illustrations, 25.8ms\n",
            "9: 640x640 1 illustration, 25.8ms\n",
            "10: 640x640 1 illustration, 25.8ms\n",
            "11: 640x640 1 illustration, 25.8ms\n",
            "12: 640x640 1 illustration, 25.8ms\n",
            "13: 640x640 1 illustration, 25.8ms\n",
            "14: 640x640 2 illustrations, 25.8ms\n",
            "15: 640x640 3 illustrations, 25.8ms\n",
            "16: 640x640 1 illustration, 25.8ms\n",
            "17: 640x640 1 illustration, 25.8ms\n",
            "18: 640x640 1 illustration, 25.8ms\n",
            "19: 640x640 2 illustrations, 25.8ms\n",
            "Speed: 3.1ms preprocess, 25.8ms inference, 0.9ms postprocess per image at shape (4, 3, 640, 640)\n",
            "Processing section 13/100...\n",
            "\n",
            "0: 640x640 6 illustrations, 25.6ms\n",
            "1: 640x640 1 illustration, 25.6ms\n",
            "2: 640x640 17 illustrations, 25.6ms\n",
            "3: 640x640 4 illustrations, 25.6ms\n",
            "4: 640x640 9 illustrations, 25.6ms\n",
            "5: 640x640 1 illustration, 25.6ms\n",
            "6: 640x640 14 illustrations, 25.6ms\n",
            "7: 640x640 1 illustration, 25.6ms\n",
            "8: 640x640 2 illustrations, 25.6ms\n",
            "9: 640x640 5 illustrations, 25.6ms\n",
            "10: 640x640 1 illustration, 25.6ms\n",
            "11: 640x640 1 illustration, 25.6ms\n",
            "12: 640x640 6 illustrations, 25.6ms\n",
            "13: 640x640 16 illustrations, 25.6ms\n",
            "14: 640x640 1 illustration, 25.6ms\n",
            "15: 640x640 1 illustration, 25.6ms\n",
            "16: 640x640 1 illustration, 25.6ms\n",
            "17: 640x640 3 illustrations, 25.6ms\n",
            "18: 640x640 1 illustration, 25.6ms\n",
            "19: 640x640 2 illustrations, 25.6ms\n",
            "Speed: 3.4ms preprocess, 25.6ms inference, 0.9ms postprocess per image at shape (4, 3, 640, 640)\n",
            "Processing section 14/100...\n",
            "\n",
            "0: 640x640 2 illustrations, 24.3ms\n",
            "1: 640x640 1 illustration, 24.3ms\n",
            "2: 640x640 1 illustration, 24.3ms\n",
            "3: 640x640 4 illustrations, 24.3ms\n",
            "4: 640x640 (no detections), 24.3ms\n",
            "5: 640x640 1 illustration, 24.3ms\n",
            "6: 640x640 4 illustrations, 24.3ms\n",
            "7: 640x640 6 illustrations, 24.3ms\n",
            "8: 640x640 1 illustration, 24.3ms\n",
            "9: 640x640 1 illustration, 24.3ms\n",
            "10: 640x640 4 illustrations, 24.3ms\n",
            "11: 640x640 1 illustration, 24.3ms\n",
            "12: 640x640 2 illustrations, 24.3ms\n",
            "13: 640x640 3 illustrations, 24.3ms\n",
            "14: 640x640 4 illustrations, 24.3ms\n",
            "15: 640x640 7 illustrations, 24.3ms\n",
            "16: 640x640 4 illustrations, 24.3ms\n",
            "17: 640x640 1 illustration, 24.3ms\n",
            "18: 640x640 1 illustration, 24.3ms\n",
            "19: 640x640 4 illustrations, 24.3ms\n",
            "Speed: 3.1ms preprocess, 24.3ms inference, 0.9ms postprocess per image at shape (4, 3, 640, 640)\n",
            "Processing section 15/100...\n",
            "\n",
            "0: 640x640 1 illustration, 25.1ms\n",
            "1: 640x640 11 illustrations, 25.1ms\n",
            "2: 640x640 2 illustrations, 25.1ms\n",
            "3: 640x640 2 illustrations, 25.1ms\n",
            "4: 640x640 1 illustration, 25.1ms\n",
            "5: 640x640 1 illustration, 25.1ms\n",
            "6: 640x640 10 illustrations, 25.1ms\n",
            "7: 640x640 4 illustrations, 25.1ms\n",
            "8: 640x640 3 illustrations, 25.1ms\n",
            "9: 640x640 2 illustrations, 25.1ms\n",
            "10: 640x640 6 illustrations, 25.1ms\n",
            "11: 640x640 1 illustration, 25.1ms\n",
            "12: 640x640 9 illustrations, 25.1ms\n",
            "13: 640x640 3 illustrations, 25.1ms\n",
            "14: 640x640 37 illustrations, 25.1ms\n",
            "15: 640x640 43 illustrations, 25.1ms\n",
            "16: 640x640 1 illustration, 25.1ms\n",
            "17: 640x640 8 illustrations, 25.1ms\n",
            "18: 640x640 2 illustrations, 25.1ms\n",
            "19: 640x640 4 illustrations, 25.1ms\n",
            "Speed: 3.2ms preprocess, 25.1ms inference, 0.9ms postprocess per image at shape (4, 3, 640, 640)\n",
            "Processing section 16/100...\n",
            "\n",
            "0: 640x640 1 illustration, 24.8ms\n",
            "1: 640x640 1 illustration, 24.8ms\n",
            "2: 640x640 6 illustrations, 24.8ms\n",
            "3: 640x640 1 illustration, 24.8ms\n",
            "4: 640x640 8 illustrations, 24.8ms\n",
            "5: 640x640 1 illustration, 24.8ms\n",
            "6: 640x640 1 illustration, 24.8ms\n",
            "7: 640x640 1 illustration, 24.8ms\n",
            "8: 640x640 1 illustration, 24.8ms\n",
            "9: 640x640 1 illustration, 24.8ms\n",
            "10: 640x640 2 illustrations, 24.8ms\n",
            "11: 640x640 5 illustrations, 24.8ms\n",
            "12: 640x640 3 illustrations, 24.8ms\n",
            "13: 640x640 2 illustrations, 24.8ms\n",
            "14: 640x640 2 illustrations, 24.8ms\n",
            "15: 640x640 2 illustrations, 24.8ms\n",
            "16: 640x640 1 illustration, 24.8ms\n",
            "17: 640x640 4 illustrations, 24.8ms\n",
            "18: 640x640 11 illustrations, 24.8ms\n",
            "19: 640x640 1 illustration, 24.8ms\n",
            "Speed: 4.6ms preprocess, 24.8ms inference, 1.2ms postprocess per image at shape (4, 3, 640, 640)\n",
            "Processing section 17/100...\n",
            "\n",
            "0: 640x640 2 illustrations, 24.2ms\n",
            "1: 640x640 1 illustration, 24.2ms\n",
            "2: 640x640 2 illustrations, 24.2ms\n",
            "3: 640x640 1 illustration, 24.2ms\n",
            "4: 640x640 11 illustrations, 24.2ms\n",
            "5: 640x640 1 illustration, 24.2ms\n",
            "6: 640x640 1 illustration, 24.2ms\n",
            "7: 640x640 5 illustrations, 24.2ms\n",
            "8: 640x640 2 illustrations, 24.2ms\n",
            "9: 640x640 3 illustrations, 24.2ms\n",
            "10: 640x640 2 illustrations, 24.2ms\n",
            "11: 640x640 26 illustrations, 24.2ms\n",
            "12: 640x640 1 illustration, 24.2ms\n",
            "13: 640x640 1 illustration, 24.2ms\n",
            "14: 640x640 1 illustration, 24.2ms\n",
            "15: 640x640 3 illustrations, 24.2ms\n",
            "16: 640x640 2 illustrations, 24.2ms\n",
            "17: 640x640 1 illustration, 24.2ms\n",
            "18: 640x640 4 illustrations, 24.2ms\n",
            "19: 640x640 3 illustrations, 24.2ms\n",
            "Speed: 3.3ms preprocess, 24.2ms inference, 0.9ms postprocess per image at shape (4, 3, 640, 640)\n",
            "Processing section 18/100...\n",
            "\n",
            "0: 640x640 1 illustration, 24.0ms\n",
            "1: 640x640 9 illustrations, 24.0ms\n",
            "2: 640x640 1 illustration, 24.0ms\n",
            "3: 640x640 6 illustrations, 24.0ms\n",
            "4: 640x640 2 illustrations, 24.0ms\n",
            "5: 640x640 3 illustrations, 24.0ms\n",
            "6: 640x640 26 illustrations, 24.0ms\n",
            "7: 640x640 1 illustration, 24.0ms\n",
            "8: 640x640 10 illustrations, 24.0ms\n",
            "9: 640x640 20 illustrations, 24.0ms\n",
            "10: 640x640 4 illustrations, 24.0ms\n",
            "11: 640x640 3 illustrations, 24.0ms\n",
            "12: 640x640 1 illustration, 24.0ms\n",
            "13: 640x640 1 illustration, 24.0ms\n",
            "14: 640x640 1 illustration, 24.0ms\n",
            "15: 640x640 14 illustrations, 24.0ms\n",
            "16: 640x640 1 illustration, 24.0ms\n",
            "17: 640x640 20 illustrations, 24.0ms\n",
            "18: 640x640 6 illustrations, 24.0ms\n",
            "19: 640x640 3 illustrations, 24.0ms\n",
            "Speed: 3.4ms preprocess, 24.0ms inference, 0.9ms postprocess per image at shape (4, 3, 640, 640)\n",
            "Processing section 19/100...\n",
            "\n",
            "0: 640x640 1 illustration, 24.8ms\n",
            "1: 640x640 8 illustrations, 24.8ms\n",
            "2: 640x640 4 illustrations, 24.8ms\n",
            "3: 640x640 9 illustrations, 24.8ms\n",
            "4: 640x640 2 illustrations, 24.8ms\n",
            "5: 640x640 2 illustrations, 24.8ms\n",
            "6: 640x640 2 illustrations, 24.8ms\n",
            "7: 640x640 12 illustrations, 24.8ms\n",
            "8: 640x640 3 illustrations, 24.8ms\n",
            "9: 640x640 4 illustrations, 24.8ms\n",
            "10: 640x640 1 illustration, 24.8ms\n",
            "11: 640x640 1 illustration, 24.8ms\n",
            "12: 640x640 4 illustrations, 24.8ms\n",
            "13: 640x640 1 illustration, 24.8ms\n",
            "14: 640x640 1 illustration, 24.8ms\n",
            "15: 640x640 5 illustrations, 24.8ms\n",
            "16: 640x640 1 illustration, 24.8ms\n",
            "17: 640x640 1 illustration, 24.8ms\n",
            "18: 640x640 1 illustration, 24.8ms\n",
            "19: 640x640 2 illustrations, 24.8ms\n",
            "Speed: 3.3ms preprocess, 24.8ms inference, 0.9ms postprocess per image at shape (4, 3, 640, 640)\n",
            "Processing section 20/100...\n",
            "\n"
          ]
        },
        {
          "name": "stderr",
          "output_type": "stream",
          "text": [
            "/usr/local/lib/python3.12/dist-packages/PIL/Image.py:3452: DecompressionBombWarning: Image size (131396860 pixels) exceeds limit of 89478485 pixels, could be decompression bomb DOS attack.\n",
            "  warnings.warn(\n"
          ]
        },
        {
          "name": "stdout",
          "output_type": "stream",
          "text": [
            "0: 640x640 4 illustrations, 23.6ms\n",
            "1: 640x640 1 illustration, 23.6ms\n",
            "2: 640x640 1 illustration, 23.6ms\n",
            "3: 640x640 1 illustration, 23.6ms\n",
            "4: 640x640 6 illustrations, 23.6ms\n",
            "5: 640x640 3 illustrations, 23.6ms\n",
            "6: 640x640 2 illustrations, 23.6ms\n",
            "7: 640x640 5 illustrations, 23.6ms\n",
            "8: 640x640 3 illustrations, 23.6ms\n",
            "9: 640x640 10 illustrations, 23.6ms\n",
            "10: 640x640 2 illustrations, 23.6ms\n",
            "11: 640x640 4 illustrations, 23.6ms\n",
            "12: 640x640 6 illustrations, 23.6ms\n",
            "13: 640x640 2 illustrations, 23.6ms\n",
            "14: 640x640 3 illustrations, 23.6ms\n",
            "15: 640x640 1 illustration, 23.6ms\n",
            "16: 640x640 5 illustrations, 23.6ms\n",
            "17: 640x640 4 illustrations, 23.6ms\n",
            "18: 640x640 1 illustration, 23.6ms\n",
            "19: 640x640 10 illustrations, 23.6ms\n",
            "Speed: 4.8ms preprocess, 23.6ms inference, 1.3ms postprocess per image at shape (4, 3, 640, 640)\n",
            "Processing section 21/100...\n",
            "\n",
            "0: 640x640 1 illustration, 25.3ms\n",
            "1: 640x640 2 illustrations, 25.3ms\n",
            "2: 640x640 3 illustrations, 25.3ms\n",
            "3: 640x640 2 illustrations, 25.3ms\n",
            "4: 640x640 1 illustration, 25.3ms\n",
            "5: 640x640 1 illustration, 25.3ms\n",
            "6: 640x640 3 illustrations, 25.3ms\n",
            "7: 640x640 5 illustrations, 25.3ms\n",
            "8: 640x640 4 illustrations, 25.3ms\n",
            "9: 640x640 2 illustrations, 25.3ms\n",
            "10: 640x640 1 illustration, 25.3ms\n",
            "11: 640x640 1 illustration, 25.3ms\n",
            "12: 640x640 20 illustrations, 25.3ms\n",
            "13: 640x640 6 illustrations, 25.3ms\n",
            "14: 640x640 4 illustrations, 25.3ms\n",
            "15: 640x640 1 illustration, 25.3ms\n",
            "16: 640x640 3 illustrations, 25.3ms\n",
            "17: 640x640 19 illustrations, 25.3ms\n",
            "18: 640x640 1 illustration, 25.3ms\n",
            "19: 640x640 1 illustration, 25.3ms\n",
            "Speed: 3.0ms preprocess, 25.3ms inference, 0.9ms postprocess per image at shape (4, 3, 640, 640)\n",
            "Processing section 22/100...\n",
            "\n",
            "0: 640x640 7 illustrations, 24.2ms\n",
            "1: 640x640 3 illustrations, 24.2ms\n",
            "2: 640x640 2 illustrations, 24.2ms\n",
            "3: 640x640 2 illustrations, 24.2ms\n",
            "4: 640x640 1 illustration, 24.2ms\n",
            "5: 640x640 2 illustrations, 24.2ms\n",
            "6: 640x640 1 illustration, 24.2ms\n",
            "7: 640x640 3 illustrations, 24.2ms\n",
            "8: 640x640 2 illustrations, 24.2ms\n",
            "9: 640x640 4 illustrations, 24.2ms\n",
            "10: 640x640 2 illustrations, 24.2ms\n",
            "11: 640x640 1 illustration, 24.2ms\n",
            "12: 640x640 1 illustration, 24.2ms\n",
            "13: 640x640 2 illustrations, 24.2ms\n",
            "14: 640x640 1 illustration, 24.2ms\n",
            "15: 640x640 1 illustration, 24.2ms\n",
            "16: 640x640 8 illustrations, 24.2ms\n",
            "17: 640x640 1 illustration, 24.2ms\n",
            "18: 640x640 2 illustrations, 24.2ms\n",
            "19: 640x640 6 illustrations, 24.2ms\n",
            "Speed: 3.3ms preprocess, 24.2ms inference, 1.4ms postprocess per image at shape (4, 3, 640, 640)\n",
            "Processing section 23/100...\n",
            "\n",
            "0: 640x640 2 illustrations, 23.7ms\n",
            "1: 640x640 3 illustrations, 23.7ms\n",
            "2: 640x640 1 illustration, 23.7ms\n",
            "3: 640x640 1 illustration, 23.7ms\n",
            "4: 640x640 29 illustrations, 23.7ms\n",
            "5: 640x640 1 illustration, 23.7ms\n",
            "6: 640x640 2 illustrations, 23.7ms\n",
            "7: 640x640 3 illustrations, 23.7ms\n",
            "8: 640x640 1 illustration, 23.7ms\n",
            "9: 640x640 3 illustrations, 23.7ms\n",
            "10: 640x640 1 illustration, 23.7ms\n",
            "11: 640x640 18 illustrations, 23.7ms\n",
            "12: 640x640 5 illustrations, 23.7ms\n",
            "13: 640x640 6 illustrations, 23.7ms\n",
            "14: 640x640 12 illustrations, 23.7ms\n",
            "15: 640x640 1 illustration, 23.7ms\n",
            "16: 640x640 17 illustrations, 23.7ms\n",
            "17: 640x640 26 illustrations, 23.7ms\n",
            "18: 640x640 10 illustrations, 23.7ms\n",
            "19: 640x640 4 illustrations, 23.7ms\n",
            "Speed: 3.1ms preprocess, 23.7ms inference, 1.1ms postprocess per image at shape (4, 3, 640, 640)\n",
            "Processing section 24/100...\n",
            "\n",
            "0: 640x640 1 illustration, 25.6ms\n",
            "1: 640x640 2 illustrations, 25.6ms\n",
            "2: 640x640 1 illustration, 25.6ms\n",
            "3: 640x640 11 illustrations, 25.6ms\n",
            "4: 640x640 6 illustrations, 25.6ms\n",
            "5: 640x640 3 illustrations, 25.6ms\n",
            "6: 640x640 2 illustrations, 25.6ms\n",
            "7: 640x640 3 illustrations, 25.6ms\n",
            "8: 640x640 1 illustration, 25.6ms\n",
            "9: 640x640 1 illustration, 25.6ms\n",
            "10: 640x640 2 illustrations, 25.6ms\n",
            "11: 640x640 6 illustrations, 25.6ms\n",
            "12: 640x640 1 illustration, 25.6ms\n",
            "13: 640x640 8 illustrations, 25.6ms\n",
            "14: 640x640 7 illustrations, 25.6ms\n",
            "15: 640x640 2 illustrations, 25.6ms\n",
            "16: 640x640 1 illustration, 25.6ms\n",
            "17: 640x640 1 illustration, 25.6ms\n",
            "18: 640x640 1 illustration, 25.6ms\n",
            "19: 640x640 1 illustration, 25.6ms\n",
            "Speed: 4.4ms preprocess, 25.6ms inference, 1.4ms postprocess per image at shape (4, 3, 640, 640)\n",
            "Processing section 25/100...\n",
            "\n",
            "0: 640x640 2 illustrations, 24.8ms\n",
            "1: 640x640 1 illustration, 24.8ms\n",
            "2: 640x640 1 illustration, 24.8ms\n",
            "3: 640x640 2 illustrations, 24.8ms\n",
            "4: 640x640 3 illustrations, 24.8ms\n",
            "5: 640x640 8 illustrations, 24.8ms\n",
            "6: 640x640 4 illustrations, 24.8ms\n",
            "7: 640x640 1 illustration, 24.8ms\n",
            "8: 640x640 1 illustration, 24.8ms\n",
            "9: 640x640 2 illustrations, 24.8ms\n",
            "10: 640x640 2 illustrations, 24.8ms\n",
            "11: 640x640 1 illustration, 24.8ms\n",
            "12: 640x640 1 illustration, 24.8ms\n",
            "13: 640x640 8 illustrations, 24.8ms\n",
            "14: 640x640 9 illustrations, 24.8ms\n",
            "15: 640x640 2 illustrations, 24.8ms\n",
            "16: 640x640 2 illustrations, 24.8ms\n",
            "17: 640x640 2 illustrations, 24.8ms\n",
            "18: 640x640 6 illustrations, 24.8ms\n",
            "19: 640x640 2 illustrations, 24.8ms\n",
            "Speed: 3.4ms preprocess, 24.8ms inference, 1.0ms postprocess per image at shape (4, 3, 640, 640)\n",
            "Processing section 26/100...\n",
            "\n",
            "0: 640x640 1 illustration, 25.7ms\n",
            "1: 640x640 1 illustration, 25.7ms\n",
            "2: 640x640 2 illustrations, 25.7ms\n",
            "3: 640x640 1 illustration, 25.7ms\n",
            "4: 640x640 2 illustrations, 25.7ms\n",
            "5: 640x640 1 illustration, 25.7ms\n",
            "6: 640x640 6 illustrations, 25.7ms\n",
            "7: 640x640 5 illustrations, 25.7ms\n",
            "8: 640x640 2 illustrations, 25.7ms\n",
            "9: 640x640 12 illustrations, 25.7ms\n",
            "10: 640x640 9 illustrations, 25.7ms\n",
            "11: 640x640 1 illustration, 25.7ms\n",
            "12: 640x640 3 illustrations, 25.7ms\n",
            "13: 640x640 1 illustration, 25.7ms\n",
            "14: 640x640 10 illustrations, 25.7ms\n",
            "15: 640x640 4 illustrations, 25.7ms\n",
            "16: 640x640 1 illustration, 25.7ms\n",
            "17: 640x640 5 illustrations, 25.7ms\n",
            "18: 640x640 1 illustration, 25.7ms\n",
            "19: 640x640 1 illustration, 25.7ms\n",
            "Speed: 3.1ms preprocess, 25.7ms inference, 1.0ms postprocess per image at shape (4, 3, 640, 640)\n",
            "Processing section 27/100...\n",
            "\n",
            "0: 640x640 1 illustration, 25.6ms\n",
            "1: 640x640 8 illustrations, 25.6ms\n",
            "2: 640x640 1 illustration, 25.6ms\n",
            "3: 640x640 1 illustration, 25.6ms\n",
            "4: 640x640 5 illustrations, 25.6ms\n",
            "5: 640x640 2 illustrations, 25.6ms\n",
            "6: 640x640 1 illustration, 25.6ms\n",
            "7: 640x640 8 illustrations, 25.6ms\n",
            "8: 640x640 1 illustration, 25.6ms\n",
            "9: 640x640 3 illustrations, 25.6ms\n",
            "10: 640x640 1 illustration, 25.6ms\n",
            "11: 640x640 5 illustrations, 25.6ms\n",
            "12: 640x640 1 illustration, 25.6ms\n",
            "13: 640x640 4 illustrations, 25.6ms\n",
            "14: 640x640 8 illustrations, 25.6ms\n",
            "15: 640x640 4 illustrations, 25.6ms\n",
            "16: 640x640 2 illustrations, 25.6ms\n",
            "17: 640x640 2 illustrations, 25.6ms\n",
            "18: 640x640 5 illustrations, 25.6ms\n",
            "19: 640x640 1 illustration, 25.6ms\n",
            "Speed: 3.1ms preprocess, 25.6ms inference, 0.9ms postprocess per image at shape (4, 3, 640, 640)\n",
            "Processing section 28/100...\n",
            "\n",
            "0: 640x640 1 illustration, 25.2ms\n",
            "1: 640x640 1 illustration, 25.2ms\n",
            "2: 640x640 5 illustrations, 25.2ms\n",
            "3: 640x640 1 illustration, 25.2ms\n",
            "4: 640x640 4 illustrations, 25.2ms\n",
            "5: 640x640 21 illustrations, 25.2ms\n",
            "6: 640x640 4 illustrations, 25.2ms\n",
            "7: 640x640 1 illustration, 25.2ms\n",
            "8: 640x640 2 illustrations, 25.2ms\n",
            "9: 640x640 5 illustrations, 25.2ms\n",
            "10: 640x640 67 illustrations, 25.2ms\n",
            "11: 640x640 1 illustration, 25.2ms\n",
            "12: 640x640 5 illustrations, 25.2ms\n",
            "13: 640x640 1 illustration, 25.2ms\n",
            "14: 640x640 2 illustrations, 25.2ms\n",
            "15: 640x640 10 illustrations, 25.2ms\n",
            "16: 640x640 1 illustration, 25.2ms\n",
            "17: 640x640 7 illustrations, 25.2ms\n",
            "18: 640x640 7 illustrations, 25.2ms\n",
            "19: 640x640 1 illustration, 25.2ms\n",
            "Speed: 3.3ms preprocess, 25.2ms inference, 0.9ms postprocess per image at shape (4, 3, 640, 640)\n",
            "Processing section 29/100...\n",
            "\n",
            "0: 640x640 3 illustrations, 23.9ms\n",
            "1: 640x640 1 illustration, 23.9ms\n",
            "2: 640x640 4 illustrations, 23.9ms\n",
            "3: 640x640 1 illustration, 23.9ms\n",
            "4: 640x640 2 illustrations, 23.9ms\n",
            "5: 640x640 6 illustrations, 23.9ms\n",
            "6: 640x640 2 illustrations, 23.9ms\n",
            "7: 640x640 5 illustrations, 23.9ms\n",
            "8: 640x640 7 illustrations, 23.9ms\n",
            "9: 640x640 7 illustrations, 23.9ms\n",
            "10: 640x640 1 illustration, 23.9ms\n",
            "11: 640x640 (no detections), 23.9ms\n",
            "12: 640x640 2 illustrations, 23.9ms\n",
            "13: 640x640 3 illustrations, 23.9ms\n",
            "14: 640x640 1 illustration, 23.9ms\n",
            "15: 640x640 2 illustrations, 23.9ms\n",
            "16: 640x640 5 illustrations, 23.9ms\n",
            "17: 640x640 4 illustrations, 23.9ms\n",
            "18: 640x640 3 illustrations, 23.9ms\n",
            "19: 640x640 9 illustrations, 23.9ms\n",
            "Speed: 4.3ms preprocess, 23.9ms inference, 1.4ms postprocess per image at shape (4, 3, 640, 640)\n",
            "Processing section 30/100...\n",
            "\n",
            "0: 640x640 1 illustration, 24.6ms\n",
            "1: 640x640 1 illustration, 24.6ms\n",
            "2: 640x640 2 illustrations, 24.6ms\n",
            "3: 640x640 1 illustration, 24.6ms\n",
            "4: 640x640 3 illustrations, 24.6ms\n",
            "5: 640x640 1 illustration, 24.6ms\n",
            "6: 640x640 1 illustration, 24.6ms\n",
            "7: 640x640 12 illustrations, 24.6ms\n",
            "8: 640x640 2 illustrations, 24.6ms\n",
            "9: 640x640 3 illustrations, 24.6ms\n",
            "10: 640x640 6 illustrations, 24.6ms\n",
            "11: 640x640 1 illustration, 24.6ms\n",
            "12: 640x640 5 illustrations, 24.6ms\n",
            "13: 640x640 2 illustrations, 24.6ms\n",
            "14: 640x640 2 illustrations, 24.6ms\n",
            "15: 640x640 3 illustrations, 24.6ms\n",
            "16: 640x640 2 illustrations, 24.6ms\n",
            "17: 640x640 5 illustrations, 24.6ms\n",
            "18: 640x640 2 illustrations, 24.6ms\n",
            "19: 640x640 5 illustrations, 24.6ms\n",
            "Speed: 3.1ms preprocess, 24.6ms inference, 0.9ms postprocess per image at shape (4, 3, 640, 640)\n",
            "Processing section 31/100...\n",
            "\n",
            "0: 640x640 6 illustrations, 24.1ms\n",
            "1: 640x640 2 illustrations, 24.1ms\n",
            "2: 640x640 1 illustration, 24.1ms\n",
            "3: 640x640 2 illustrations, 24.1ms\n",
            "4: 640x640 5 illustrations, 24.1ms\n",
            "5: 640x640 1 illustration, 24.1ms\n",
            "6: 640x640 14 illustrations, 24.1ms\n",
            "7: 640x640 2 illustrations, 24.1ms\n",
            "8: 640x640 2 illustrations, 24.1ms\n",
            "9: 640x640 3 illustrations, 24.1ms\n",
            "10: 640x640 6 illustrations, 24.1ms\n",
            "11: 640x640 2 illustrations, 24.1ms\n",
            "12: 640x640 1 illustration, 24.1ms\n",
            "13: 640x640 3 illustrations, 24.1ms\n",
            "14: 640x640 5 illustrations, 24.1ms\n",
            "15: 640x640 11 illustrations, 24.1ms\n",
            "16: 640x640 1 illustration, 24.1ms\n",
            "17: 640x640 5 illustrations, 24.1ms\n",
            "18: 640x640 1 illustration, 24.1ms\n",
            "19: 640x640 1 illustration, 24.1ms\n",
            "Speed: 3.0ms preprocess, 24.1ms inference, 0.9ms postprocess per image at shape (4, 3, 640, 640)\n",
            "Processing section 32/100...\n",
            "\n",
            "0: 640x640 6 illustrations, 24.4ms\n",
            "1: 640x640 1 illustration, 24.4ms\n",
            "2: 640x640 2 illustrations, 24.4ms\n",
            "3: 640x640 2 illustrations, 24.4ms\n",
            "4: 640x640 3 illustrations, 24.4ms\n",
            "5: 640x640 1 illustration, 24.4ms\n",
            "6: 640x640 6 illustrations, 24.4ms\n",
            "7: 640x640 2 illustrations, 24.4ms\n",
            "8: 640x640 3 illustrations, 24.4ms\n",
            "9: 640x640 2 illustrations, 24.4ms\n",
            "10: 640x640 2 illustrations, 24.4ms\n",
            "11: 640x640 1 illustration, 24.4ms\n",
            "12: 640x640 7 illustrations, 24.4ms\n",
            "13: 640x640 1 illustration, 24.4ms\n",
            "14: 640x640 2 illustrations, 24.4ms\n",
            "15: 640x640 7 illustrations, 24.4ms\n",
            "16: 640x640 5 illustrations, 24.4ms\n",
            "17: 640x640 1 illustration, 24.4ms\n",
            "18: 640x640 4 illustrations, 24.4ms\n",
            "19: 640x640 7 illustrations, 24.4ms\n",
            "Speed: 3.1ms preprocess, 24.4ms inference, 0.9ms postprocess per image at shape (4, 3, 640, 640)\n",
            "Processing section 33/100...\n",
            "\n",
            "0: 640x640 3 illustrations, 23.7ms\n",
            "1: 640x640 10 illustrations, 23.7ms\n",
            "2: 640x640 10 illustrations, 23.7ms\n",
            "3: 640x640 4 illustrations, 23.7ms\n",
            "4: 640x640 11 illustrations, 23.7ms\n",
            "5: 640x640 1 illustration, 23.7ms\n",
            "6: 640x640 3 illustrations, 23.7ms\n",
            "7: 640x640 1 illustration, 23.7ms\n",
            "8: 640x640 29 illustrations, 23.7ms\n",
            "9: 640x640 3 illustrations, 23.7ms\n",
            "10: 640x640 10 illustrations, 23.7ms\n",
            "11: 640x640 1 illustration, 23.7ms\n",
            "12: 640x640 2 illustrations, 23.7ms\n",
            "13: 640x640 4 illustrations, 23.7ms\n",
            "14: 640x640 35 illustrations, 23.7ms\n",
            "15: 640x640 5 illustrations, 23.7ms\n",
            "16: 640x640 9 illustrations, 23.7ms\n",
            "17: 640x640 1 illustration, 23.7ms\n",
            "18: 640x640 8 illustrations, 23.7ms\n",
            "Speed: 3.2ms preprocess, 23.7ms inference, 0.9ms postprocess per image at shape (4, 3, 640, 640)\n",
            "Processing section 34/100...\n",
            "\n",
            "0: 640x640 1 illustration, 23.9ms\n",
            "1: 640x640 2 illustrations, 23.9ms\n",
            "2: 640x640 1 illustration, 23.9ms\n",
            "3: 640x640 10 illustrations, 23.9ms\n",
            "4: 640x640 1 illustration, 23.9ms\n",
            "5: 640x640 1 illustration, 23.9ms\n",
            "6: 640x640 2 illustrations, 23.9ms\n",
            "7: 640x640 7 illustrations, 23.9ms\n",
            "8: 640x640 3 illustrations, 23.9ms\n",
            "9: 640x640 2 illustrations, 23.9ms\n",
            "10: 640x640 9 illustrations, 23.9ms\n",
            "11: 640x640 1 illustration, 23.9ms\n",
            "12: 640x640 6 illustrations, 23.9ms\n",
            "13: 640x640 4 illustrations, 23.9ms\n",
            "14: 640x640 1 illustration, 23.9ms\n",
            "15: 640x640 6 illustrations, 23.9ms\n",
            "16: 640x640 4 illustrations, 23.9ms\n",
            "17: 640x640 1 illustration, 23.9ms\n",
            "18: 640x640 4 illustrations, 23.9ms\n",
            "Speed: 3.1ms preprocess, 23.9ms inference, 0.9ms postprocess per image at shape (4, 3, 640, 640)\n",
            "Processing section 35/100...\n",
            "\n",
            "0: 640x640 7 illustrations, 24.9ms\n",
            "1: 640x640 7 illustrations, 24.9ms\n",
            "2: 640x640 1 illustration, 24.9ms\n",
            "3: 640x640 1 illustration, 24.9ms\n",
            "4: 640x640 7 illustrations, 24.9ms\n",
            "5: 640x640 2 illustrations, 24.9ms\n",
            "6: 640x640 1 illustration, 24.9ms\n",
            "7: 640x640 6 illustrations, 24.9ms\n",
            "8: 640x640 5 illustrations, 24.9ms\n",
            "9: 640x640 1 illustration, 24.9ms\n",
            "10: 640x640 4 illustrations, 24.9ms\n",
            "11: 640x640 3 illustrations, 24.9ms\n",
            "12: 640x640 2 illustrations, 24.9ms\n",
            "13: 640x640 2 illustrations, 24.9ms\n",
            "14: 640x640 1 illustration, 24.9ms\n",
            "15: 640x640 8 illustrations, 24.9ms\n",
            "16: 640x640 7 illustrations, 24.9ms\n",
            "17: 640x640 1 illustration, 24.9ms\n",
            "18: 640x640 3 illustrations, 24.9ms\n",
            "Speed: 4.8ms preprocess, 24.9ms inference, 1.3ms postprocess per image at shape (4, 3, 640, 640)\n",
            "Processing section 36/100...\n",
            "\n",
            "0: 640x640 2 illustrations, 25.5ms\n",
            "1: 640x640 1 illustration, 25.5ms\n",
            "2: 640x640 1 illustration, 25.5ms\n",
            "3: 640x640 4 illustrations, 25.5ms\n",
            "4: 640x640 1 illustration, 25.5ms\n",
            "5: 640x640 5 illustrations, 25.5ms\n",
            "6: 640x640 1 illustration, 25.5ms\n",
            "7: 640x640 1 illustration, 25.5ms\n",
            "8: 640x640 2 illustrations, 25.5ms\n",
            "9: 640x640 2 illustrations, 25.5ms\n",
            "10: 640x640 2 illustrations, 25.5ms\n",
            "11: 640x640 8 illustrations, 25.5ms\n",
            "12: 640x640 1 illustration, 25.5ms\n",
            "13: 640x640 1 illustration, 25.5ms\n",
            "14: 640x640 4 illustrations, 25.5ms\n",
            "15: 640x640 5 illustrations, 25.5ms\n",
            "16: 640x640 9 illustrations, 25.5ms\n",
            "17: 640x640 2 illustrations, 25.5ms\n",
            "18: 640x640 1 illustration, 25.5ms\n",
            "Speed: 3.0ms preprocess, 25.5ms inference, 0.9ms postprocess per image at shape (4, 3, 640, 640)\n",
            "Processing section 37/100...\n",
            "\n",
            "0: 640x640 3 illustrations, 25.8ms\n",
            "1: 640x640 4 illustrations, 25.8ms\n",
            "2: 640x640 1 illustration, 25.8ms\n",
            "3: 640x640 4 illustrations, 25.8ms\n",
            "4: 640x640 1 illustration, 25.8ms\n",
            "5: 640x640 19 illustrations, 25.8ms\n",
            "6: 640x640 1 illustration, 25.8ms\n",
            "7: 640x640 1 illustration, 25.8ms\n",
            "8: 640x640 4 illustrations, 25.8ms\n",
            "9: 640x640 (no detections), 25.8ms\n",
            "10: 640x640 4 illustrations, 25.8ms\n",
            "11: 640x640 11 illustrations, 25.8ms\n",
            "12: 640x640 1 illustration, 25.8ms\n",
            "13: 640x640 1 illustration, 25.8ms\n",
            "14: 640x640 2 illustrations, 25.8ms\n",
            "15: 640x640 3 illustrations, 25.8ms\n",
            "16: 640x640 1 illustration, 25.8ms\n",
            "17: 640x640 1 illustration, 25.8ms\n",
            "18: 640x640 1 illustration, 25.8ms\n",
            "Speed: 3.2ms preprocess, 25.8ms inference, 0.9ms postprocess per image at shape (4, 3, 640, 640)\n",
            "Processing section 38/100...\n",
            "\n",
            "0: 640x640 6 illustrations, 24.2ms\n",
            "1: 640x640 1 illustration, 24.2ms\n",
            "2: 640x640 3 illustrations, 24.2ms\n",
            "3: 640x640 1 illustration, 24.2ms\n",
            "4: 640x640 2 illustrations, 24.2ms\n",
            "5: 640x640 5 illustrations, 24.2ms\n",
            "6: 640x640 1 illustration, 24.2ms\n",
            "7: 640x640 1 illustration, 24.2ms\n",
            "8: 640x640 5 illustrations, 24.2ms\n",
            "9: 640x640 1 illustration, 24.2ms\n",
            "10: 640x640 20 illustrations, 24.2ms\n",
            "11: 640x640 1 illustration, 24.2ms\n",
            "12: 640x640 1 illustration, 24.2ms\n",
            "13: 640x640 1 illustration, 24.2ms\n",
            "14: 640x640 6 illustrations, 24.2ms\n",
            "15: 640x640 1 illustration, 24.2ms\n",
            "16: 640x640 2 illustrations, 24.2ms\n",
            "17: 640x640 1 illustration, 24.2ms\n",
            "18: 640x640 3 illustrations, 24.2ms\n",
            "Speed: 3.2ms preprocess, 24.2ms inference, 0.9ms postprocess per image at shape (4, 3, 640, 640)\n",
            "Processing section 39/100...\n",
            "\n",
            "0: 640x640 2 illustrations, 24.0ms\n",
            "1: 640x640 1 illustration, 24.0ms\n",
            "2: 640x640 6 illustrations, 24.0ms\n",
            "3: 640x640 5 illustrations, 24.0ms\n",
            "4: 640x640 9 illustrations, 24.0ms\n",
            "5: 640x640 3 illustrations, 24.0ms\n",
            "6: 640x640 5 illustrations, 24.0ms\n",
            "7: 640x640 3 illustrations, 24.0ms\n",
            "8: 640x640 1 illustration, 24.0ms\n",
            "9: 640x640 5 illustrations, 24.0ms\n",
            "10: 640x640 1 illustration, 24.0ms\n",
            "11: 640x640 1 illustration, 24.0ms\n",
            "12: 640x640 1 illustration, 24.0ms\n",
            "13: 640x640 1 illustration, 24.0ms\n",
            "14: 640x640 12 illustrations, 24.0ms\n",
            "15: 640x640 1 illustration, 24.0ms\n",
            "16: 640x640 7 illustrations, 24.0ms\n",
            "17: 640x640 4 illustrations, 24.0ms\n",
            "18: 640x640 8 illustrations, 24.0ms\n",
            "Speed: 3.1ms preprocess, 24.0ms inference, 0.9ms postprocess per image at shape (4, 3, 640, 640)\n",
            "Processing section 40/100...\n",
            "\n",
            "0: 640x640 12 illustrations, 25.1ms\n",
            "1: 640x640 2 illustrations, 25.1ms\n",
            "2: 640x640 1 illustration, 25.1ms\n",
            "3: 640x640 3 illustrations, 25.1ms\n",
            "4: 640x640 1 illustration, 25.1ms\n",
            "5: 640x640 1 illustration, 25.1ms\n",
            "6: 640x640 5 illustrations, 25.1ms\n",
            "7: 640x640 2 illustrations, 25.1ms\n",
            "8: 640x640 6 illustrations, 25.1ms\n",
            "9: 640x640 8 illustrations, 25.1ms\n",
            "10: 640x640 8 illustrations, 25.1ms\n",
            "11: 640x640 7 illustrations, 25.1ms\n",
            "12: 640x640 1 illustration, 25.1ms\n",
            "13: 640x640 1 illustration, 25.1ms\n",
            "14: 640x640 3 illustrations, 25.1ms\n",
            "15: 640x640 2 illustrations, 25.1ms\n",
            "16: 640x640 (no detections), 25.1ms\n",
            "17: 640x640 1 illustration, 25.1ms\n",
            "18: 640x640 4 illustrations, 25.1ms\n",
            "Speed: 3.7ms preprocess, 25.1ms inference, 0.9ms postprocess per image at shape (4, 3, 640, 640)\n",
            "Processing section 41/100...\n",
            "\n",
            "0: 640x640 1 illustration, 24.9ms\n",
            "1: 640x640 9 illustrations, 24.9ms\n",
            "2: 640x640 2 illustrations, 24.9ms\n",
            "3: 640x640 1 illustration, 24.9ms\n",
            "4: 640x640 2 illustrations, 24.9ms\n",
            "5: 640x640 1 illustration, 24.9ms\n",
            "6: 640x640 1 illustration, 24.9ms\n",
            "7: 640x640 2 illustrations, 24.9ms\n",
            "8: 640x640 1 illustration, 24.9ms\n",
            "9: 640x640 1 illustration, 24.9ms\n",
            "10: 640x640 1 illustration, 24.9ms\n",
            "11: 640x640 12 illustrations, 24.9ms\n",
            "12: 640x640 4 illustrations, 24.9ms\n",
            "13: 640x640 3 illustrations, 24.9ms\n",
            "14: 640x640 5 illustrations, 24.9ms\n",
            "15: 640x640 1 illustration, 24.9ms\n",
            "16: 640x640 2 illustrations, 24.9ms\n",
            "17: 640x640 3 illustrations, 24.9ms\n",
            "18: 640x640 1 illustration, 24.9ms\n",
            "Speed: 3.2ms preprocess, 24.9ms inference, 0.9ms postprocess per image at shape (4, 3, 640, 640)\n",
            "Processing section 42/100...\n",
            "\n",
            "0: 640x640 1 illustration, 25.4ms\n",
            "1: 640x640 1 illustration, 25.4ms\n",
            "2: 640x640 4 illustrations, 25.4ms\n",
            "3: 640x640 1 illustration, 25.4ms\n",
            "4: 640x640 1 illustration, 25.4ms\n",
            "5: 640x640 15 illustrations, 25.4ms\n",
            "6: 640x640 1 illustration, 25.4ms\n",
            "7: 640x640 6 illustrations, 25.4ms\n",
            "8: 640x640 6 illustrations, 25.4ms\n",
            "9: 640x640 1 illustration, 25.4ms\n",
            "10: 640x640 3 illustrations, 25.4ms\n",
            "11: 640x640 5 illustrations, 25.4ms\n",
            "12: 640x640 31 illustrations, 25.4ms\n",
            "13: 640x640 1 illustration, 25.4ms\n",
            "14: 640x640 1 illustration, 25.4ms\n",
            "15: 640x640 6 illustrations, 25.4ms\n",
            "16: 640x640 1 illustration, 25.4ms\n",
            "17: 640x640 2 illustrations, 25.4ms\n",
            "18: 640x640 6 illustrations, 25.4ms\n",
            "Speed: 3.2ms preprocess, 25.4ms inference, 1.0ms postprocess per image at shape (4, 3, 640, 640)\n",
            "Processing section 43/100...\n",
            "\n",
            "0: 640x640 2 illustrations, 23.8ms\n",
            "1: 640x640 1 illustration, 23.8ms\n",
            "2: 640x640 1 illustration, 23.8ms\n",
            "3: 640x640 3 illustrations, 23.8ms\n",
            "4: 640x640 2 illustrations, 23.8ms\n",
            "5: 640x640 2 illustrations, 23.8ms\n",
            "6: 640x640 1 illustration, 23.8ms\n",
            "7: 640x640 (no detections), 23.8ms\n",
            "8: 640x640 2 illustrations, 23.8ms\n",
            "9: 640x640 1 illustration, 23.8ms\n",
            "10: 640x640 6 illustrations, 23.8ms\n",
            "11: 640x640 8 illustrations, 23.8ms\n",
            "12: 640x640 10 illustrations, 23.8ms\n",
            "13: 640x640 6 illustrations, 23.8ms\n",
            "14: 640x640 1 illustration, 23.8ms\n",
            "15: 640x640 6 illustrations, 23.8ms\n",
            "16: 640x640 1 illustration, 23.8ms\n",
            "17: 640x640 10 illustrations, 23.8ms\n",
            "18: 640x640 4 illustrations, 23.8ms\n",
            "Speed: 4.7ms preprocess, 23.8ms inference, 0.9ms postprocess per image at shape (4, 3, 640, 640)\n",
            "Processing section 44/100...\n",
            "\n",
            "0: 640x640 1 illustration, 23.8ms\n",
            "1: 640x640 2 illustrations, 23.8ms\n",
            "2: 640x640 15 illustrations, 23.8ms\n",
            "3: 640x640 41 illustrations, 23.8ms\n",
            "4: 640x640 18 illustrations, 23.8ms\n",
            "5: 640x640 3 illustrations, 23.8ms\n",
            "6: 640x640 4 illustrations, 23.8ms\n",
            "7: 640x640 3 illustrations, 23.8ms\n",
            "8: 640x640 2 illustrations, 23.8ms\n",
            "9: 640x640 9 illustrations, 23.8ms\n",
            "10: 640x640 16 illustrations, 23.8ms\n",
            "11: 640x640 5 illustrations, 23.8ms\n",
            "12: 640x640 2 illustrations, 23.8ms\n",
            "13: 640x640 1 illustration, 23.8ms\n",
            "14: 640x640 2 illustrations, 23.8ms\n",
            "15: 640x640 1 illustration, 23.8ms\n",
            "16: 640x640 2 illustrations, 23.8ms\n",
            "17: 640x640 2 illustrations, 23.8ms\n",
            "18: 640x640 1 illustration, 23.8ms\n",
            "Speed: 5.0ms preprocess, 23.8ms inference, 1.2ms postprocess per image at shape (4, 3, 640, 640)\n",
            "Processing section 45/100...\n",
            "\n",
            "0: 640x640 5 illustrations, 25.3ms\n",
            "1: 640x640 5 illustrations, 25.3ms\n",
            "2: 640x640 1 illustration, 25.3ms\n",
            "3: 640x640 5 illustrations, 25.3ms\n",
            "4: 640x640 4 illustrations, 25.3ms\n",
            "5: 640x640 1 illustration, 25.3ms\n",
            "6: 640x640 1 illustration, 25.3ms\n",
            "7: 640x640 1 illustration, 25.3ms\n",
            "8: 640x640 3 illustrations, 25.3ms\n",
            "9: 640x640 1 illustration, 25.3ms\n",
            "10: 640x640 1 illustration, 25.3ms\n",
            "11: 640x640 11 illustrations, 25.3ms\n",
            "12: 640x640 2 illustrations, 25.3ms\n",
            "13: 640x640 (no detections), 25.3ms\n",
            "14: 640x640 2 illustrations, 25.3ms\n",
            "15: 640x640 7 illustrations, 25.3ms\n",
            "16: 640x640 1 illustration, 25.3ms\n",
            "17: 640x640 3 illustrations, 25.3ms\n",
            "18: 640x640 2 illustrations, 25.3ms\n",
            "Speed: 3.3ms preprocess, 25.3ms inference, 0.9ms postprocess per image at shape (4, 3, 640, 640)\n",
            "Processing section 46/100...\n",
            "\n",
            "0: 640x640 1 illustration, 25.6ms\n",
            "1: 640x640 5 illustrations, 25.6ms\n",
            "2: 640x640 6 illustrations, 25.6ms\n",
            "3: 640x640 2 illustrations, 25.6ms\n",
            "4: 640x640 6 illustrations, 25.6ms\n",
            "5: 640x640 1 illustration, 25.6ms\n",
            "6: 640x640 2 illustrations, 25.6ms\n",
            "7: 640x640 4 illustrations, 25.6ms\n",
            "8: 640x640 4 illustrations, 25.6ms\n",
            "9: 640x640 1 illustration, 25.6ms\n",
            "10: 640x640 1 illustration, 25.6ms\n",
            "11: 640x640 1 illustration, 25.6ms\n",
            "12: 640x640 5 illustrations, 25.6ms\n",
            "13: 640x640 1 illustration, 25.6ms\n",
            "14: 640x640 6 illustrations, 25.6ms\n",
            "15: 640x640 1 illustration, 25.6ms\n",
            "16: 640x640 2 illustrations, 25.6ms\n",
            "17: 640x640 2 illustrations, 25.6ms\n",
            "18: 640x640 10 illustrations, 25.6ms\n",
            "Speed: 3.3ms preprocess, 25.6ms inference, 0.9ms postprocess per image at shape (4, 3, 640, 640)\n",
            "Processing section 47/100...\n",
            "\n",
            "0: 640x640 6 illustrations, 26.1ms\n",
            "1: 640x640 4 illustrations, 26.1ms\n",
            "2: 640x640 1 illustration, 26.1ms\n",
            "3: 640x640 5 illustrations, 26.1ms\n",
            "4: 640x640 1 illustration, 26.1ms\n",
            "5: 640x640 2 illustrations, 26.1ms\n",
            "6: 640x640 1 illustration, 26.1ms\n",
            "7: 640x640 2 illustrations, 26.1ms\n",
            "8: 640x640 11 illustrations, 26.1ms\n",
            "9: 640x640 6 illustrations, 26.1ms\n",
            "10: 640x640 1 illustration, 26.1ms\n",
            "11: 640x640 1 illustration, 26.1ms\n",
            "12: 640x640 8 illustrations, 26.1ms\n",
            "13: 640x640 10 illustrations, 26.1ms\n",
            "14: 640x640 1 illustration, 26.1ms\n",
            "15: 640x640 1 illustration, 26.1ms\n",
            "16: 640x640 1 illustration, 26.1ms\n",
            "17: 640x640 4 illustrations, 26.1ms\n",
            "18: 640x640 4 illustrations, 26.1ms\n",
            "Speed: 3.4ms preprocess, 26.1ms inference, 1.4ms postprocess per image at shape (4, 3, 640, 640)\n",
            "Processing section 48/100...\n",
            "\n",
            "0: 640x640 1 illustration, 24.3ms\n",
            "1: 640x640 5 illustrations, 24.3ms\n",
            "2: 640x640 3 illustrations, 24.3ms\n",
            "3: 640x640 1 illustration, 24.3ms\n",
            "4: 640x640 1 illustration, 24.3ms\n",
            "5: 640x640 1 illustration, 24.3ms\n",
            "6: 640x640 5 illustrations, 24.3ms\n",
            "7: 640x640 4 illustrations, 24.3ms\n",
            "8: 640x640 2 illustrations, 24.3ms\n",
            "9: 640x640 3 illustrations, 24.3ms\n",
            "10: 640x640 8 illustrations, 24.3ms\n",
            "11: 640x640 7 illustrations, 24.3ms\n",
            "12: 640x640 2 illustrations, 24.3ms\n",
            "13: 640x640 4 illustrations, 24.3ms\n",
            "14: 640x640 3 illustrations, 24.3ms\n",
            "15: 640x640 3 illustrations, 24.3ms\n",
            "16: 640x640 2 illustrations, 24.3ms\n",
            "17: 640x640 13 illustrations, 24.3ms\n",
            "18: 640x640 2 illustrations, 24.3ms\n",
            "Speed: 3.3ms preprocess, 24.3ms inference, 0.9ms postprocess per image at shape (4, 3, 640, 640)\n",
            "Processing section 49/100...\n",
            "\n",
            "0: 640x640 1 illustration, 23.7ms\n",
            "1: 640x640 4 illustrations, 23.7ms\n",
            "2: 640x640 5 illustrations, 23.7ms\n",
            "3: 640x640 1 illustration, 23.7ms\n",
            "4: 640x640 5 illustrations, 23.7ms\n",
            "5: 640x640 4 illustrations, 23.7ms\n",
            "6: 640x640 4 illustrations, 23.7ms\n",
            "7: 640x640 3 illustrations, 23.7ms\n",
            "8: 640x640 2 illustrations, 23.7ms\n",
            "9: 640x640 3 illustrations, 23.7ms\n",
            "10: 640x640 2 illustrations, 23.7ms\n",
            "11: 640x640 4 illustrations, 23.7ms\n",
            "12: 640x640 7 illustrations, 23.7ms\n",
            "13: 640x640 1 illustration, 23.7ms\n",
            "14: 640x640 18 illustrations, 23.7ms\n",
            "15: 640x640 1 illustration, 23.7ms\n",
            "16: 640x640 6 illustrations, 23.7ms\n",
            "17: 640x640 1 illustration, 23.7ms\n",
            "18: 640x640 5 illustrations, 23.7ms\n",
            "Speed: 3.2ms preprocess, 23.7ms inference, 1.2ms postprocess per image at shape (4, 3, 640, 640)\n",
            "Processing section 50/100...\n",
            "\n",
            "0: 640x640 7 illustrations, 25.1ms\n",
            "1: 640x640 4 illustrations, 25.1ms\n",
            "2: 640x640 1 illustration, 25.1ms\n",
            "3: 640x640 (no detections), 25.1ms\n",
            "4: 640x640 6 illustrations, 25.1ms\n",
            "5: 640x640 1 illustration, 25.1ms\n",
            "6: 640x640 1 illustration, 25.1ms\n",
            "7: 640x640 3 illustrations, 25.1ms\n",
            "8: 640x640 1 illustration, 25.1ms\n",
            "9: 640x640 13 illustrations, 25.1ms\n",
            "10: 640x640 4 illustrations, 25.1ms\n",
            "11: 640x640 1 illustration, 25.1ms\n",
            "12: 640x640 1 illustration, 25.1ms\n",
            "13: 640x640 1 illustration, 25.1ms\n",
            "14: 640x640 3 illustrations, 25.1ms\n",
            "15: 640x640 1 illustration, 25.1ms\n",
            "16: 640x640 23 illustrations, 25.1ms\n",
            "17: 640x640 2 illustrations, 25.1ms\n",
            "18: 640x640 6 illustrations, 25.1ms\n",
            "Speed: 3.2ms preprocess, 25.1ms inference, 1.3ms postprocess per image at shape (4, 3, 640, 640)\n",
            "Processing section 51/100...\n",
            "\n",
            "0: 640x640 3 illustrations, 23.9ms\n",
            "1: 640x640 2 illustrations, 23.9ms\n",
            "2: 640x640 3 illustrations, 23.9ms\n",
            "3: 640x640 1 illustration, 23.9ms\n",
            "4: 640x640 2 illustrations, 23.9ms\n",
            "5: 640x640 1 illustration, 23.9ms\n",
            "6: 640x640 9 illustrations, 23.9ms\n",
            "7: 640x640 4 illustrations, 23.9ms\n",
            "8: 640x640 1 illustration, 23.9ms\n",
            "9: 640x640 5 illustrations, 23.9ms\n",
            "10: 640x640 4 illustrations, 23.9ms\n",
            "11: 640x640 1 illustration, 23.9ms\n",
            "12: 640x640 5 illustrations, 23.9ms\n",
            "13: 640x640 1 illustration, 23.9ms\n",
            "14: 640x640 7 illustrations, 23.9ms\n",
            "15: 640x640 4 illustrations, 23.9ms\n",
            "16: 640x640 2 illustrations, 23.9ms\n",
            "17: 640x640 21 illustrations, 23.9ms\n",
            "18: 640x640 7 illustrations, 23.9ms\n",
            "Speed: 3.2ms preprocess, 23.9ms inference, 0.9ms postprocess per image at shape (4, 3, 640, 640)\n",
            "Processing section 52/100...\n",
            "\n",
            "0: 640x640 11 illustrations, 24.7ms\n",
            "1: 640x640 1 illustration, 24.7ms\n",
            "2: 640x640 2 illustrations, 24.7ms\n",
            "3: 640x640 2 illustrations, 24.7ms\n",
            "4: 640x640 6 illustrations, 24.7ms\n",
            "5: 640x640 4 illustrations, 24.7ms\n",
            "6: 640x640 4 illustrations, 24.7ms\n",
            "7: 640x640 1 illustration, 24.7ms\n",
            "8: 640x640 14 illustrations, 24.7ms\n",
            "9: 640x640 5 illustrations, 24.7ms\n",
            "10: 640x640 6 illustrations, 24.7ms\n",
            "11: 640x640 5 illustrations, 24.7ms\n",
            "12: 640x640 1 illustration, 24.7ms\n",
            "13: 640x640 2 illustrations, 24.7ms\n",
            "14: 640x640 1 illustration, 24.7ms\n",
            "15: 640x640 3 illustrations, 24.7ms\n",
            "16: 640x640 1 illustration, 24.7ms\n",
            "17: 640x640 1 illustration, 24.7ms\n",
            "18: 640x640 5 illustrations, 24.7ms\n",
            "Speed: 3.3ms preprocess, 24.7ms inference, 0.9ms postprocess per image at shape (4, 3, 640, 640)\n",
            "Processing section 53/100...\n",
            "\n",
            "0: 640x640 4 illustrations, 25.2ms\n",
            "1: 640x640 5 illustrations, 25.2ms\n",
            "2: 640x640 4 illustrations, 25.2ms\n",
            "3: 640x640 4 illustrations, 25.2ms\n",
            "4: 640x640 2 illustrations, 25.2ms\n",
            "5: 640x640 3 illustrations, 25.2ms\n",
            "6: 640x640 1 illustration, 25.2ms\n",
            "7: 640x640 1 illustration, 25.2ms\n",
            "8: 640x640 2 illustrations, 25.2ms\n",
            "9: 640x640 1 illustration, 25.2ms\n",
            "10: 640x640 2 illustrations, 25.2ms\n",
            "11: 640x640 2 illustrations, 25.2ms\n",
            "12: 640x640 1 illustration, 25.2ms\n",
            "13: 640x640 1 illustration, 25.2ms\n",
            "14: 640x640 1 illustration, 25.2ms\n",
            "15: 640x640 1 illustration, 25.2ms\n",
            "16: 640x640 6 illustrations, 25.2ms\n",
            "17: 640x640 6 illustrations, 25.2ms\n",
            "18: 640x640 11 illustrations, 25.2ms\n",
            "Speed: 3.2ms preprocess, 25.2ms inference, 1.4ms postprocess per image at shape (4, 3, 640, 640)\n",
            "Processing section 54/100...\n",
            "\n",
            "0: 640x640 3 illustrations, 24.0ms\n",
            "1: 640x640 3 illustrations, 24.0ms\n",
            "2: 640x640 1 illustration, 24.0ms\n",
            "3: 640x640 2 illustrations, 24.0ms\n",
            "4: 640x640 2 illustrations, 24.0ms\n",
            "5: 640x640 11 illustrations, 24.0ms\n",
            "6: 640x640 1 illustration, 24.0ms\n",
            "7: 640x640 2 illustrations, 24.0ms\n",
            "8: 640x640 10 illustrations, 24.0ms\n",
            "9: 640x640 2 illustrations, 24.0ms\n",
            "10: 640x640 5 illustrations, 24.0ms\n",
            "11: 640x640 6 illustrations, 24.0ms\n",
            "12: 640x640 2 illustrations, 24.0ms\n",
            "13: 640x640 1 illustration, 24.0ms\n",
            "14: 640x640 2 illustrations, 24.0ms\n",
            "15: 640x640 1 illustration, 24.0ms\n",
            "16: 640x640 4 illustrations, 24.0ms\n",
            "17: 640x640 3 illustrations, 24.0ms\n",
            "18: 640x640 3 illustrations, 24.0ms\n",
            "Speed: 4.5ms preprocess, 24.0ms inference, 1.2ms postprocess per image at shape (4, 3, 640, 640)\n",
            "Processing section 55/100...\n",
            "\n",
            "0: 640x640 1 illustration, 26.0ms\n",
            "1: 640x640 1 illustration, 26.0ms\n",
            "2: 640x640 3 illustrations, 26.0ms\n",
            "3: 640x640 11 illustrations, 26.0ms\n",
            "4: 640x640 1 illustration, 26.0ms\n",
            "5: 640x640 4 illustrations, 26.0ms\n",
            "6: 640x640 4 illustrations, 26.0ms\n",
            "7: 640x640 2 illustrations, 26.0ms\n",
            "8: 640x640 6 illustrations, 26.0ms\n",
            "9: 640x640 2 illustrations, 26.0ms\n",
            "10: 640x640 5 illustrations, 26.0ms\n",
            "11: 640x640 5 illustrations, 26.0ms\n",
            "12: 640x640 21 illustrations, 26.0ms\n",
            "13: 640x640 1 illustration, 26.0ms\n",
            "14: 640x640 9 illustrations, 26.0ms\n",
            "15: 640x640 1 illustration, 26.0ms\n",
            "16: 640x640 1 illustration, 26.0ms\n",
            "17: 640x640 1 illustration, 26.0ms\n",
            "18: 640x640 26 illustrations, 26.0ms\n",
            "Speed: 3.2ms preprocess, 26.0ms inference, 0.9ms postprocess per image at shape (4, 3, 640, 640)\n",
            "Processing section 56/100...\n",
            "\n",
            "0: 640x640 1 illustration, 24.5ms\n",
            "1: 640x640 1 illustration, 24.5ms\n",
            "2: 640x640 4 illustrations, 24.5ms\n",
            "3: 640x640 3 illustrations, 24.5ms\n",
            "4: 640x640 4 illustrations, 24.5ms\n",
            "5: 640x640 1 illustration, 24.5ms\n",
            "6: 640x640 3 illustrations, 24.5ms\n",
            "7: 640x640 9 illustrations, 24.5ms\n",
            "8: 640x640 1 illustration, 24.5ms\n",
            "9: 640x640 1 illustration, 24.5ms\n",
            "10: 640x640 2 illustrations, 24.5ms\n",
            "11: 640x640 1 illustration, 24.5ms\n",
            "12: 640x640 1 illustration, 24.5ms\n",
            "13: 640x640 10 illustrations, 24.5ms\n",
            "14: 640x640 3 illustrations, 24.5ms\n",
            "15: 640x640 1 illustration, 24.5ms\n",
            "16: 640x640 1 illustration, 24.5ms\n",
            "17: 640x640 6 illustrations, 24.5ms\n",
            "18: 640x640 1 illustration, 24.5ms\n",
            "Speed: 4.7ms preprocess, 24.5ms inference, 1.5ms postprocess per image at shape (4, 3, 640, 640)\n",
            "Processing section 57/100...\n",
            "\n",
            "0: 640x640 3 illustrations, 24.4ms\n",
            "1: 640x640 2 illustrations, 24.4ms\n",
            "2: 640x640 1 illustration, 24.4ms\n",
            "3: 640x640 4 illustrations, 24.4ms\n",
            "4: 640x640 1 illustration, 24.4ms\n",
            "5: 640x640 5 illustrations, 24.4ms\n",
            "6: 640x640 1 illustration, 24.4ms\n",
            "7: 640x640 5 illustrations, 24.4ms\n",
            "8: 640x640 2 illustrations, 24.4ms\n",
            "9: 640x640 2 illustrations, 24.4ms\n",
            "10: 640x640 2 illustrations, 24.4ms\n",
            "11: 640x640 2 illustrations, 24.4ms\n",
            "12: 640x640 6 illustrations, 24.4ms\n",
            "13: 640x640 1 illustration, 24.4ms\n",
            "14: 640x640 1 illustration, 24.4ms\n",
            "15: 640x640 9 illustrations, 24.4ms\n",
            "16: 640x640 2 illustrations, 24.4ms\n",
            "17: 640x640 2 illustrations, 24.4ms\n",
            "18: 640x640 4 illustrations, 24.4ms\n",
            "Speed: 3.2ms preprocess, 24.4ms inference, 0.9ms postprocess per image at shape (4, 3, 640, 640)\n",
            "Processing section 58/100...\n",
            "\n",
            "0: 640x640 3 illustrations, 25.7ms\n",
            "1: 640x640 1 illustration, 25.7ms\n",
            "2: 640x640 2 illustrations, 25.7ms\n",
            "3: 640x640 3 illustrations, 25.7ms\n",
            "4: 640x640 5 illustrations, 25.7ms\n",
            "5: 640x640 4 illustrations, 25.7ms\n",
            "6: 640x640 2 illustrations, 25.7ms\n",
            "7: 640x640 1 illustration, 25.7ms\n",
            "8: 640x640 1 illustration, 25.7ms\n",
            "9: 640x640 2 illustrations, 25.7ms\n",
            "10: 640x640 1 illustration, 25.7ms\n",
            "11: 640x640 1 illustration, 25.7ms\n",
            "12: 640x640 3 illustrations, 25.7ms\n",
            "13: 640x640 9 illustrations, 25.7ms\n",
            "14: 640x640 7 illustrations, 25.7ms\n",
            "15: 640x640 3 illustrations, 25.7ms\n",
            "16: 640x640 1 illustration, 25.7ms\n",
            "17: 640x640 1 illustration, 25.7ms\n",
            "18: 640x640 4 illustrations, 25.7ms\n",
            "Speed: 3.3ms preprocess, 25.7ms inference, 0.9ms postprocess per image at shape (4, 3, 640, 640)\n",
            "Processing section 59/100...\n",
            "\n",
            "0: 640x640 3 illustrations, 24.1ms\n",
            "1: 640x640 1 illustration, 24.1ms\n",
            "2: 640x640 4 illustrations, 24.1ms\n",
            "3: 640x640 3 illustrations, 24.1ms\n",
            "4: 640x640 7 illustrations, 24.1ms\n",
            "5: 640x640 16 illustrations, 24.1ms\n",
            "6: 640x640 1 illustration, 24.1ms\n",
            "7: 640x640 9 illustrations, 24.1ms\n",
            "8: 640x640 2 illustrations, 24.1ms\n",
            "9: 640x640 (no detections), 24.1ms\n",
            "10: 640x640 1 illustration, 24.1ms\n",
            "11: 640x640 1 illustration, 24.1ms\n",
            "12: 640x640 4 illustrations, 24.1ms\n",
            "13: 640x640 1 illustration, 24.1ms\n",
            "14: 640x640 1 illustration, 24.1ms\n",
            "15: 640x640 12 illustrations, 24.1ms\n",
            "16: 640x640 1 illustration, 24.1ms\n",
            "17: 640x640 1 illustration, 24.1ms\n",
            "18: 640x640 1 illustration, 24.1ms\n",
            "Speed: 3.1ms preprocess, 24.1ms inference, 0.9ms postprocess per image at shape (4, 3, 640, 640)\n",
            "Processing section 60/100...\n",
            "\n",
            "0: 640x640 1 illustration, 24.3ms\n",
            "1: 640x640 8 illustrations, 24.3ms\n",
            "2: 640x640 3 illustrations, 24.3ms\n",
            "3: 640x640 3 illustrations, 24.3ms\n",
            "4: 640x640 2 illustrations, 24.3ms\n",
            "5: 640x640 2 illustrations, 24.3ms\n",
            "6: 640x640 1 illustration, 24.3ms\n",
            "7: 640x640 5 illustrations, 24.3ms\n",
            "8: 640x640 5 illustrations, 24.3ms\n",
            "9: 640x640 10 illustrations, 24.3ms\n",
            "10: 640x640 6 illustrations, 24.3ms\n",
            "11: 640x640 1 illustration, 24.3ms\n",
            "12: 640x640 1 illustration, 24.3ms\n",
            "13: 640x640 4 illustrations, 24.3ms\n",
            "14: 640x640 1 illustration, 24.3ms\n",
            "15: 640x640 2 illustrations, 24.3ms\n",
            "16: 640x640 1 illustration, 24.3ms\n",
            "17: 640x640 1 illustration, 24.3ms\n",
            "18: 640x640 1 illustration, 24.3ms\n",
            "Speed: 3.1ms preprocess, 24.3ms inference, 0.9ms postprocess per image at shape (4, 3, 640, 640)\n",
            "Processing section 61/100...\n",
            "\n",
            "0: 640x640 1 illustration, 24.1ms\n",
            "1: 640x640 2 illustrations, 24.1ms\n",
            "2: 640x640 2 illustrations, 24.1ms\n",
            "3: 640x640 2 illustrations, 24.1ms\n",
            "4: 640x640 1 illustration, 24.1ms\n",
            "5: 640x640 2 illustrations, 24.1ms\n",
            "6: 640x640 2 illustrations, 24.1ms\n",
            "7: 640x640 2 illustrations, 24.1ms\n",
            "8: 640x640 4 illustrations, 24.1ms\n",
            "9: 640x640 4 illustrations, 24.1ms\n",
            "10: 640x640 3 illustrations, 24.1ms\n",
            "11: 640x640 5 illustrations, 24.1ms\n",
            "12: 640x640 3 illustrations, 24.1ms\n",
            "13: 640x640 2 illustrations, 24.1ms\n",
            "14: 640x640 7 illustrations, 24.1ms\n",
            "15: 640x640 4 illustrations, 24.1ms\n",
            "16: 640x640 1 illustration, 24.1ms\n",
            "17: 640x640 2 illustrations, 24.1ms\n",
            "18: 640x640 3 illustrations, 24.1ms\n",
            "Speed: 3.4ms preprocess, 24.1ms inference, 0.9ms postprocess per image at shape (4, 3, 640, 640)\n",
            "Processing section 62/100...\n",
            "\n",
            "0: 640x640 2 illustrations, 24.7ms\n",
            "1: 640x640 1 illustration, 24.7ms\n",
            "2: 640x640 2 illustrations, 24.7ms\n",
            "3: 640x640 4 illustrations, 24.7ms\n",
            "4: 640x640 70 illustrations, 24.7ms\n",
            "5: 640x640 4 illustrations, 24.7ms\n",
            "6: 640x640 7 illustrations, 24.7ms\n",
            "7: 640x640 7 illustrations, 24.7ms\n",
            "8: 640x640 2 illustrations, 24.7ms\n",
            "9: 640x640 4 illustrations, 24.7ms\n",
            "10: 640x640 1 illustration, 24.7ms\n",
            "11: 640x640 1 illustration, 24.7ms\n",
            "12: 640x640 6 illustrations, 24.7ms\n",
            "13: 640x640 2 illustrations, 24.7ms\n",
            "14: 640x640 1 illustration, 24.7ms\n",
            "15: 640x640 4 illustrations, 24.7ms\n",
            "16: 640x640 8 illustrations, 24.7ms\n",
            "17: 640x640 1 illustration, 24.7ms\n",
            "18: 640x640 2 illustrations, 24.7ms\n",
            "Speed: 3.3ms preprocess, 24.7ms inference, 1.4ms postprocess per image at shape (4, 3, 640, 640)\n",
            "Processing section 63/100...\n",
            "\n",
            "0: 640x640 3 illustrations, 24.4ms\n",
            "1: 640x640 2 illustrations, 24.4ms\n",
            "2: 640x640 7 illustrations, 24.4ms\n",
            "3: 640x640 4 illustrations, 24.4ms\n",
            "4: 640x640 1 illustration, 24.4ms\n",
            "5: 640x640 1 illustration, 24.4ms\n",
            "6: 640x640 2 illustrations, 24.4ms\n",
            "7: 640x640 1 illustration, 24.4ms\n",
            "8: 640x640 3 illustrations, 24.4ms\n",
            "9: 640x640 1 illustration, 24.4ms\n",
            "10: 640x640 6 illustrations, 24.4ms\n",
            "11: 640x640 1 illustration, 24.4ms\n",
            "12: 640x640 4 illustrations, 24.4ms\n",
            "13: 640x640 3 illustrations, 24.4ms\n",
            "14: 640x640 1 illustration, 24.4ms\n",
            "15: 640x640 2 illustrations, 24.4ms\n",
            "16: 640x640 2 illustrations, 24.4ms\n",
            "17: 640x640 1 illustration, 24.4ms\n",
            "18: 640x640 1 illustration, 24.4ms\n",
            "Speed: 4.5ms preprocess, 24.4ms inference, 1.5ms postprocess per image at shape (4, 3, 640, 640)\n",
            "Processing section 64/100...\n",
            "\n",
            "0: 640x640 3 illustrations, 26.1ms\n",
            "1: 640x640 1 illustration, 26.1ms\n",
            "2: 640x640 6 illustrations, 26.1ms\n",
            "3: 640x640 5 illustrations, 26.1ms\n",
            "4: 640x640 27 illustrations, 26.1ms\n",
            "5: 640x640 1 illustration, 26.1ms\n",
            "6: 640x640 1 illustration, 26.1ms\n",
            "7: 640x640 1 illustration, 26.1ms\n",
            "8: 640x640 3 illustrations, 26.1ms\n",
            "9: 640x640 5 illustrations, 26.1ms\n",
            "10: 640x640 1 illustration, 26.1ms\n",
            "11: 640x640 16 illustrations, 26.1ms\n",
            "12: 640x640 4 illustrations, 26.1ms\n",
            "13: 640x640 6 illustrations, 26.1ms\n",
            "14: 640x640 1 illustration, 26.1ms\n",
            "15: 640x640 1 illustration, 26.1ms\n",
            "16: 640x640 3 illustrations, 26.1ms\n",
            "17: 640x640 4 illustrations, 26.1ms\n",
            "18: 640x640 3 illustrations, 26.1ms\n",
            "Speed: 7.1ms preprocess, 26.1ms inference, 1.3ms postprocess per image at shape (4, 3, 640, 640)\n",
            "Processing section 65/100...\n",
            "\n",
            "0: 640x640 4 illustrations, 23.7ms\n",
            "1: 640x640 23 illustrations, 23.7ms\n",
            "2: 640x640 2 illustrations, 23.7ms\n",
            "3: 640x640 1 illustration, 23.7ms\n",
            "4: 640x640 5 illustrations, 23.7ms\n",
            "5: 640x640 1 illustration, 23.7ms\n",
            "6: 640x640 1 illustration, 23.7ms\n",
            "7: 640x640 2 illustrations, 23.7ms\n",
            "8: 640x640 5 illustrations, 23.7ms\n",
            "9: 640x640 4 illustrations, 23.7ms\n",
            "10: 640x640 1 illustration, 23.7ms\n",
            "11: 640x640 4 illustrations, 23.7ms\n",
            "12: 640x640 1 illustration, 23.7ms\n",
            "13: 640x640 3 illustrations, 23.7ms\n",
            "14: 640x640 6 illustrations, 23.7ms\n",
            "15: 640x640 1 illustration, 23.7ms\n",
            "16: 640x640 8 illustrations, 23.7ms\n",
            "17: 640x640 2 illustrations, 23.7ms\n",
            "18: 640x640 11 illustrations, 23.7ms\n",
            "Speed: 3.3ms preprocess, 23.7ms inference, 0.9ms postprocess per image at shape (4, 3, 640, 640)\n",
            "Processing section 66/100...\n",
            "\n",
            "0: 640x640 8 illustrations, 25.0ms\n",
            "1: 640x640 6 illustrations, 25.0ms\n",
            "2: 640x640 1 illustration, 25.0ms\n",
            "3: 640x640 3 illustrations, 25.0ms\n",
            "4: 640x640 6 illustrations, 25.0ms\n",
            "5: 640x640 1 illustration, 25.0ms\n",
            "6: 640x640 1 illustration, 25.0ms\n",
            "7: 640x640 1 illustration, 25.0ms\n",
            "8: 640x640 5 illustrations, 25.0ms\n",
            "9: 640x640 4 illustrations, 25.0ms\n",
            "10: 640x640 1 illustration, 25.0ms\n",
            "11: 640x640 3 illustrations, 25.0ms\n",
            "12: 640x640 16 illustrations, 25.0ms\n",
            "13: 640x640 2 illustrations, 25.0ms\n",
            "14: 640x640 1 illustration, 25.0ms\n",
            "15: 640x640 5 illustrations, 25.0ms\n",
            "16: 640x640 1 illustration, 25.0ms\n",
            "17: 640x640 4 illustrations, 25.0ms\n",
            "18: 640x640 2 illustrations, 25.0ms\n",
            "Speed: 3.2ms preprocess, 25.0ms inference, 0.9ms postprocess per image at shape (4, 3, 640, 640)\n",
            "Processing section 67/100...\n",
            "\n",
            "0: 640x640 3 illustrations, 24.3ms\n",
            "1: 640x640 8 illustrations, 24.3ms\n",
            "2: 640x640 2 illustrations, 24.3ms\n",
            "3: 640x640 5 illustrations, 24.3ms\n",
            "4: 640x640 3 illustrations, 24.3ms\n",
            "5: 640x640 6 illustrations, 24.3ms\n",
            "6: 640x640 1 illustration, 24.3ms\n",
            "7: 640x640 2 illustrations, 24.3ms\n",
            "8: 640x640 1 illustration, 24.3ms\n",
            "9: 640x640 6 illustrations, 24.3ms\n",
            "10: 640x640 1 illustration, 24.3ms\n",
            "11: 640x640 1 illustration, 24.3ms\n",
            "12: 640x640 1 illustration, 24.3ms\n",
            "13: 640x640 2 illustrations, 24.3ms\n",
            "14: 640x640 1 illustration, 24.3ms\n",
            "15: 640x640 1 illustration, 24.3ms\n",
            "16: 640x640 14 illustrations, 24.3ms\n",
            "17: 640x640 5 illustrations, 24.3ms\n",
            "18: 640x640 6 illustrations, 24.3ms\n",
            "Speed: 3.1ms preprocess, 24.3ms inference, 1.2ms postprocess per image at shape (4, 3, 640, 640)\n",
            "Processing section 68/100...\n",
            "\n",
            "0: 640x640 2 illustrations, 25.5ms\n",
            "1: 640x640 6 illustrations, 25.5ms\n",
            "2: 640x640 1 illustration, 25.5ms\n",
            "3: 640x640 7 illustrations, 25.5ms\n",
            "4: 640x640 4 illustrations, 25.5ms\n",
            "5: 640x640 5 illustrations, 25.5ms\n",
            "6: 640x640 3 illustrations, 25.5ms\n",
            "7: 640x640 1 illustration, 25.5ms\n",
            "8: 640x640 26 illustrations, 25.5ms\n",
            "9: 640x640 4 illustrations, 25.5ms\n",
            "10: 640x640 1 illustration, 25.5ms\n",
            "11: 640x640 3 illustrations, 25.5ms\n",
            "12: 640x640 1 illustration, 25.5ms\n",
            "13: 640x640 13 illustrations, 25.5ms\n",
            "14: 640x640 1 illustration, 25.5ms\n",
            "15: 640x640 1 illustration, 25.5ms\n",
            "16: 640x640 (no detections), 25.5ms\n",
            "17: 640x640 2 illustrations, 25.5ms\n",
            "18: 640x640 8 illustrations, 25.5ms\n",
            "Speed: 3.4ms preprocess, 25.5ms inference, 0.9ms postprocess per image at shape (4, 3, 640, 640)\n",
            "Processing section 69/100...\n",
            "\n",
            "0: 640x640 15 illustrations, 24.5ms\n",
            "1: 640x640 1 illustration, 24.5ms\n",
            "2: 640x640 1 illustration, 24.5ms\n",
            "3: 640x640 1 illustration, 24.5ms\n",
            "4: 640x640 1 illustration, 24.5ms\n",
            "5: 640x640 25 illustrations, 24.5ms\n",
            "6: 640x640 2 illustrations, 24.5ms\n",
            "7: 640x640 1 illustration, 24.5ms\n",
            "8: 640x640 3 illustrations, 24.5ms\n",
            "9: 640x640 1 illustration, 24.5ms\n",
            "10: 640x640 30 illustrations, 24.5ms\n",
            "11: 640x640 2 illustrations, 24.5ms\n",
            "12: 640x640 6 illustrations, 24.5ms\n",
            "13: 640x640 4 illustrations, 24.5ms\n",
            "14: 640x640 4 illustrations, 24.5ms\n",
            "15: 640x640 9 illustrations, 24.5ms\n",
            "16: 640x640 6 illustrations, 24.5ms\n",
            "17: 640x640 1 illustration, 24.5ms\n",
            "18: 640x640 1 illustration, 24.5ms\n",
            "Speed: 3.7ms preprocess, 24.5ms inference, 1.3ms postprocess per image at shape (4, 3, 640, 640)\n",
            "Processing section 70/100...\n",
            "\n",
            "0: 640x640 3 illustrations, 23.8ms\n",
            "1: 640x640 2 illustrations, 23.8ms\n",
            "2: 640x640 2 illustrations, 23.8ms\n",
            "3: 640x640 3 illustrations, 23.8ms\n",
            "4: 640x640 1 illustration, 23.8ms\n",
            "5: 640x640 3 illustrations, 23.8ms\n",
            "6: 640x640 10 illustrations, 23.8ms\n",
            "7: 640x640 1 illustration, 23.8ms\n",
            "8: 640x640 8 illustrations, 23.8ms\n",
            "9: 640x640 3 illustrations, 23.8ms\n",
            "10: 640x640 1 illustration, 23.8ms\n",
            "11: 640x640 1 illustration, 23.8ms\n",
            "12: 640x640 1 illustration, 23.8ms\n",
            "13: 640x640 4 illustrations, 23.8ms\n",
            "14: 640x640 1 illustration, 23.8ms\n",
            "15: 640x640 2 illustrations, 23.8ms\n",
            "16: 640x640 5 illustrations, 23.8ms\n",
            "17: 640x640 1 illustration, 23.8ms\n",
            "18: 640x640 1 illustration, 23.8ms\n",
            "Speed: 3.0ms preprocess, 23.8ms inference, 0.9ms postprocess per image at shape (4, 3, 640, 640)\n",
            "Processing section 71/100...\n",
            "\n",
            "0: 640x640 1 illustration, 25.5ms\n",
            "1: 640x640 1 illustration, 25.5ms\n",
            "2: 640x640 1 illustration, 25.5ms\n",
            "3: 640x640 1 illustration, 25.5ms\n",
            "4: 640x640 15 illustrations, 25.5ms\n",
            "5: 640x640 1 illustration, 25.5ms\n",
            "6: 640x640 1 illustration, 25.5ms\n",
            "7: 640x640 1 illustration, 25.5ms\n",
            "8: 640x640 1 illustration, 25.5ms\n",
            "9: 640x640 1 illustration, 25.5ms\n",
            "10: 640x640 2 illustrations, 25.5ms\n",
            "11: 640x640 71 illustrations, 25.5ms\n",
            "12: 640x640 3 illustrations, 25.5ms\n",
            "13: 640x640 4 illustrations, 25.5ms\n",
            "14: 640x640 3 illustrations, 25.5ms\n",
            "15: 640x640 1 illustration, 25.5ms\n",
            "16: 640x640 2 illustrations, 25.5ms\n",
            "17: 640x640 1 illustration, 25.5ms\n",
            "18: 640x640 2 illustrations, 25.5ms\n",
            "Speed: 3.1ms preprocess, 25.5ms inference, 0.9ms postprocess per image at shape (4, 3, 640, 640)\n",
            "Processing section 72/100...\n",
            "\n",
            "0: 640x640 1 illustration, 24.3ms\n",
            "1: 640x640 1 illustration, 24.3ms\n",
            "2: 640x640 3 illustrations, 24.3ms\n",
            "3: 640x640 1 illustration, 24.3ms\n",
            "4: 640x640 1 illustration, 24.3ms\n",
            "5: 640x640 1 illustration, 24.3ms\n",
            "6: 640x640 7 illustrations, 24.3ms\n",
            "7: 640x640 3 illustrations, 24.3ms\n",
            "8: 640x640 2 illustrations, 24.3ms\n",
            "9: 640x640 9 illustrations, 24.3ms\n",
            "10: 640x640 6 illustrations, 24.3ms\n",
            "11: 640x640 1 illustration, 24.3ms\n",
            "12: 640x640 6 illustrations, 24.3ms\n",
            "13: 640x640 1 illustration, 24.3ms\n",
            "14: 640x640 1 illustration, 24.3ms\n",
            "15: 640x640 11 illustrations, 24.3ms\n",
            "16: 640x640 3 illustrations, 24.3ms\n",
            "17: 640x640 4 illustrations, 24.3ms\n",
            "18: 640x640 12 illustrations, 24.3ms\n",
            "Speed: 3.1ms preprocess, 24.3ms inference, 1.0ms postprocess per image at shape (4, 3, 640, 640)\n",
            "Processing section 73/100...\n",
            "\n"
          ]
        },
        {
          "name": "stderr",
          "output_type": "stream",
          "text": [
            "/usr/local/lib/python3.12/dist-packages/PIL/Image.py:3452: DecompressionBombWarning: Image size (131542390 pixels) exceeds limit of 89478485 pixels, could be decompression bomb DOS attack.\n",
            "  warnings.warn(\n"
          ]
        },
        {
          "name": "stdout",
          "output_type": "stream",
          "text": [
            "0: 640x640 2 illustrations, 23.6ms\n",
            "1: 640x640 7 illustrations, 23.6ms\n",
            "2: 640x640 1 illustration, 23.6ms\n",
            "3: 640x640 2 illustrations, 23.6ms\n",
            "4: 640x640 1 illustration, 23.6ms\n",
            "5: 640x640 1 illustration, 23.6ms\n",
            "6: 640x640 6 illustrations, 23.6ms\n",
            "7: 640x640 4 illustrations, 23.6ms\n",
            "8: 640x640 1 illustration, 23.6ms\n",
            "9: 640x640 1 illustration, 23.6ms\n",
            "10: 640x640 1 illustration, 23.6ms\n",
            "11: 640x640 1 illustration, 23.6ms\n",
            "12: 640x640 4 illustrations, 23.6ms\n",
            "13: 640x640 3 illustrations, 23.6ms\n",
            "14: 640x640 1 illustration, 23.6ms\n",
            "15: 640x640 1 illustration, 23.6ms\n",
            "16: 640x640 3 illustrations, 23.6ms\n",
            "17: 640x640 4 illustrations, 23.6ms\n",
            "18: 640x640 1 illustration, 23.6ms\n",
            "Speed: 3.4ms preprocess, 23.6ms inference, 0.9ms postprocess per image at shape (4, 3, 640, 640)\n",
            "Processing section 74/100...\n",
            "\n",
            "0: 640x640 2 illustrations, 24.5ms\n",
            "1: 640x640 28 illustrations, 24.5ms\n",
            "2: 640x640 1 illustration, 24.5ms\n",
            "3: 640x640 2 illustrations, 24.5ms\n",
            "4: 640x640 6 illustrations, 24.5ms\n",
            "5: 640x640 2 illustrations, 24.5ms\n",
            "6: 640x640 2 illustrations, 24.5ms\n",
            "7: 640x640 1 illustration, 24.5ms\n",
            "8: 640x640 1 illustration, 24.5ms\n",
            "9: 640x640 1 illustration, 24.5ms\n",
            "10: 640x640 13 illustrations, 24.5ms\n",
            "11: 640x640 6 illustrations, 24.5ms\n",
            "12: 640x640 4 illustrations, 24.5ms\n",
            "13: 640x640 3 illustrations, 24.5ms\n",
            "14: 640x640 2 illustrations, 24.5ms\n",
            "15: 640x640 2 illustrations, 24.5ms\n",
            "16: 640x640 7 illustrations, 24.5ms\n",
            "17: 640x640 1 illustration, 24.5ms\n",
            "18: 640x640 4 illustrations, 24.5ms\n",
            "Speed: 3.3ms preprocess, 24.5ms inference, 0.9ms postprocess per image at shape (4, 3, 640, 640)\n",
            "Processing section 75/100...\n",
            "\n",
            "0: 640x640 2 illustrations, 26.1ms\n",
            "1: 640x640 6 illustrations, 26.1ms\n",
            "2: 640x640 2 illustrations, 26.1ms\n",
            "3: 640x640 1 illustration, 26.1ms\n",
            "4: 640x640 5 illustrations, 26.1ms\n",
            "5: 640x640 13 illustrations, 26.1ms\n",
            "6: 640x640 2 illustrations, 26.1ms\n",
            "7: 640x640 9 illustrations, 26.1ms\n",
            "8: 640x640 1 illustration, 26.1ms\n",
            "9: 640x640 1 illustration, 26.1ms\n",
            "10: 640x640 9 illustrations, 26.1ms\n",
            "11: 640x640 2 illustrations, 26.1ms\n",
            "12: 640x640 1 illustration, 26.1ms\n",
            "13: 640x640 2 illustrations, 26.1ms\n",
            "14: 640x640 15 illustrations, 26.1ms\n",
            "15: 640x640 4 illustrations, 26.1ms\n",
            "16: 640x640 1 illustration, 26.1ms\n",
            "17: 640x640 4 illustrations, 26.1ms\n",
            "18: 640x640 6 illustrations, 26.1ms\n",
            "Speed: 4.5ms preprocess, 26.1ms inference, 1.6ms postprocess per image at shape (4, 3, 640, 640)\n",
            "Processing section 76/100...\n",
            "\n",
            "0: 640x640 1 illustration, 25.2ms\n",
            "1: 640x640 10 illustrations, 25.2ms\n",
            "2: 640x640 6 illustrations, 25.2ms\n",
            "3: 640x640 1 illustration, 25.2ms\n",
            "4: 640x640 2 illustrations, 25.2ms\n",
            "5: 640x640 4 illustrations, 25.2ms\n",
            "6: 640x640 4 illustrations, 25.2ms\n",
            "7: 640x640 2 illustrations, 25.2ms\n",
            "8: 640x640 1 illustration, 25.2ms\n",
            "9: 640x640 3 illustrations, 25.2ms\n",
            "10: 640x640 1 illustration, 25.2ms\n",
            "11: 640x640 6 illustrations, 25.2ms\n",
            "12: 640x640 1 illustration, 25.2ms\n",
            "13: 640x640 2 illustrations, 25.2ms\n",
            "14: 640x640 7 illustrations, 25.2ms\n",
            "15: 640x640 1 illustration, 25.2ms\n",
            "16: 640x640 6 illustrations, 25.2ms\n",
            "17: 640x640 25 illustrations, 25.2ms\n",
            "18: 640x640 1 illustration, 25.2ms\n",
            "Speed: 3.1ms preprocess, 25.2ms inference, 0.9ms postprocess per image at shape (4, 3, 640, 640)\n",
            "Processing section 77/100...\n",
            "\n",
            "0: 640x640 4 illustrations, 25.4ms\n",
            "1: 640x640 3 illustrations, 25.4ms\n",
            "2: 640x640 5 illustrations, 25.4ms\n",
            "3: 640x640 3 illustrations, 25.4ms\n",
            "4: 640x640 5 illustrations, 25.4ms\n",
            "5: 640x640 1 illustration, 25.4ms\n",
            "6: 640x640 16 illustrations, 25.4ms\n",
            "7: 640x640 5 illustrations, 25.4ms\n",
            "8: 640x640 4 illustrations, 25.4ms\n",
            "9: 640x640 4 illustrations, 25.4ms\n",
            "10: 640x640 1 illustration, 25.4ms\n",
            "11: 640x640 2 illustrations, 25.4ms\n",
            "12: 640x640 2 illustrations, 25.4ms\n",
            "13: 640x640 2 illustrations, 25.4ms\n",
            "14: 640x640 3 illustrations, 25.4ms\n",
            "15: 640x640 1 illustration, 25.4ms\n",
            "16: 640x640 5 illustrations, 25.4ms\n",
            "17: 640x640 12 illustrations, 25.4ms\n",
            "18: 640x640 4 illustrations, 25.4ms\n",
            "Speed: 3.3ms preprocess, 25.4ms inference, 1.0ms postprocess per image at shape (4, 3, 640, 640)\n",
            "Processing section 78/100...\n",
            "\n",
            "0: 640x640 5 illustrations, 24.0ms\n",
            "1: 640x640 6 illustrations, 24.0ms\n",
            "2: 640x640 4 illustrations, 24.0ms\n",
            "3: 640x640 2 illustrations, 24.0ms\n",
            "4: 640x640 6 illustrations, 24.0ms\n",
            "5: 640x640 1 illustration, 24.0ms\n",
            "6: 640x640 1 illustration, 24.0ms\n",
            "7: 640x640 1 illustration, 24.0ms\n",
            "8: 640x640 1 illustration, 24.0ms\n",
            "9: 640x640 1 illustration, 24.0ms\n",
            "10: 640x640 1 illustration, 24.0ms\n",
            "11: 640x640 5 illustrations, 24.0ms\n",
            "12: 640x640 2 illustrations, 24.0ms\n",
            "13: 640x640 4 illustrations, 24.0ms\n",
            "14: 640x640 2 illustrations, 24.0ms\n",
            "15: 640x640 2 illustrations, 24.0ms\n",
            "16: 640x640 1 illustration, 24.0ms\n",
            "17: 640x640 4 illustrations, 24.0ms\n",
            "18: 640x640 5 illustrations, 24.0ms\n",
            "Speed: 3.3ms preprocess, 24.0ms inference, 0.9ms postprocess per image at shape (4, 3, 640, 640)\n",
            "Processing section 79/100...\n",
            "\n",
            "0: 640x640 1 illustration, 24.9ms\n",
            "1: 640x640 1 illustration, 24.9ms\n",
            "2: 640x640 1 illustration, 24.9ms\n",
            "3: 640x640 4 illustrations, 24.9ms\n",
            "4: 640x640 1 illustration, 24.9ms\n",
            "5: 640x640 7 illustrations, 24.9ms\n",
            "6: 640x640 3 illustrations, 24.9ms\n",
            "7: 640x640 4 illustrations, 24.9ms\n",
            "8: 640x640 6 illustrations, 24.9ms\n",
            "9: 640x640 2 illustrations, 24.9ms\n",
            "10: 640x640 1 illustration, 24.9ms\n",
            "11: 640x640 1 illustration, 24.9ms\n",
            "12: 640x640 3 illustrations, 24.9ms\n",
            "13: 640x640 5 illustrations, 24.9ms\n",
            "14: 640x640 1 illustration, 24.9ms\n",
            "15: 640x640 4 illustrations, 24.9ms\n",
            "16: 640x640 3 illustrations, 24.9ms\n",
            "17: 640x640 1 illustration, 24.9ms\n",
            "18: 640x640 1 illustration, 24.9ms\n",
            "Speed: 3.1ms preprocess, 24.9ms inference, 0.9ms postprocess per image at shape (4, 3, 640, 640)\n",
            "Processing section 80/100...\n",
            "\n",
            "0: 640x640 7 illustrations, 23.7ms\n",
            "1: 640x640 9 illustrations, 23.7ms\n",
            "2: 640x640 1 illustration, 23.7ms\n",
            "3: 640x640 2 illustrations, 23.7ms\n",
            "4: 640x640 3 illustrations, 23.7ms\n",
            "5: 640x640 3 illustrations, 23.7ms\n",
            "6: 640x640 1 illustration, 23.7ms\n",
            "7: 640x640 5 illustrations, 23.7ms\n",
            "8: 640x640 4 illustrations, 23.7ms\n",
            "9: 640x640 5 illustrations, 23.7ms\n",
            "10: 640x640 1 illustration, 23.7ms\n",
            "11: 640x640 3 illustrations, 23.7ms\n",
            "12: 640x640 7 illustrations, 23.7ms\n",
            "13: 640x640 1 illustration, 23.7ms\n",
            "14: 640x640 1 illustration, 23.7ms\n",
            "15: 640x640 1 illustration, 23.7ms\n",
            "16: 640x640 5 illustrations, 23.7ms\n",
            "17: 640x640 2 illustrations, 23.7ms\n",
            "18: 640x640 3 illustrations, 23.7ms\n",
            "Speed: 3.1ms preprocess, 23.7ms inference, 0.9ms postprocess per image at shape (4, 3, 640, 640)\n",
            "Processing section 81/100...\n",
            "\n",
            "0: 640x640 3 illustrations, 23.8ms\n",
            "1: 640x640 3 illustrations, 23.8ms\n",
            "2: 640x640 4 illustrations, 23.8ms\n",
            "3: 640x640 1 illustration, 23.8ms\n",
            "4: 640x640 1 illustration, 23.8ms\n",
            "5: 640x640 1 illustration, 23.8ms\n",
            "6: 640x640 3 illustrations, 23.8ms\n",
            "7: 640x640 1 illustration, 23.8ms\n",
            "8: 640x640 1 illustration, 23.8ms\n",
            "9: 640x640 8 illustrations, 23.8ms\n",
            "10: 640x640 1 illustration, 23.8ms\n",
            "11: 640x640 1 illustration, 23.8ms\n",
            "12: 640x640 2 illustrations, 23.8ms\n",
            "13: 640x640 1 illustration, 23.8ms\n",
            "14: 640x640 5 illustrations, 23.8ms\n",
            "15: 640x640 5 illustrations, 23.8ms\n",
            "16: 640x640 34 illustrations, 23.8ms\n",
            "17: 640x640 2 illustrations, 23.8ms\n",
            "18: 640x640 7 illustrations, 23.8ms\n",
            "Speed: 3.3ms preprocess, 23.8ms inference, 0.9ms postprocess per image at shape (4, 3, 640, 640)\n",
            "Processing section 82/100...\n",
            "\n",
            "0: 640x640 2 illustrations, 25.9ms\n",
            "1: 640x640 1 illustration, 25.9ms\n",
            "2: 640x640 5 illustrations, 25.9ms\n",
            "3: 640x640 4 illustrations, 25.9ms\n",
            "4: 640x640 1 illustration, 25.9ms\n",
            "5: 640x640 1 illustration, 25.9ms\n",
            "6: 640x640 10 illustrations, 25.9ms\n",
            "7: 640x640 (no detections), 25.9ms\n",
            "8: 640x640 1 illustration, 25.9ms\n",
            "9: 640x640 17 illustrations, 25.9ms\n",
            "10: 640x640 5 illustrations, 25.9ms\n",
            "11: 640x640 2 illustrations, 25.9ms\n",
            "12: 640x640 5 illustrations, 25.9ms\n",
            "13: 640x640 2 illustrations, 25.9ms\n",
            "14: 640x640 3 illustrations, 25.9ms\n",
            "15: 640x640 1 illustration, 25.9ms\n",
            "16: 640x640 4 illustrations, 25.9ms\n",
            "17: 640x640 3 illustrations, 25.9ms\n",
            "18: 640x640 (no detections), 25.9ms\n",
            "Speed: 3.1ms preprocess, 25.9ms inference, 0.9ms postprocess per image at shape (4, 3, 640, 640)\n",
            "Processing section 83/100...\n",
            "\n",
            "0: 640x640 15 illustrations, 25.4ms\n",
            "1: 640x640 3 illustrations, 25.4ms\n",
            "2: 640x640 7 illustrations, 25.4ms\n",
            "3: 640x640 2 illustrations, 25.4ms\n",
            "4: 640x640 1 illustration, 25.4ms\n",
            "5: 640x640 1 illustration, 25.4ms\n",
            "6: 640x640 4 illustrations, 25.4ms\n",
            "7: 640x640 1 illustration, 25.4ms\n",
            "8: 640x640 1 illustration, 25.4ms\n",
            "9: 640x640 1 illustration, 25.4ms\n",
            "10: 640x640 4 illustrations, 25.4ms\n",
            "11: 640x640 1 illustration, 25.4ms\n",
            "12: 640x640 26 illustrations, 25.4ms\n",
            "13: 640x640 1 illustration, 25.4ms\n",
            "14: 640x640 2 illustrations, 25.4ms\n",
            "15: 640x640 2 illustrations, 25.4ms\n",
            "16: 640x640 7 illustrations, 25.4ms\n",
            "17: 640x640 4 illustrations, 25.4ms\n",
            "18: 640x640 1 illustration, 25.4ms\n",
            "Speed: 3.2ms preprocess, 25.4ms inference, 1.2ms postprocess per image at shape (4, 3, 640, 640)\n",
            "Processing section 84/100...\n",
            "\n",
            "0: 640x640 2 illustrations, 24.4ms\n",
            "1: 640x640 2 illustrations, 24.4ms\n",
            "2: 640x640 1 illustration, 24.4ms\n",
            "3: 640x640 1 illustration, 24.4ms\n",
            "4: 640x640 3 illustrations, 24.4ms\n",
            "5: 640x640 1 illustration, 24.4ms\n",
            "6: 640x640 5 illustrations, 24.4ms\n",
            "7: 640x640 2 illustrations, 24.4ms\n",
            "8: 640x640 7 illustrations, 24.4ms\n",
            "9: 640x640 1 illustration, 24.4ms\n",
            "10: 640x640 3 illustrations, 24.4ms\n",
            "11: 640x640 9 illustrations, 24.4ms\n",
            "12: 640x640 4 illustrations, 24.4ms\n",
            "13: 640x640 2 illustrations, 24.4ms\n",
            "14: 640x640 1 illustration, 24.4ms\n",
            "15: 640x640 1 illustration, 24.4ms\n",
            "16: 640x640 2 illustrations, 24.4ms\n",
            "17: 640x640 2 illustrations, 24.4ms\n",
            "18: 640x640 2 illustrations, 24.4ms\n",
            "Speed: 3.2ms preprocess, 24.4ms inference, 1.4ms postprocess per image at shape (4, 3, 640, 640)\n",
            "Processing section 85/100...\n",
            "\n",
            "0: 640x640 1 illustration, 24.0ms\n",
            "1: 640x640 1 illustration, 24.0ms\n",
            "2: 640x640 1 illustration, 24.0ms\n",
            "3: 640x640 13 illustrations, 24.0ms\n",
            "4: 640x640 3 illustrations, 24.0ms\n",
            "5: 640x640 1 illustration, 24.0ms\n",
            "6: 640x640 3 illustrations, 24.0ms\n",
            "7: 640x640 1 illustration, 24.0ms\n",
            "8: 640x640 9 illustrations, 24.0ms\n",
            "9: 640x640 3 illustrations, 24.0ms\n",
            "10: 640x640 17 illustrations, 24.0ms\n",
            "11: 640x640 4 illustrations, 24.0ms\n",
            "12: 640x640 1 illustration, 24.0ms\n",
            "13: 640x640 2 illustrations, 24.0ms\n",
            "14: 640x640 1 illustration, 24.0ms\n",
            "15: 640x640 12 illustrations, 24.0ms\n",
            "16: 640x640 1 illustration, 24.0ms\n",
            "17: 640x640 4 illustrations, 24.0ms\n",
            "18: 640x640 8 illustrations, 24.0ms\n",
            "Speed: 3.6ms preprocess, 24.0ms inference, 0.9ms postprocess per image at shape (4, 3, 640, 640)\n",
            "Processing section 86/100...\n",
            "\n",
            "0: 640x640 37 illustrations, 25.2ms\n",
            "1: 640x640 4 illustrations, 25.2ms\n",
            "2: 640x640 2 illustrations, 25.2ms\n",
            "3: 640x640 1 illustration, 25.2ms\n",
            "4: 640x640 6 illustrations, 25.2ms\n",
            "5: 640x640 1 illustration, 25.2ms\n",
            "6: 640x640 3 illustrations, 25.2ms\n",
            "7: 640x640 15 illustrations, 25.2ms\n",
            "8: 640x640 8 illustrations, 25.2ms\n",
            "9: 640x640 2 illustrations, 25.2ms\n",
            "10: 640x640 2 illustrations, 25.2ms\n",
            "11: 640x640 5 illustrations, 25.2ms\n",
            "12: 640x640 2 illustrations, 25.2ms\n",
            "13: 640x640 3 illustrations, 25.2ms\n",
            "14: 640x640 11 illustrations, 25.2ms\n",
            "15: 640x640 1 illustration, 25.2ms\n",
            "16: 640x640 1 illustration, 25.2ms\n",
            "17: 640x640 3 illustrations, 25.2ms\n",
            "18: 640x640 2 illustrations, 25.2ms\n",
            "Speed: 4.5ms preprocess, 25.2ms inference, 0.9ms postprocess per image at shape (4, 3, 640, 640)\n",
            "Processing section 87/100...\n",
            "\n",
            "0: 640x640 2 illustrations, 23.6ms\n",
            "1: 640x640 1 illustration, 23.6ms\n",
            "2: 640x640 1 illustration, 23.6ms\n",
            "3: 640x640 2 illustrations, 23.6ms\n",
            "4: 640x640 1 illustration, 23.6ms\n",
            "5: 640x640 1 illustration, 23.6ms\n",
            "6: 640x640 1 illustration, 23.6ms\n",
            "7: 640x640 1 illustration, 23.6ms\n",
            "8: 640x640 6 illustrations, 23.6ms\n",
            "9: 640x640 2 illustrations, 23.6ms\n",
            "10: 640x640 3 illustrations, 23.6ms\n",
            "11: 640x640 5 illustrations, 23.6ms\n",
            "12: 640x640 2 illustrations, 23.6ms\n",
            "13: 640x640 2 illustrations, 23.6ms\n",
            "14: 640x640 5 illustrations, 23.6ms\n",
            "15: 640x640 1 illustration, 23.6ms\n",
            "16: 640x640 4 illustrations, 23.6ms\n",
            "17: 640x640 6 illustrations, 23.6ms\n",
            "18: 640x640 1 illustration, 23.6ms\n",
            "Speed: 3.2ms preprocess, 23.6ms inference, 1.1ms postprocess per image at shape (4, 3, 640, 640)\n",
            "Processing section 88/100...\n",
            "\n",
            "0: 640x640 4 illustrations, 25.0ms\n",
            "1: 640x640 2 illustrations, 25.0ms\n",
            "2: 640x640 4 illustrations, 25.0ms\n",
            "3: 640x640 1 illustration, 25.0ms\n",
            "4: 640x640 1 illustration, 25.0ms\n",
            "5: 640x640 2 illustrations, 25.0ms\n",
            "6: 640x640 11 illustrations, 25.0ms\n",
            "7: 640x640 15 illustrations, 25.0ms\n",
            "8: 640x640 4 illustrations, 25.0ms\n",
            "9: 640x640 4 illustrations, 25.0ms\n",
            "10: 640x640 5 illustrations, 25.0ms\n",
            "11: 640x640 6 illustrations, 25.0ms\n",
            "12: 640x640 2 illustrations, 25.0ms\n",
            "13: 640x640 15 illustrations, 25.0ms\n",
            "14: 640x640 2 illustrations, 25.0ms\n",
            "15: 640x640 18 illustrations, 25.0ms\n",
            "16: 640x640 1 illustration, 25.0ms\n",
            "17: 640x640 14 illustrations, 25.0ms\n",
            "18: 640x640 1 illustration, 25.0ms\n",
            "Speed: 3.1ms preprocess, 25.0ms inference, 1.0ms postprocess per image at shape (4, 3, 640, 640)\n",
            "Processing section 89/100...\n",
            "\n",
            "0: 640x640 1 illustration, 24.3ms\n",
            "1: 640x640 1 illustration, 24.3ms\n",
            "2: 640x640 3 illustrations, 24.3ms\n",
            "3: 640x640 1 illustration, 24.3ms\n",
            "4: 640x640 6 illustrations, 24.3ms\n",
            "5: 640x640 3 illustrations, 24.3ms\n",
            "6: 640x640 1 illustration, 24.3ms\n",
            "7: 640x640 5 illustrations, 24.3ms\n",
            "8: 640x640 1 illustration, 24.3ms\n",
            "9: 640x640 2 illustrations, 24.3ms\n",
            "10: 640x640 6 illustrations, 24.3ms\n",
            "11: 640x640 2 illustrations, 24.3ms\n",
            "12: 640x640 1 illustration, 24.3ms\n",
            "13: 640x640 6 illustrations, 24.3ms\n",
            "14: 640x640 1 illustration, 24.3ms\n",
            "15: 640x640 3 illustrations, 24.3ms\n",
            "16: 640x640 1 illustration, 24.3ms\n",
            "17: 640x640 6 illustrations, 24.3ms\n",
            "18: 640x640 18 illustrations, 24.3ms\n",
            "Speed: 3.4ms preprocess, 24.3ms inference, 1.0ms postprocess per image at shape (4, 3, 640, 640)\n",
            "Processing section 90/100...\n",
            "\n",
            "0: 640x640 1 illustration, 24.3ms\n",
            "1: 640x640 2 illustrations, 24.3ms\n",
            "2: 640x640 1 illustration, 24.3ms\n",
            "3: 640x640 7 illustrations, 24.3ms\n",
            "4: 640x640 1 illustration, 24.3ms\n",
            "5: 640x640 1 illustration, 24.3ms\n",
            "6: 640x640 2 illustrations, 24.3ms\n",
            "7: 640x640 10 illustrations, 24.3ms\n",
            "8: 640x640 5 illustrations, 24.3ms\n",
            "9: 640x640 5 illustrations, 24.3ms\n",
            "10: 640x640 17 illustrations, 24.3ms\n",
            "11: 640x640 6 illustrations, 24.3ms\n",
            "12: 640x640 1 illustration, 24.3ms\n",
            "13: 640x640 1 illustration, 24.3ms\n",
            "14: 640x640 1 illustration, 24.3ms\n",
            "15: 640x640 5 illustrations, 24.3ms\n",
            "16: 640x640 3 illustrations, 24.3ms\n",
            "17: 640x640 1 illustration, 24.3ms\n",
            "18: 640x640 1 illustration, 24.3ms\n",
            "Speed: 3.2ms preprocess, 24.3ms inference, 0.9ms postprocess per image at shape (4, 3, 640, 640)\n",
            "Processing section 91/100...\n",
            "\n",
            "0: 640x640 13 illustrations, 25.7ms\n",
            "1: 640x640 4 illustrations, 25.7ms\n",
            "2: 640x640 3 illustrations, 25.7ms\n",
            "3: 640x640 2 illustrations, 25.7ms\n",
            "4: 640x640 2 illustrations, 25.7ms\n",
            "5: 640x640 4 illustrations, 25.7ms\n",
            "6: 640x640 4 illustrations, 25.7ms\n",
            "7: 640x640 2 illustrations, 25.7ms\n",
            "8: 640x640 4 illustrations, 25.7ms\n",
            "9: 640x640 4 illustrations, 25.7ms\n",
            "10: 640x640 2 illustrations, 25.7ms\n",
            "11: 640x640 1 illustration, 25.7ms\n",
            "12: 640x640 2 illustrations, 25.7ms\n",
            "13: 640x640 2 illustrations, 25.7ms\n",
            "14: 640x640 5 illustrations, 25.7ms\n",
            "15: 640x640 1 illustration, 25.7ms\n",
            "16: 640x640 3 illustrations, 25.7ms\n",
            "17: 640x640 9 illustrations, 25.7ms\n",
            "18: 640x640 2 illustrations, 25.7ms\n",
            "Speed: 3.5ms preprocess, 25.7ms inference, 1.0ms postprocess per image at shape (4, 3, 640, 640)\n",
            "Processing section 92/100...\n",
            "\n",
            "0: 640x640 2 illustrations, 24.8ms\n",
            "1: 640x640 11 illustrations, 24.8ms\n",
            "2: 640x640 4 illustrations, 24.8ms\n",
            "3: 640x640 2 illustrations, 24.8ms\n",
            "4: 640x640 2 illustrations, 24.8ms\n",
            "5: 640x640 1 illustration, 24.8ms\n",
            "6: 640x640 8 illustrations, 24.8ms\n",
            "7: 640x640 1 illustration, 24.8ms\n",
            "8: 640x640 6 illustrations, 24.8ms\n",
            "9: 640x640 3 illustrations, 24.8ms\n",
            "10: 640x640 1 illustration, 24.8ms\n",
            "11: 640x640 1 illustration, 24.8ms\n",
            "12: 640x640 2 illustrations, 24.8ms\n",
            "13: 640x640 7 illustrations, 24.8ms\n",
            "14: 640x640 3 illustrations, 24.8ms\n",
            "15: 640x640 3 illustrations, 24.8ms\n",
            "16: 640x640 1 illustration, 24.8ms\n",
            "17: 640x640 1 illustration, 24.8ms\n",
            "18: 640x640 2 illustrations, 24.8ms\n",
            "Speed: 4.7ms preprocess, 24.8ms inference, 1.6ms postprocess per image at shape (4, 3, 640, 640)\n",
            "Processing section 93/100...\n",
            "\n",
            "0: 640x640 2 illustrations, 25.8ms\n",
            "1: 640x640 15 illustrations, 25.8ms\n",
            "2: 640x640 4 illustrations, 25.8ms\n",
            "3: 640x640 1 illustration, 25.8ms\n",
            "4: 640x640 3 illustrations, 25.8ms\n",
            "5: 640x640 7 illustrations, 25.8ms\n",
            "6: 640x640 1 illustration, 25.8ms\n",
            "7: 640x640 11 illustrations, 25.8ms\n",
            "8: 640x640 6 illustrations, 25.8ms\n",
            "9: 640x640 1 illustration, 25.8ms\n",
            "10: 640x640 1 illustration, 25.8ms\n",
            "11: 640x640 2 illustrations, 25.8ms\n",
            "12: 640x640 10 illustrations, 25.8ms\n",
            "13: 640x640 1 illustration, 25.8ms\n",
            "14: 640x640 8 illustrations, 25.8ms\n",
            "15: 640x640 2 illustrations, 25.8ms\n",
            "16: 640x640 1 illustration, 25.8ms\n",
            "17: 640x640 4 illustrations, 25.8ms\n",
            "18: 640x640 1 illustration, 25.8ms\n",
            "Speed: 3.3ms preprocess, 25.8ms inference, 0.9ms postprocess per image at shape (4, 3, 640, 640)\n",
            "Processing section 94/100...\n",
            "\n",
            "0: 640x640 2 illustrations, 23.9ms\n",
            "1: 640x640 6 illustrations, 23.9ms\n",
            "2: 640x640 4 illustrations, 23.9ms\n",
            "3: 640x640 3 illustrations, 23.9ms\n",
            "4: 640x640 3 illustrations, 23.9ms\n",
            "5: 640x640 3 illustrations, 23.9ms\n",
            "6: 640x640 3 illustrations, 23.9ms\n",
            "7: 640x640 2 illustrations, 23.9ms\n",
            "8: 640x640 1 illustration, 23.9ms\n",
            "9: 640x640 1 illustration, 23.9ms\n",
            "10: 640x640 1 illustration, 23.9ms\n",
            "11: 640x640 4 illustrations, 23.9ms\n",
            "12: 640x640 3 illustrations, 23.9ms\n",
            "13: 640x640 7 illustrations, 23.9ms\n",
            "14: 640x640 1 illustration, 23.9ms\n",
            "15: 640x640 18 illustrations, 23.9ms\n",
            "16: 640x640 1 illustration, 23.9ms\n",
            "17: 640x640 2 illustrations, 23.9ms\n",
            "18: 640x640 2 illustrations, 23.9ms\n",
            "Speed: 3.2ms preprocess, 23.9ms inference, 1.3ms postprocess per image at shape (4, 3, 640, 640)\n",
            "Processing section 95/100...\n",
            "\n",
            "0: 640x640 2 illustrations, 23.7ms\n",
            "1: 640x640 3 illustrations, 23.7ms\n",
            "2: 640x640 2 illustrations, 23.7ms\n",
            "3: 640x640 3 illustrations, 23.7ms\n",
            "4: 640x640 1 illustration, 23.7ms\n",
            "5: 640x640 2 illustrations, 23.7ms\n",
            "6: 640x640 4 illustrations, 23.7ms\n",
            "7: 640x640 3 illustrations, 23.7ms\n",
            "8: 640x640 2 illustrations, 23.7ms\n",
            "9: 640x640 1 illustration, 23.7ms\n",
            "10: 640x640 1 illustration, 23.7ms\n",
            "11: 640x640 3 illustrations, 23.7ms\n",
            "12: 640x640 1 illustration, 23.7ms\n",
            "13: 640x640 2 illustrations, 23.7ms\n",
            "14: 640x640 4 illustrations, 23.7ms\n",
            "15: 640x640 1 illustration, 23.7ms\n",
            "16: 640x640 1 illustration, 23.7ms\n",
            "17: 640x640 (no detections), 23.7ms\n",
            "18: 640x640 2 illustrations, 23.7ms\n",
            "Speed: 3.4ms preprocess, 23.7ms inference, 0.9ms postprocess per image at shape (4, 3, 640, 640)\n",
            "Processing section 96/100...\n",
            "\n",
            "0: 640x640 3 illustrations, 24.8ms\n",
            "1: 640x640 1 illustration, 24.8ms\n",
            "2: 640x640 1 illustration, 24.8ms\n",
            "3: 640x640 9 illustrations, 24.8ms\n",
            "4: 640x640 2 illustrations, 24.8ms\n",
            "5: 640x640 3 illustrations, 24.8ms\n",
            "6: 640x640 2 illustrations, 24.8ms\n",
            "7: 640x640 3 illustrations, 24.8ms\n",
            "8: 640x640 4 illustrations, 24.8ms\n",
            "9: 640x640 1 illustration, 24.8ms\n",
            "10: 640x640 1 illustration, 24.8ms\n",
            "11: 640x640 1 illustration, 24.8ms\n",
            "12: 640x640 1 illustration, 24.8ms\n",
            "13: 640x640 4 illustrations, 24.8ms\n",
            "14: 640x640 1 illustration, 24.8ms\n",
            "15: 640x640 9 illustrations, 24.8ms\n",
            "16: 640x640 1 illustration, 24.8ms\n",
            "17: 640x640 4 illustrations, 24.8ms\n",
            "18: 640x640 1 illustration, 24.8ms\n",
            "Speed: 3.3ms preprocess, 24.8ms inference, 0.9ms postprocess per image at shape (4, 3, 640, 640)\n",
            "Processing section 97/100...\n",
            "\n",
            "0: 640x640 1 illustration, 24.0ms\n",
            "1: 640x640 8 illustrations, 24.0ms\n",
            "2: 640x640 4 illustrations, 24.0ms\n",
            "3: 640x640 1 illustration, 24.0ms\n",
            "4: 640x640 1 illustration, 24.0ms\n",
            "5: 640x640 1 illustration, 24.0ms\n",
            "6: 640x640 1 illustration, 24.0ms\n",
            "7: 640x640 1 illustration, 24.0ms\n",
            "8: 640x640 4 illustrations, 24.0ms\n",
            "9: 640x640 7 illustrations, 24.0ms\n",
            "10: 640x640 1 illustration, 24.0ms\n",
            "11: 640x640 3 illustrations, 24.0ms\n",
            "12: 640x640 8 illustrations, 24.0ms\n",
            "13: 640x640 3 illustrations, 24.0ms\n",
            "14: 640x640 7 illustrations, 24.0ms\n",
            "15: 640x640 4 illustrations, 24.0ms\n",
            "16: 640x640 2 illustrations, 24.0ms\n",
            "17: 640x640 5 illustrations, 24.0ms\n",
            "18: 640x640 1 illustration, 24.0ms\n",
            "Speed: 3.1ms preprocess, 24.0ms inference, 0.9ms postprocess per image at shape (4, 3, 640, 640)\n",
            "Processing section 98/100...\n",
            "\n",
            "0: 640x640 1 illustration, 24.3ms\n",
            "1: 640x640 3 illustrations, 24.3ms\n",
            "2: 640x640 3 illustrations, 24.3ms\n",
            "3: 640x640 1 illustration, 24.3ms\n",
            "4: 640x640 3 illustrations, 24.3ms\n",
            "5: 640x640 1 illustration, 24.3ms\n",
            "6: 640x640 1 illustration, 24.3ms\n",
            "7: 640x640 3 illustrations, 24.3ms\n",
            "8: 640x640 13 illustrations, 24.3ms\n",
            "9: 640x640 1 illustration, 24.3ms\n",
            "10: 640x640 7 illustrations, 24.3ms\n",
            "11: 640x640 1 illustration, 24.3ms\n",
            "12: 640x640 6 illustrations, 24.3ms\n",
            "13: 640x640 2 illustrations, 24.3ms\n",
            "14: 640x640 1 illustration, 24.3ms\n",
            "15: 640x640 1 illustration, 24.3ms\n",
            "16: 640x640 5 illustrations, 24.3ms\n",
            "17: 640x640 4 illustrations, 24.3ms\n",
            "18: 640x640 3 illustrations, 24.3ms\n",
            "Speed: 3.2ms preprocess, 24.3ms inference, 0.9ms postprocess per image at shape (4, 3, 640, 640)\n",
            "Processing section 99/100...\n",
            "\n",
            "0: 640x640 1 illustration, 24.9ms\n",
            "1: 640x640 2 illustrations, 24.9ms\n",
            "2: 640x640 1 illustration, 24.9ms\n",
            "3: 640x640 9 illustrations, 24.9ms\n",
            "4: 640x640 4 illustrations, 24.9ms\n",
            "5: 640x640 2 illustrations, 24.9ms\n",
            "6: 640x640 7 illustrations, 24.9ms\n",
            "7: 640x640 1 illustration, 24.9ms\n",
            "8: 640x640 2 illustrations, 24.9ms\n",
            "9: 640x640 1 illustration, 24.9ms\n",
            "10: 640x640 5 illustrations, 24.9ms\n",
            "11: 640x640 3 illustrations, 24.9ms\n",
            "12: 640x640 22 illustrations, 24.9ms\n",
            "13: 640x640 1 illustration, 24.9ms\n",
            "14: 640x640 18 illustrations, 24.9ms\n",
            "15: 640x640 3 illustrations, 24.9ms\n",
            "16: 640x640 15 illustrations, 24.9ms\n",
            "17: 640x640 4 illustrations, 24.9ms\n",
            "18: 640x640 9 illustrations, 24.9ms\n",
            "Speed: 3.7ms preprocess, 24.9ms inference, 0.9ms postprocess per image at shape (4, 3, 640, 640)\n",
            "Processing section 100/100...\n",
            "\n",
            "0: 640x640 2 illustrations, 25.7ms\n",
            "1: 640x640 1 illustration, 25.7ms\n",
            "2: 640x640 1 illustration, 25.7ms\n",
            "3: 640x640 3 illustrations, 25.7ms\n",
            "4: 640x640 2 illustrations, 25.7ms\n",
            "5: 640x640 1 illustration, 25.7ms\n",
            "6: 640x640 1 illustration, 25.7ms\n",
            "7: 640x640 2 illustrations, 25.7ms\n",
            "8: 640x640 1 illustration, 25.7ms\n",
            "9: 640x640 8 illustrations, 25.7ms\n",
            "10: 640x640 4 illustrations, 25.7ms\n",
            "11: 640x640 1 illustration, 25.7ms\n",
            "12: 640x640 5 illustrations, 25.7ms\n",
            "13: 640x640 5 illustrations, 25.7ms\n",
            "14: 640x640 2 illustrations, 25.7ms\n",
            "15: 640x640 1 illustration, 25.7ms\n",
            "16: 640x640 7 illustrations, 25.7ms\n",
            "17: 640x640 1 illustration, 25.7ms\n",
            "18: 640x640 2 illustrations, 25.7ms\n",
            "Speed: 3.2ms preprocess, 25.7ms inference, 0.9ms postprocess per image at shape (4, 3, 640, 640)\n"
          ]
        }
      ],
      "source": [
        "\n",
        "# Diviser liste images en sections pour éviter surcharge RAM\n",
        "sections = np.array_split(predict_images, 100)\n",
        "sections = [list(section) for section in sections]\n",
        "\n",
        "model_best = YOLO(model_best)\n",
        "\n",
        "\n",
        "for i, section_data in enumerate(sections):\n",
        "    print(f\"Processing section {i+1}/100...\")\n",
        "\n",
        "    results = model_best.predict(section_data, project=project, name = name, batch=4)\n",
        "\n",
        "    all_results = []\n",
        "    for result in results:\n",
        "        image_path = result.path\n",
        "        filename = os.path.basename(image_path)\n",
        "        class_names = result.names\n",
        "        boxes = result.boxes\n",
        "\n",
        "        if boxes is None or len(boxes) == 0:\n",
        "            continue  # no detections\n",
        "\n",
        "        for j, box in enumerate(boxes):\n",
        "            cls_id = int(box.cls.item())\n",
        "            conf = float(box.conf.item())\n",
        "            x1, y1, x2, y2 = box.xyxy.cpu().numpy().tolist()[0]\n",
        "\n",
        "            all_results.append({\n",
        "                'image_file': filename,\n",
        "                'class_id': cls_id,\n",
        "                'class_name': class_names[cls_id],\n",
        "                'score': conf,\n",
        "                'x1': x1,\n",
        "                'y1': y1,\n",
        "                'x2': x2,\n",
        "                'y2': y2,\n",
        "                'bbox_index': j\n",
        "            })\n",
        "\n",
        "\n",
        "    df_section = pd.DataFrame(all_results)\n",
        "    df_section.to_csv(results_csv, mode='a', index=False, header=(i == 0))\n",
        "\n",
        "    torch.cuda.empty_cache()\n"
      ]
    },
    {
      "cell_type": "code",
      "execution_count": null,
      "metadata": {
        "id": "6TAKKlqFHniD"
      },
      "outputs": [],
      "source": [
        "all_results[1]"
      ]
    },
    {
      "cell_type": "markdown",
      "metadata": {
        "id": "zrU6F87RzQ9G"
      },
      "source": [
        "# Crop detections"
      ]
    },
    {
      "cell_type": "code",
      "execution_count": null,
      "metadata": {
        "id": "EinAMO5Z1raJ"
      },
      "outputs": [],
      "source": [
        "from tqdm import tqdm"
      ]
    },
    {
      "cell_type": "code",
      "execution_count": null,
      "metadata": {
        "id": "2gldbqPIzJ3D"
      },
      "outputs": [],
      "source": [
        "import pandas as pd\n",
        "import os\n",
        "import cv2\n",
        "\n",
        "def crop_yolo_detections(csv_path, output_dir, output_csv_path):\n",
        "    df = pd.read_csv(csv_path)\n",
        "\n",
        "    os.makedirs(output_dir, exist_ok=True)\n",
        "    crop_data = []\n",
        "\n",
        "    # Group detections by image file\n",
        "    grouped = df.groupby(\"image\")\n",
        "\n",
        "    for image_path, group in tqdm(grouped):\n",
        "        try:\n",
        "            image = cv2.imread(image_path)\n",
        "            if image is None:\n",
        "                print(f\"L'image n'a pas pu être chargée : {image_path}\")\n",
        "                continue\n",
        "\n",
        "            filename = os.path.splitext(os.path.basename(image_path))[0]\n",
        "\n",
        "            # Use itertuples for clearer, faster iteration\n",
        "            for crop_id, row in enumerate(group.itertuples(index=False), start=1):\n",
        "                x1, y1, x2, y2 = map(int, [row.x1, row.y1, row.x2, row.y2])\n",
        "                crop = image[y1:y2, x1:x2]\n",
        "\n",
        "                crop_filename = f\"{filename}_{crop_id:02d}.jpg\"\n",
        "                crop_path = os.path.join(output_dir, crop_filename)\n",
        "                cv2.imwrite(crop_path, crop)\n",
        "\n",
        "                crop_data.append({\n",
        "                    \"crop_file\": crop_path,\n",
        "                    \"confidence\": row.confidence\n",
        "                })\n",
        "\n",
        "        except Exception as e:\n",
        "            print(f\"Erreur {image_path}: {e}\")\n",
        "\n",
        "    # Save output CSV with crop metadata\n",
        "    pd.DataFrame(crop_data).to_csv(output_csv_path, index=False)\n"
      ]
    },
    {
      "cell_type": "code",
      "execution_count": null,
      "metadata": {
        "id": "4rqYdwLN0rpH"
      },
      "outputs": [],
      "source": [
        "cropped_output_dir = os.path.join(PROCESSED, 'docs_yolo_ill_det_cropped')\n",
        "output_csv = os.path.join(csv_dir, 'yolo_detections_cropped.csv')"
      ]
    },
    {
      "cell_type": "code",
      "execution_count": null,
      "metadata": {
        "colab": {
          "base_uri": "https://localhost:8080/"
        },
        "id": "3oPxvHQSzJzK",
        "outputId": "249ece71-9e1a-42c2-99c6-1122c2e11d84"
      },
      "outputs": [
        {
          "name": "stderr",
          "output_type": "stream",
          "text": [
            "100%|██████████| 1908/1908 [15:31<00:00,  2.05it/s]\n"
          ]
        }
      ],
      "source": [
        "crop_yolo_detections(results_csv, cropped_output_dir, output_csv)"
      ]
    }
  ],
  "metadata": {
    "accelerator": "GPU",
    "colab": {
      "gpuType": "T4",
      "provenance": []
    },
    "kernelspec": {
      "display_name": "Python 3",
      "name": "python3"
    },
    "language_info": {
      "name": "python"
    }
  },
  "nbformat": 4,
  "nbformat_minor": 0
}
