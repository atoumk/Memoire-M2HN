{
 "cells": [
  {
   "cell_type": "code",
   "execution_count": 1,
   "id": "tapGsJ-c118X",
   "metadata": {
    "colab": {
     "base_uri": "https://localhost:8080/"
    },
    "executionInfo": {
     "elapsed": 15906,
     "status": "ok",
     "timestamp": 1756886726752,
     "user": {
      "displayName": "atoum",
      "userId": "04283028950823516305"
     },
     "user_tz": -120
    },
    "id": "tapGsJ-c118X",
    "outputId": "322f14f3-534d-4f03-ed12-9827311068c7"
   },
   "outputs": [
    {
     "name": "stdout",
     "output_type": "stream",
     "text": [
      "Mounted at /content/drive\n"
     ]
    }
   ],
   "source": [
    "from google.colab import drive\n",
    "drive.mount('/content/drive')"
   ]
  },
  {
   "cell_type": "code",
   "execution_count": 2,
   "id": "0O9yA9jXRcdi",
   "metadata": {
    "colab": {
     "base_uri": "https://localhost:8080/"
    },
    "executionInfo": {
     "elapsed": 13363,
     "status": "ok",
     "timestamp": 1756886740131,
     "user": {
      "displayName": "atoum",
      "userId": "04283028950823516305"
     },
     "user_tz": -120
    },
    "id": "0O9yA9jXRcdi",
    "outputId": "8d458ea9-ae8c-4555-ba81-217fd6834039"
   },
   "outputs": [
    {
     "name": "stdout",
     "output_type": "stream",
     "text": [
      "Collecting faiss-cpu\n",
      "  Downloading faiss_cpu-1.12.0-cp312-cp312-manylinux_2_27_x86_64.manylinux_2_28_x86_64.whl.metadata (5.1 kB)\n",
      "Requirement already satisfied: numpy<3.0,>=1.25.0 in /usr/local/lib/python3.12/dist-packages (from faiss-cpu) (2.0.2)\n",
      "Requirement already satisfied: packaging in /usr/local/lib/python3.12/dist-packages (from faiss-cpu) (25.0)\n",
      "Downloading faiss_cpu-1.12.0-cp312-cp312-manylinux_2_27_x86_64.manylinux_2_28_x86_64.whl (31.4 MB)\n",
      "\u001b[2K   \u001b[90m━━━━━━━━━━━━━━━━━━━━━━━━━━━━━━━━━━━━━━━━\u001b[0m \u001b[32m31.4/31.4 MB\u001b[0m \u001b[31m24.9 MB/s\u001b[0m eta \u001b[36m0:00:00\u001b[0m\n",
      "\u001b[?25hInstalling collected packages: faiss-cpu\n",
      "Successfully installed faiss-cpu-1.12.0\n"
     ]
    }
   ],
   "source": [
    "!pip install faiss-cpu"
   ]
  },
  {
   "cell_type": "code",
   "execution_count": 3,
   "id": "9424000b",
   "metadata": {
    "executionInfo": {
     "elapsed": 8667,
     "status": "ok",
     "timestamp": 1756886748801,
     "user": {
      "displayName": "atoum",
      "userId": "04283028950823516305"
     },
     "user_tz": -120
    },
    "id": "9424000b"
   },
   "outputs": [],
   "source": [
    "import torch\n",
    "#rom transformers import AutoImageProcessor, AutoModel\n",
    "from PIL import Image\n",
    "import faiss\n",
    "import numpy as np\n",
    "import os\n",
    "from tqdm import tqdm\n",
    "import pandas as pd\n",
    "from collections import defaultdict\n",
    "import json"
   ]
  },
  {
   "cell_type": "code",
   "execution_count": null,
   "id": "b35a2c2e",
   "metadata": {},
   "outputs": [],
   "source": [
    "# src = str(Path.cwd().resolve().parents[0]/ 'src')\n",
    "# sys.path.append(src)\n",
    "# from config.paths import DATA, EXPERIMENTS, METADATA"
   ]
  },
  {
   "cell_type": "code",
   "execution_count": 4,
   "id": "bK5UDFJsToWs",
   "metadata": {
    "executionInfo": {
     "elapsed": 26,
     "status": "ok",
     "timestamp": 1756886756834,
     "user": {
      "displayName": "atoum",
      "userId": "04283028950823516305"
     },
     "user_tz": -120
    },
    "id": "bK5UDFJsToWs"
   },
   "outputs": [],
   "source": [
    "EXPERIMENTS = '/content/drive/MyDrive/dataHN/experiments'\n",
    "DATA = '/content/drive/MyDrive/dataHN/data'"
   ]
  },
  {
   "cell_type": "code",
   "execution_count": 14,
   "id": "wh4pqCo6TaOp",
   "metadata": {
    "executionInfo": {
     "elapsed": 13,
     "status": "ok",
     "timestamp": 1756887303962,
     "user": {
      "displayName": "atoum",
      "userId": "04283028950823516305"
     },
     "user_tz": -120
    },
    "id": "wh4pqCo6TaOp"
   },
   "outputs": [],
   "source": [
    "experiment_dir = os.path.join(EXPERIMENTS, 'faiss_similarity')\n",
    "os.makedirs(experiment_dir, exist_ok=True)\n",
    "\n",
    "results_dir = os.path.join(experiment_dir, \"results\")\n",
    "os.makedirs(results_dir, exist_ok=True)"
   ]
  },
  {
   "cell_type": "markdown",
   "id": "9f8ba6c2",
   "metadata": {},
   "source": [
    "# Similarité inter et intra corpus"
   ]
  },
  {
   "cell_type": "code",
   "execution_count": 15,
   "id": "uabJjlN0Q_0y",
   "metadata": {
    "executionInfo": {
     "elapsed": 12276,
     "status": "ok",
     "timestamp": 1756887316955,
     "user": {
      "displayName": "atoum",
      "userId": "04283028950823516305"
     },
     "user_tz": -120
    },
    "id": "uabJjlN0Q_0y"
   },
   "outputs": [],
   "source": [
    "obj_embeddings_dir = os.path.join(DATA, 'embeddings', 'dino3_obj_crops_gray')\n",
    "obj_embeddings_list = [os.path.join(obj_embeddings_dir, e) for e in os.listdir(obj_embeddings_dir)]\n",
    "obj_img_dir = os.path.join(DATA,'processed', 'g-dino_obj_crops')"
   ]
  },
  {
   "cell_type": "code",
   "execution_count": 16,
   "id": "8kyZayvbbp7T",
   "metadata": {
    "executionInfo": {
     "elapsed": 32784,
     "status": "ok",
     "timestamp": 1756887349735,
     "user": {
      "displayName": "atoum",
      "userId": "04283028950823516305"
     },
     "user_tz": -120
    },
    "id": "8kyZayvbbp7T"
   },
   "outputs": [],
   "source": [
    "doc_embeddings_dir = os.path.join(DATA, 'embeddings', 'dino3_doc_crops_gray')\n",
    "doc_embeddings_list = [os.path.join(doc_embeddings_dir, e) for e in os.listdir(doc_embeddings_dir)]\n",
    "doc_img_dir = os.path.join(DATA,'processed','yolo_doc_crops')"
   ]
  },
  {
   "cell_type": "code",
   "execution_count": null,
   "id": "ZXf4c07CbqyQ",
   "metadata": {
    "colab": {
     "base_uri": "https://localhost:8080/"
    },
    "executionInfo": {
     "elapsed": 901,
     "status": "ok",
     "timestamp": 1756836777441,
     "user": {
      "displayName": "atoum",
      "userId": "13624291897930217931"
     },
     "user_tz": -120
    },
    "id": "ZXf4c07CbqyQ",
    "outputId": "f62b334b-20cf-4369-d9d5-9e5d5e6d60ef"
   },
   "outputs": [
    {
     "name": "stdout",
     "output_type": "stream",
     "text": [
      "torch.Size([768])\n",
      "torch.Size([768])\n"
     ]
    }
   ],
   "source": [
    "embedding = torch.load(obj_embeddings_list[0])\n",
    "print(embedding.shape)\n",
    "embedding = torch.load(doc_embeddings_list[0])\n",
    "print(embedding.shape)"
   ]
  },
  {
   "cell_type": "code",
   "execution_count": null,
   "id": "xPITILMybqma",
   "metadata": {
    "id": "xPITILMybqma"
   },
   "outputs": [],
   "source": [
    "liste_embeddings = obj_embeddings_list + doc_embeddings_list"
   ]
  },
  {
   "cell_type": "code",
   "execution_count": null,
   "id": "vqE83-Dce8cT",
   "metadata": {
    "id": "vqE83-Dce8cT"
   },
   "outputs": [],
   "source": [
    "obj_id_to_path = {i: os.path.splitext(os.path.basename(obj_embeddings_list[i]))[0] for i in range(len(obj_embeddings_list))}\n",
    "doc_id_to_path = {i: os.path.splitext(os.path.basename(doc_embeddings_list[i]))[0] for i in range(len(doc_embeddings_list))}"
   ]
  },
  {
   "cell_type": "code",
   "execution_count": null,
   "id": "bm42P_9uE1zH",
   "metadata": {
    "id": "bm42P_9uE1zH"
   },
   "outputs": [],
   "source": [
    "with open(os.path.join(results_dir, 'obj_index_file_map.json'), \"w\") as f:\n",
    "    json.dump(obj_id_to_path, f)\n",
    "\n",
    "with open(os.path.join(results_dir, 'doc_index_file_map.json'), \"w\") as f:\n",
    "    json.dump(doc_id_to_path, f)"
   ]
  },
  {
   "cell_type": "code",
   "execution_count": null,
   "id": "e_ziDs1pywqk",
   "metadata": {
    "colab": {
     "base_uri": "https://localhost:8080/"
    },
    "executionInfo": {
     "elapsed": 6,
     "status": "ok",
     "timestamp": 1756839490362,
     "user": {
      "displayName": "atoum",
      "userId": "13624291897930217931"
     },
     "user_tz": -120
    },
    "id": "e_ziDs1pywqk",
    "outputId": "02c7566e-dcef-4022-e612-1770fc7b99a4"
   },
   "outputs": [
    {
     "data": {
      "text/plain": [
       "2127"
      ]
     },
     "execution_count": 15,
     "metadata": {},
     "output_type": "execute_result"
    }
   ],
   "source": [
    "len(obj_embeddings_list)"
   ]
  },
  {
   "cell_type": "code",
   "execution_count": null,
   "id": "vYmfaU-vw2cr",
   "metadata": {
    "colab": {
     "base_uri": "https://localhost:8080/"
    },
    "executionInfo": {
     "elapsed": 9296,
     "status": "ok",
     "timestamp": 1756839503991,
     "user": {
      "displayName": "atoum",
      "userId": "13624291897930217931"
     },
     "user_tz": -120
    },
    "id": "vYmfaU-vw2cr",
    "outputId": "e5775b84-7447-46b8-d248-392c200b445c"
   },
   "outputs": [
    {
     "name": "stderr",
     "output_type": "stream",
     "text": [
      "100%|██████████| 2127/2127 [00:09<00:00, 231.43it/s]\n"
     ]
    }
   ],
   "source": [
    "# Objets stack embeddings\n",
    "stacked_path = os.path.join(DATA, 'embeddings', 'dino3_stacked', 'obj_embeddings.pt')\n",
    "\n",
    "if os.path.exists(stacked_path):\n",
    "    obj_embeddings = torch.load(stacked_path)  # tensor (N, 768)\n",
    "else:\n",
    "    all_embeddings = []\n",
    "    for path in tqdm(obj_embeddings_list):\n",
    "        emb = torch.load(path)                  # [768]\n",
    "        all_embeddings.append(emb.unsqueeze(0)) # [1, 768]\n",
    "\n",
    "    obj_embeddings = torch.cat(all_embeddings, dim=0)  # tensor (N, 768)\n",
    "    torch.save(obj_embeddings, stacked_path)"
   ]
  },
  {
   "cell_type": "code",
   "execution_count": null,
   "id": "Lys1a3SQe9N2",
   "metadata": {
    "colab": {
     "base_uri": "https://localhost:8080/"
    },
    "executionInfo": {
     "elapsed": 579303,
     "status": "ok",
     "timestamp": 1756840255457,
     "user": {
      "displayName": "atoum",
      "userId": "13624291897930217931"
     },
     "user_tz": -120
    },
    "id": "Lys1a3SQe9N2",
    "outputId": "d5b9ac7b-45c2-4ef2-ec87-a3e7c8b4c133"
   },
   "outputs": [
    {
     "name": "stderr",
     "output_type": "stream",
     "text": [
      "100%|██████████| 7705/7705 [09:39<00:00, 13.30it/s]\n"
     ]
    }
   ],
   "source": [
    "# Docs stack path\n",
    "stacked_path = os.path.join(DATA, 'embeddings', 'dino3_stacked', 'doc_embeddings.pt')\n",
    "\n",
    "if os.path.exists(stacked_path):\n",
    "    doc_embeddings = torch.load(stacked_path)  # tensor (N, 768)\n",
    "else:\n",
    "    all_embeddings = []\n",
    "    for path in tqdm(doc_embeddings_list):\n",
    "        emb = torch.load(path)                  # [768]\n",
    "        all_embeddings.append(emb.unsqueeze(0)) # [1, 768]\n",
    "\n",
    "    doc_embeddings = torch.cat(all_embeddings, dim=0)  # tensor (N, 768)\n",
    "    torch.save(doc_embeddings, stacked_path)"
   ]
  },
  {
   "cell_type": "markdown",
   "id": "sgWoHd5PdLRU",
   "metadata": {
    "id": "sgWoHd5PdLRU"
   },
   "source": [
    "## Index Faiss"
   ]
  },
  {
   "cell_type": "code",
   "execution_count": null,
   "id": "E8HgvKdaT573",
   "metadata": {
    "colab": {
     "base_uri": "https://localhost:8080/"
    },
    "executionInfo": {
     "elapsed": 46,
     "status": "ok",
     "timestamp": 1756840255698,
     "user": {
      "displayName": "atoum",
      "userId": "13624291897930217931"
     },
     "user_tz": -120
    },
    "id": "E8HgvKdaT573",
    "outputId": "07767e47-586c-438f-9874-3f01b6818c41"
   },
   "outputs": [
    {
     "name": "stdout",
     "output_type": "stream",
     "text": [
      "torch.Size([2127, 768])\n",
      "torch.Size([7705, 768])\n"
     ]
    }
   ],
   "source": [
    "print(obj_embeddings.shape)     # torch.Size([N, 768])\n",
    "print(doc_embeddings.shape)     # torch.Size([N, 768])"
   ]
  },
  {
   "cell_type": "code",
   "execution_count": null,
   "id": "Lto_c0st22Ht",
   "metadata": {
    "id": "Lto_c0st22Ht"
   },
   "outputs": [],
   "source": [
    "dim = 768\n",
    "k = 20"
   ]
  },
  {
   "cell_type": "code",
   "execution_count": null,
   "id": "hDE4qsyUuQZz",
   "metadata": {
    "colab": {
     "base_uri": "https://localhost:8080/"
    },
    "executionInfo": {
     "elapsed": 76,
     "status": "ok",
     "timestamp": 1756840580606,
     "user": {
      "displayName": "atoum",
      "userId": "13624291897930217931"
     },
     "user_tz": -120
    },
    "id": "hDE4qsyUuQZz",
    "outputId": "df3467ab-2500-4ecb-8c3e-cfb6fcd45d68"
   },
   "outputs": [
    {
     "name": "stdout",
     "output_type": "stream",
     "text": [
      "Nombre de vecteurs dans index docs : 7705\n",
      "Nombre de vecteurs dans index obj: 2127\n"
     ]
    }
   ],
   "source": [
    "if isinstance(doc_embeddings, torch.Tensor):\n",
    "    doc_embeddings = doc_embeddings.cpu().numpy().astype(np.float32)\n",
    "if isinstance(obj_embeddings, torch.Tensor):\n",
    "    obj_embeddings = obj_embeddings.cpu().numpy().astype(np.float32)\n",
    "\n",
    "\n",
    "faiss.normalize_L2(doc_embeddings)\n",
    "faiss.normalize_L2(obj_embeddings)\n",
    "\n",
    "index_docs = faiss.IndexFlatIP(dim)\n",
    "index_objs = faiss.IndexFlatIP(dim)\n",
    "\n",
    "index_docs.add(doc_embeddings)\n",
    "index_objs.add(obj_embeddings)\n",
    "\n",
    "print(f\"Nombre de vecteurs dans index docs : {index_docs.ntotal}\")\n",
    "print(f\"Nombre de vecteurs dans index obj: {index_objs.ntotal}\")"
   ]
  },
  {
   "cell_type": "code",
   "execution_count": null,
   "id": "AxbtzOU13G8S",
   "metadata": {
    "id": "AxbtzOU13G8S"
   },
   "outputs": [],
   "source": [
    "faiss.write_index(index_objs, os.path.join(experiment_dir, \"index_objs_cosine.faiss\"))\n",
    "faiss.write_index(index_docs, os.path.join(experiment_dir, \"index_docs_cosine.faiss\"))"
   ]
  },
  {
   "cell_type": "code",
   "execution_count": null,
   "id": "hMds51-PuSJx",
   "metadata": {
    "id": "hMds51-PuSJx"
   },
   "outputs": [],
   "source": [
    "# Intra-corpus\n",
    "D_docs, I_docs = index_docs.search(doc_embeddings, k)\n",
    "D_objs, I_objs = index_objs.search(obj_embeddings, k)\n",
    "\n",
    "# Inter-corpus\n",
    "D_doc2obj, I_doc2obj = index_objs.search(doc_embeddings, k)\n",
    "D_obj2doc, I_obj2doc = index_docs.search(obj_embeddings, k)"
   ]
  },
  {
   "cell_type": "code",
   "execution_count": null,
   "id": "Squ5IEIH8sdt",
   "metadata": {
    "colab": {
     "base_uri": "https://localhost:8080/"
    },
    "executionInfo": {
     "elapsed": 5,
     "status": "ok",
     "timestamp": 1756842340800,
     "user": {
      "displayName": "atoum",
      "userId": "13624291897930217931"
     },
     "user_tz": -120
    },
    "id": "Squ5IEIH8sdt",
    "outputId": "bec49e7a-1f71-458e-a1e7-509998cdc52e"
   },
   "outputs": [
    {
     "name": "stdout",
     "output_type": "stream",
     "text": [
      "/content/drive/MyDrive/dataHN/data/processed/g-dino_obj_crops/GazetteDrouot_22972746_11_02.jpg\n"
     ]
    }
   ],
   "source": [
    "obj_filenames = [os.path.basename(filepath).split('.')[0] for filepath in obj_embeddings_list]\n",
    "doc_filenames = [os.path.basename(filepath).split('.')[0] for filepath in doc_embeddings_list]\n",
    "paths_objs = [os.path.join(obj_img_dir, f'{filename}.jpg') for filename in obj_filenames]\n",
    "paths_docs = [os.path.join(doc_img_dir, f'{filename}.jpg') for filename in doc_filenames]\n",
    "print(paths_objs[0])\n"
   ]
  },
  {
   "cell_type": "code",
   "execution_count": null,
   "id": "BNpOkyI9uTSJ",
   "metadata": {
    "executionInfo": {
     "elapsed": 5,
     "status": "ok",
     "timestamp": 1756889289143,
     "user": {
      "displayName": "atoum",
      "userId": "04283028950823516305"
     },
     "user_tz": -120
    },
    "id": "BNpOkyI9uTSJ"
   },
   "outputs": [],
   "source": [
    "\n",
    "def results_to_df(I, D, query_paths, corpus_paths, prefix=\"top\"):\n",
    "    rows = []\n",
    "    for q_idx, query_path in enumerate(query_paths):\n",
    "        row = {\"query\": os.path.basename(query_path)}  # store filename only for query\n",
    "        for rank, (idx, dist) in enumerate(zip(I[q_idx], D[q_idx])):\n",
    "            # store filename only\n",
    "            row[f\"{prefix}{rank}_path\"] = os.path.basename(corpus_paths[idx])\n",
    "            row[f\"{prefix}{rank}_score\"] = float(dist)\n",
    "        rows.append(row)\n",
    "    return pd.DataFrame(rows)\n"
   ]
  },
  {
   "cell_type": "code",
   "execution_count": null,
   "id": "_AQfVWj09vUg",
   "metadata": {
    "id": "_AQfVWj09vUg"
   },
   "outputs": [],
   "source": [
    "df_docs_docs = results_to_df(I_docs, D_docs, paths_docs, paths_docs)\n",
    "df_objs_objs = results_to_df(I_objs, D_objs, paths_objs, paths_objs)\n",
    "df_doc2obj = results_to_df(I_doc2obj, D_doc2obj, paths_docs, paths_objs)\n",
    "df_obj2doc = results_to_df(I_obj2doc, D_obj2doc, paths_objs, paths_docs)"
   ]
  },
  {
   "cell_type": "code",
   "execution_count": null,
   "id": "icP4E5fOuVVq",
   "metadata": {
    "id": "icP4E5fOuVVq"
   },
   "outputs": [],
   "source": [
    "df_docs_docs.to_csv(os.path.join(results_dir, \"docs_within_docs.csv\"), index=False)\n",
    "df_objs_objs.to_csv(os.path.join(results_dir,\"objs_within_objs.csv\"), index=False)\n",
    "df_doc2obj.to_csv(os.path.join(results_dir,\"docs_to_objs.csv\"), index=False)\n",
    "df_obj2doc.to_csv(os.path.join(results_dir,\"objs_to_docs.csv\"), index=False)"
   ]
  },
  {
   "cell_type": "markdown",
   "id": "8e2e7f60",
   "metadata": {},
   "source": [
    "# Similarité cluster test"
   ]
  },
  {
   "cell_type": "code",
   "execution_count": null,
   "id": "tmCz9GaenNfo",
   "metadata": {
    "executionInfo": {
     "elapsed": 9,
     "status": "ok",
     "timestamp": 1756887565362,
     "user": {
      "displayName": "atoum",
      "userId": "04283028950823516305"
     },
     "user_tz": -120
    },
    "id": "tmCz9GaenNfo"
   },
   "outputs": [],
   "source": [
    "cluster_json =  os.path.join(EXPERIMENTS, 'resnet_masks_cluster', 'masks_clusters.json')\n",
    "with open (cluster_json, 'r') as f:\n",
    "    dico_clusters = json.load(f)\n"
   ]
  },
  {
   "cell_type": "code",
   "execution_count": 28,
   "id": "QEt4ztNKou0y",
   "metadata": {
    "colab": {
     "base_uri": "https://localhost:8080/"
    },
    "executionInfo": {
     "elapsed": 4,
     "status": "ok",
     "timestamp": 1756887567435,
     "user": {
      "displayName": "atoum",
      "userId": "04283028950823516305"
     },
     "user_tz": -120
    },
    "id": "QEt4ztNKou0y",
    "outputId": "f5a8c165-2781-4677-866a-52c814938c7f"
   },
   "outputs": [
    {
     "data": {
      "text/plain": [
       "dict_keys(['5', '1', '6', '2', '3', '9', '0', '4', '8', '7'])"
      ]
     },
     "execution_count": 28,
     "metadata": {},
     "output_type": "execute_result"
    }
   ],
   "source": [
    "dico_clusters.keys()"
   ]
  },
  {
   "cell_type": "code",
   "execution_count": null,
   "id": "IKFommVDoqKX",
   "metadata": {
    "executionInfo": {
     "elapsed": 4,
     "status": "ok",
     "timestamp": 1756887568373,
     "user": {
      "displayName": "atoum",
      "userId": "04283028950823516305"
     },
     "user_tz": -120
    },
    "id": "IKFommVDoqKX"
   },
   "outputs": [],
   "source": [
    "cluster7= dico_clusters['7'] #le cluster de masques sam2 sélectionné pour essai."
   ]
  },
  {
   "cell_type": "code",
   "execution_count": 41,
   "id": "wkT1-juvnSiy",
   "metadata": {
    "executionInfo": {
     "elapsed": 208,
     "status": "ok",
     "timestamp": 1756888218840,
     "user": {
      "displayName": "atoum",
      "userId": "04283028950823516305"
     },
     "user_tz": -120
    },
    "id": "wkT1-juvnSiy"
   },
   "outputs": [],
   "source": [
    "obj_embeddings_cluster7 = [\n",
    "    file for file in obj_embeddings_list\n",
    "    if os.path.splitext(os.path.basename(file))[0] in cluster7\n",
    "]\n",
    "doc_embeddings_cluster7 = [\n",
    "    file for file in doc_embeddings_list\n",
    "    if os.path.splitext(os.path.basename(file))[0] in cluster7\n",
    "]"
   ]
  },
  {
   "cell_type": "code",
   "execution_count": 42,
   "id": "vj4y369YsGXM",
   "metadata": {
    "executionInfo": {
     "elapsed": 5,
     "status": "ok",
     "timestamp": 1756888224507,
     "user": {
      "displayName": "atoum",
      "userId": "04283028950823516305"
     },
     "user_tz": -120
    },
    "id": "vj4y369YsGXM"
   },
   "outputs": [],
   "source": [
    "liste_embeddings_cluster7 = obj_embeddings_cluster7 + doc_embeddings_cluster7"
   ]
  },
  {
   "cell_type": "code",
   "execution_count": 45,
   "id": "EE2JTYNorVDw",
   "metadata": {
    "colab": {
     "base_uri": "https://localhost:8080/"
    },
    "executionInfo": {
     "elapsed": 4228,
     "status": "ok",
     "timestamp": 1756888877462,
     "user": {
      "displayName": "atoum",
      "userId": "04283028950823516305"
     },
     "user_tz": -120
    },
    "id": "EE2JTYNorVDw",
    "outputId": "08a23c4e-fb17-4bcb-8846-eb88cd4d6cc3"
   },
   "outputs": [
    {
     "name": "stderr",
     "output_type": "stream",
     "text": [
      "100%|██████████| 881/881 [00:04<00:00, 211.14it/s]\n"
     ]
    }
   ],
   "source": [
    "# Images cluster stack path\n",
    "stacked_path = os.path.join(DATA, 'embeddings', 'dino3_stacked', 'cluster7_embeddings.pt')\n",
    "\n",
    "all_embeddings = []\n",
    "for path in tqdm(liste_embeddings_cluster7):\n",
    "    emb = torch.load(path)\n",
    "    all_embeddings.append(emb.unsqueeze(0))\n",
    "\n",
    "cluster7_embeddings = torch.cat(all_embeddings, dim=0)  # (N, 768)\n",
    "torch.save(cluster7_embeddings, stacked_path)"
   ]
  },
  {
   "cell_type": "code",
   "execution_count": null,
   "id": "6WDJUGqvsFC3",
   "metadata": {
    "colab": {
     "base_uri": "https://localhost:8080/"
    },
    "executionInfo": {
     "elapsed": 48,
     "status": "ok",
     "timestamp": 1756889080543,
     "user": {
      "displayName": "atoum",
      "userId": "04283028950823516305"
     },
     "user_tz": -120
    },
    "id": "6WDJUGqvsFC3",
    "outputId": "06590f08-f1e0-4e2e-8952-e73bed3b06d7"
   },
   "outputs": [
    {
     "name": "stdout",
     "output_type": "stream",
     "text": [
      "torch.Size([881, 768])\n"
     ]
    }
   ],
   "source": [
    "print(cluster7_embeddings.shape)     #([N, 768])\n"
   ]
  },
  {
   "cell_type": "code",
   "execution_count": 48,
   "id": "mgJeZYENs8GJ",
   "metadata": {
    "executionInfo": {
     "elapsed": 13,
     "status": "ok",
     "timestamp": 1756889085539,
     "user": {
      "displayName": "atoum",
      "userId": "04283028950823516305"
     },
     "user_tz": -120
    },
    "id": "mgJeZYENs8GJ"
   },
   "outputs": [],
   "source": [
    "if isinstance(cluster7_embeddings, torch.Tensor):\n",
    "    cluster7_embeddings = cluster7_embeddings.cpu().numpy().astype(np.float32)"
   ]
  },
  {
   "cell_type": "code",
   "execution_count": 49,
   "id": "I9QAaBGZwCaV",
   "metadata": {
    "executionInfo": {
     "elapsed": 128,
     "status": "ok",
     "timestamp": 1756889103821,
     "user": {
      "displayName": "atoum",
      "userId": "04283028950823516305"
     },
     "user_tz": -120
    },
    "id": "I9QAaBGZwCaV"
   },
   "outputs": [],
   "source": [
    "k = 20\n",
    "dim = 768\n",
    "\n",
    "faiss.normalize_L2(cluster7_embeddings)\n",
    "\n",
    "index_cluster7 = faiss.IndexFlatIP(dim)\n",
    "\n",
    "index_cluster7.add(cluster7_embeddings)\n",
    "\n",
    "faiss.write_index(index_cluster7, os.path.join(experiment_dir, \"index_cluster7_cosine.faiss\"))"
   ]
  },
  {
   "cell_type": "code",
   "execution_count": 51,
   "id": "ZJmjqORNwGCG",
   "metadata": {
    "executionInfo": {
     "elapsed": 33,
     "status": "ok",
     "timestamp": 1756889277722,
     "user": {
      "displayName": "atoum",
      "userId": "04283028950823516305"
     },
     "user_tz": -120
    },
    "id": "ZJmjqORNwGCG"
   },
   "outputs": [],
   "source": [
    "D_docs, I_docs = index_cluster7.search(cluster7_embeddings, k)"
   ]
  },
  {
   "cell_type": "code",
   "execution_count": null,
   "id": "QytC4_CDnUKL",
   "metadata": {
    "executionInfo": {
     "elapsed": 58326,
     "status": "ok",
     "timestamp": 1756889276035,
     "user": {
      "displayName": "atoum",
      "userId": "04283028950823516305"
     },
     "user_tz": -120
    },
    "id": "QytC4_CDnUKL"
   },
   "outputs": [],
   "source": [
    "cluster7_filenames = []   \n",
    "paths_cluster7 = []       \n",
    "\n",
    "for emb_path in liste_embeddings_cluster7:\n",
    "    fname = os.path.splitext(os.path.basename(emb_path))[0]\n",
    "    cluster7_filenames.append(fname)\n",
    "\n",
    "    obj_path = os.path.join(obj_img_dir, f\"{fname}.jpg\")\n",
    "    doc_path = os.path.join(doc_img_dir, f\"{fname}.jpg\")\n",
    "\n",
    "    if os.path.exists(obj_path):\n",
    "        paths_cluster7.append(obj_path)\n",
    "    elif os.path.exists(doc_path):\n",
    "        paths_cluster7.append(doc_path)\n",
    "\n"
   ]
  },
  {
   "cell_type": "code",
   "execution_count": 56,
   "id": "JZvmWTsWwhUE",
   "metadata": {
    "executionInfo": {
     "elapsed": 212,
     "status": "ok",
     "timestamp": 1756889380195,
     "user": {
      "displayName": "atoum",
      "userId": "04283028950823516305"
     },
     "user_tz": -120
    },
    "id": "JZvmWTsWwhUE"
   },
   "outputs": [],
   "source": [
    "df_cluster7 = results_to_df(I_docs, D_docs, paths_cluster7, paths_cluster7)"
   ]
  },
  {
   "cell_type": "code",
   "execution_count": 58,
   "id": "RXapE5GFpo89",
   "metadata": {
    "executionInfo": {
     "elapsed": 90,
     "status": "ok",
     "timestamp": 1756889610900,
     "user": {
      "displayName": "atoum",
      "userId": "04283028950823516305"
     },
     "user_tz": -120
    },
    "id": "RXapE5GFpo89"
   },
   "outputs": [],
   "source": [
    "df_cluster7.to_csv(os.path.join(results_dir, \"c7_within_c7.csv\"), index=False)"
   ]
  },
  {
   "cell_type": "markdown",
   "id": "f93ebbe9",
   "metadata": {},
   "source": [
    "# Rercherche de doublons"
   ]
  },
  {
   "cell_type": "code",
   "execution_count": null,
   "id": "9c7045d7",
   "metadata": {},
   "outputs": [],
   "source": [
    "# def index_map_tensor(output_dir, embeddings, filenames):\n",
    "\n",
    "#     d = embeddings.shape[1]  \n",
    "#     index = faiss.IndexFlatL2(d)\n",
    "\n",
    "#     all_vectors = embeddings.cpu().numpy().astype(\"float32\")\n",
    "\n",
    "#     faiss.normalize_L2(all_vectors)\n",
    "\n",
    "#     index.add(all_vectors)\n",
    "\n",
    "#     index_to_path = {i: os.path.basename(fname) for i, fname in enumerate(filenames)}\n",
    "\n",
    "#     faiss.write_index(index, os.path.join(output_dir, \"objets_vector.index\"))\n",
    "\n",
    "#     with open(os.path.join(output_dir, \"index_map_path.json\"), \"w\") as f:\n",
    "#         json.dump(index_to_path, f)\n",
    "\n",
    "#     return index, index_to_path"
   ]
  },
  {
   "cell_type": "code",
   "execution_count": null,
   "id": "7a419793",
   "metadata": {},
   "outputs": [],
   "source": [
    "# Rechercher à partir d'un index pré-calculé\n",
    "index = faiss.read_index(os.path.join(experiment_dir, \"objets_vector.index\"))\n"
   ]
  },
  {
   "cell_type": "code",
   "execution_count": null,
   "id": "5546a894",
   "metadata": {},
   "outputs": [],
   "source": [
    "all_vectors = np.stack(index.reconstruct_n(0, index.ntotal)).astype(\"float32\")\n",
    "\n",
    "k = 2 \n",
    "D, I = index.search(all_vectors, k)\n",
    "\n",
    "duplicates = []\n",
    "threshold = 1e-7  # ajuster\n",
    "\n",
    "for i in range(len(all_vectors)):\n",
    "    neighbor_idx = I[i, 1]  # premier vecteur le plus proche\n",
    "    dist = D[i, 1]\n",
    "    if dist < threshold:\n",
    "        duplicates.append((i, neighbor_idx, dist))\n"
   ]
  },
  {
   "cell_type": "code",
   "execution_count": null,
   "id": "16daa312",
   "metadata": {},
   "outputs": [
    {
     "data": {
      "application/vnd.google.colaboratory.intrinsic+json": {
       "summary": "{\n  \"name\": \"df_duplicates\",\n  \"rows\": 53,\n  \"fields\": [\n    {\n      \"column\": \"idx1\",\n      \"properties\": {\n        \"dtype\": \"number\",\n        \"std\": 556,\n        \"min\": 68,\n        \"max\": 2102,\n        \"num_unique_values\": 53,\n        \"samples\": [\n          789,\n          1540,\n          2025\n        ],\n        \"semantic_type\": \"\",\n        \"description\": \"\"\n      }\n    },\n    {\n      \"column\": \"idx2\",\n      \"properties\": {\n        \"dtype\": \"number\",\n        \"std\": 507,\n        \"min\": 440,\n        \"max\": 2102,\n        \"num_unique_values\": 26,\n        \"samples\": [\n          583,\n          1357,\n          1981\n        ],\n        \"semantic_type\": \"\",\n        \"description\": \"\"\n      }\n    },\n    {\n      \"column\": \"file1\",\n      \"properties\": {\n        \"dtype\": \"string\",\n        \"num_unique_values\": 53,\n        \"samples\": [\n          \"GazetteDrouot_21630729_04_01.pt\",\n          \"GazetteDrouot_22542436_01_01.pt\",\n          \"GazetteDrouot_21630729_01_01.pt\"\n        ],\n        \"semantic_type\": \"\",\n        \"description\": \"\"\n      }\n    },\n    {\n      \"column\": \"file2\",\n      \"properties\": {\n        \"dtype\": \"category\",\n        \"num_unique_values\": 26,\n        \"samples\": [\n          \"GazetteDrouot_17968923_01_01.pt\",\n          \"GazetteDrouot_27808358_01_01.pt\",\n          \"GazetteDrouot_5424025_04_01.pt\"\n        ],\n        \"semantic_type\": \"\",\n        \"description\": \"\"\n      }\n    },\n    {\n      \"column\": \"distance\",\n      \"properties\": {\n        \"dtype\": \"float32\",\n        \"num_unique_values\": 1,\n        \"samples\": [\n          0.0\n        ],\n        \"semantic_type\": \"\",\n        \"description\": \"\"\n      }\n    }\n  ]\n}",
       "type": "dataframe",
       "variable_name": "df_duplicates"
      },
      "text/html": [
       "\n",
       "  <div id=\"df-46f23ec8-d562-4299-a0ef-acc37f656ae6\" class=\"colab-df-container\">\n",
       "    <div>\n",
       "<style scoped>\n",
       "    .dataframe tbody tr th:only-of-type {\n",
       "        vertical-align: middle;\n",
       "    }\n",
       "\n",
       "    .dataframe tbody tr th {\n",
       "        vertical-align: top;\n",
       "    }\n",
       "\n",
       "    .dataframe thead th {\n",
       "        text-align: right;\n",
       "    }\n",
       "</style>\n",
       "<table border=\"1\" class=\"dataframe\">\n",
       "  <thead>\n",
       "    <tr style=\"text-align: right;\">\n",
       "      <th></th>\n",
       "      <th>idx1</th>\n",
       "      <th>idx2</th>\n",
       "      <th>file1</th>\n",
       "      <th>file2</th>\n",
       "      <th>distance</th>\n",
       "    </tr>\n",
       "  </thead>\n",
       "  <tbody>\n",
       "    <tr>\n",
       "      <th>0</th>\n",
       "      <td>68</td>\n",
       "      <td>1981</td>\n",
       "      <td>GazetteDrouot_5424025_05_01.pt</td>\n",
       "      <td>GazetteDrouot_5424025_04_01.pt</td>\n",
       "      <td>0.0</td>\n",
       "    </tr>\n",
       "    <tr>\n",
       "      <th>1</th>\n",
       "      <td>95</td>\n",
       "      <td>1013</td>\n",
       "      <td>GazetteDrouot_15511693_01_01.pt</td>\n",
       "      <td>GazetteDrouot_16465688_01_01.pt</td>\n",
       "      <td>0.0</td>\n",
       "    </tr>\n",
       "    <tr>\n",
       "      <th>2</th>\n",
       "      <td>206</td>\n",
       "      <td>440</td>\n",
       "      <td>GazetteDrouot_21001152_03_01.pt</td>\n",
       "      <td>GazetteDrouot_17968923_03_01.pt</td>\n",
       "      <td>0.0</td>\n",
       "    </tr>\n",
       "    <tr>\n",
       "      <th>3</th>\n",
       "      <td>306</td>\n",
       "      <td>872</td>\n",
       "      <td>Christies_2021-09-30_296_01_02.pt</td>\n",
       "      <td>Christies_2021-09-30_296_03_02.pt</td>\n",
       "      <td>0.0</td>\n",
       "    </tr>\n",
       "    <tr>\n",
       "      <th>4</th>\n",
       "      <td>409</td>\n",
       "      <td>1077</td>\n",
       "      <td>GazetteDrouot_18793404_01_01.pt</td>\n",
       "      <td>GazetteDrouot_17582345_01_01.pt</td>\n",
       "      <td>0.0</td>\n",
       "    </tr>\n",
       "  </tbody>\n",
       "</table>\n",
       "</div>\n",
       "    <div class=\"colab-df-buttons\">\n",
       "\n",
       "  <div class=\"colab-df-container\">\n",
       "    <button class=\"colab-df-convert\" onclick=\"convertToInteractive('df-46f23ec8-d562-4299-a0ef-acc37f656ae6')\"\n",
       "            title=\"Convert this dataframe to an interactive table.\"\n",
       "            style=\"display:none;\">\n",
       "\n",
       "  <svg xmlns=\"http://www.w3.org/2000/svg\" height=\"24px\" viewBox=\"0 -960 960 960\">\n",
       "    <path d=\"M120-120v-720h720v720H120Zm60-500h600v-160H180v160Zm220 220h160v-160H400v160Zm0 220h160v-160H400v160ZM180-400h160v-160H180v160Zm440 0h160v-160H620v160ZM180-180h160v-160H180v160Zm440 0h160v-160H620v160Z\"/>\n",
       "  </svg>\n",
       "    </button>\n",
       "\n",
       "  <style>\n",
       "    .colab-df-container {\n",
       "      display:flex;\n",
       "      gap: 12px;\n",
       "    }\n",
       "\n",
       "    .colab-df-convert {\n",
       "      background-color: #E8F0FE;\n",
       "      border: none;\n",
       "      border-radius: 50%;\n",
       "      cursor: pointer;\n",
       "      display: none;\n",
       "      fill: #1967D2;\n",
       "      height: 32px;\n",
       "      padding: 0 0 0 0;\n",
       "      width: 32px;\n",
       "    }\n",
       "\n",
       "    .colab-df-convert:hover {\n",
       "      background-color: #E2EBFA;\n",
       "      box-shadow: 0px 1px 2px rgba(60, 64, 67, 0.3), 0px 1px 3px 1px rgba(60, 64, 67, 0.15);\n",
       "      fill: #174EA6;\n",
       "    }\n",
       "\n",
       "    .colab-df-buttons div {\n",
       "      margin-bottom: 4px;\n",
       "    }\n",
       "\n",
       "    [theme=dark] .colab-df-convert {\n",
       "      background-color: #3B4455;\n",
       "      fill: #D2E3FC;\n",
       "    }\n",
       "\n",
       "    [theme=dark] .colab-df-convert:hover {\n",
       "      background-color: #434B5C;\n",
       "      box-shadow: 0px 1px 3px 1px rgba(0, 0, 0, 0.15);\n",
       "      filter: drop-shadow(0px 1px 2px rgba(0, 0, 0, 0.3));\n",
       "      fill: #FFFFFF;\n",
       "    }\n",
       "  </style>\n",
       "\n",
       "    <script>\n",
       "      const buttonEl =\n",
       "        document.querySelector('#df-46f23ec8-d562-4299-a0ef-acc37f656ae6 button.colab-df-convert');\n",
       "      buttonEl.style.display =\n",
       "        google.colab.kernel.accessAllowed ? 'block' : 'none';\n",
       "\n",
       "      async function convertToInteractive(key) {\n",
       "        const element = document.querySelector('#df-46f23ec8-d562-4299-a0ef-acc37f656ae6');\n",
       "        const dataTable =\n",
       "          await google.colab.kernel.invokeFunction('convertToInteractive',\n",
       "                                                    [key], {});\n",
       "        if (!dataTable) return;\n",
       "\n",
       "        const docLinkHtml = 'Like what you see? Visit the ' +\n",
       "          '<a target=\"_blank\" href=https://colab.research.google.com/notebooks/data_table.ipynb>data table notebook</a>'\n",
       "          + ' to learn more about interactive tables.';\n",
       "        element.innerHTML = '';\n",
       "        dataTable['output_type'] = 'display_data';\n",
       "        await google.colab.output.renderOutput(dataTable, element);\n",
       "        const docLink = document.createElement('div');\n",
       "        docLink.innerHTML = docLinkHtml;\n",
       "        element.appendChild(docLink);\n",
       "      }\n",
       "    </script>\n",
       "  </div>\n",
       "\n",
       "\n",
       "    <div id=\"df-6e01d154-0e11-4235-bab7-31e5d03c0033\">\n",
       "      <button class=\"colab-df-quickchart\" onclick=\"quickchart('df-6e01d154-0e11-4235-bab7-31e5d03c0033')\"\n",
       "                title=\"Suggest charts\"\n",
       "                style=\"display:none;\">\n",
       "\n",
       "<svg xmlns=\"http://www.w3.org/2000/svg\" height=\"24px\"viewBox=\"0 0 24 24\"\n",
       "     width=\"24px\">\n",
       "    <g>\n",
       "        <path d=\"M19 3H5c-1.1 0-2 .9-2 2v14c0 1.1.9 2 2 2h14c1.1 0 2-.9 2-2V5c0-1.1-.9-2-2-2zM9 17H7v-7h2v7zm4 0h-2V7h2v10zm4 0h-2v-4h2v4z\"/>\n",
       "    </g>\n",
       "</svg>\n",
       "      </button>\n",
       "\n",
       "<style>\n",
       "  .colab-df-quickchart {\n",
       "      --bg-color: #E8F0FE;\n",
       "      --fill-color: #1967D2;\n",
       "      --hover-bg-color: #E2EBFA;\n",
       "      --hover-fill-color: #174EA6;\n",
       "      --disabled-fill-color: #AAA;\n",
       "      --disabled-bg-color: #DDD;\n",
       "  }\n",
       "\n",
       "  [theme=dark] .colab-df-quickchart {\n",
       "      --bg-color: #3B4455;\n",
       "      --fill-color: #D2E3FC;\n",
       "      --hover-bg-color: #434B5C;\n",
       "      --hover-fill-color: #FFFFFF;\n",
       "      --disabled-bg-color: #3B4455;\n",
       "      --disabled-fill-color: #666;\n",
       "  }\n",
       "\n",
       "  .colab-df-quickchart {\n",
       "    background-color: var(--bg-color);\n",
       "    border: none;\n",
       "    border-radius: 50%;\n",
       "    cursor: pointer;\n",
       "    display: none;\n",
       "    fill: var(--fill-color);\n",
       "    height: 32px;\n",
       "    padding: 0;\n",
       "    width: 32px;\n",
       "  }\n",
       "\n",
       "  .colab-df-quickchart:hover {\n",
       "    background-color: var(--hover-bg-color);\n",
       "    box-shadow: 0 1px 2px rgba(60, 64, 67, 0.3), 0 1px 3px 1px rgba(60, 64, 67, 0.15);\n",
       "    fill: var(--button-hover-fill-color);\n",
       "  }\n",
       "\n",
       "  .colab-df-quickchart-complete:disabled,\n",
       "  .colab-df-quickchart-complete:disabled:hover {\n",
       "    background-color: var(--disabled-bg-color);\n",
       "    fill: var(--disabled-fill-color);\n",
       "    box-shadow: none;\n",
       "  }\n",
       "\n",
       "  .colab-df-spinner {\n",
       "    border: 2px solid var(--fill-color);\n",
       "    border-color: transparent;\n",
       "    border-bottom-color: var(--fill-color);\n",
       "    animation:\n",
       "      spin 1s steps(1) infinite;\n",
       "  }\n",
       "\n",
       "  @keyframes spin {\n",
       "    0% {\n",
       "      border-color: transparent;\n",
       "      border-bottom-color: var(--fill-color);\n",
       "      border-left-color: var(--fill-color);\n",
       "    }\n",
       "    20% {\n",
       "      border-color: transparent;\n",
       "      border-left-color: var(--fill-color);\n",
       "      border-top-color: var(--fill-color);\n",
       "    }\n",
       "    30% {\n",
       "      border-color: transparent;\n",
       "      border-left-color: var(--fill-color);\n",
       "      border-top-color: var(--fill-color);\n",
       "      border-right-color: var(--fill-color);\n",
       "    }\n",
       "    40% {\n",
       "      border-color: transparent;\n",
       "      border-right-color: var(--fill-color);\n",
       "      border-top-color: var(--fill-color);\n",
       "    }\n",
       "    60% {\n",
       "      border-color: transparent;\n",
       "      border-right-color: var(--fill-color);\n",
       "    }\n",
       "    80% {\n",
       "      border-color: transparent;\n",
       "      border-right-color: var(--fill-color);\n",
       "      border-bottom-color: var(--fill-color);\n",
       "    }\n",
       "    90% {\n",
       "      border-color: transparent;\n",
       "      border-bottom-color: var(--fill-color);\n",
       "    }\n",
       "  }\n",
       "</style>\n",
       "\n",
       "      <script>\n",
       "        async function quickchart(key) {\n",
       "          const quickchartButtonEl =\n",
       "            document.querySelector('#' + key + ' button');\n",
       "          quickchartButtonEl.disabled = true;  // To prevent multiple clicks.\n",
       "          quickchartButtonEl.classList.add('colab-df-spinner');\n",
       "          try {\n",
       "            const charts = await google.colab.kernel.invokeFunction(\n",
       "                'suggestCharts', [key], {});\n",
       "          } catch (error) {\n",
       "            console.error('Error during call to suggestCharts:', error);\n",
       "          }\n",
       "          quickchartButtonEl.classList.remove('colab-df-spinner');\n",
       "          quickchartButtonEl.classList.add('colab-df-quickchart-complete');\n",
       "        }\n",
       "        (() => {\n",
       "          let quickchartButtonEl =\n",
       "            document.querySelector('#df-6e01d154-0e11-4235-bab7-31e5d03c0033 button');\n",
       "          quickchartButtonEl.style.display =\n",
       "            google.colab.kernel.accessAllowed ? 'block' : 'none';\n",
       "        })();\n",
       "      </script>\n",
       "    </div>\n",
       "\n",
       "    </div>\n",
       "  </div>\n"
      ],
      "text/plain": [
       "   idx1  idx2                              file1  \\\n",
       "0    68  1981     GazetteDrouot_5424025_05_01.pt   \n",
       "1    95  1013    GazetteDrouot_15511693_01_01.pt   \n",
       "2   206   440    GazetteDrouot_21001152_03_01.pt   \n",
       "3   306   872  Christies_2021-09-30_296_01_02.pt   \n",
       "4   409  1077    GazetteDrouot_18793404_01_01.pt   \n",
       "\n",
       "                               file2  distance  \n",
       "0     GazetteDrouot_5424025_04_01.pt       0.0  \n",
       "1    GazetteDrouot_16465688_01_01.pt       0.0  \n",
       "2    GazetteDrouot_17968923_03_01.pt       0.0  \n",
       "3  Christies_2021-09-30_296_03_02.pt       0.0  \n",
       "4    GazetteDrouot_17582345_01_01.pt       0.0  "
      ]
     },
     "metadata": {},
     "output_type": "display_data"
    }
   ],
   "source": [
    "# Retrouver les noms de fichiers avec un mapping json pré-calculé\n",
    "with open(os.path.join(experiment_dir, \"index_map_path.json\"), 'r') as f:\n",
    "    index_to_path = json.load(f)\n",
    "\n",
    "duplicates_data = []\n",
    "\n",
    "for i, j, dist in duplicates:\n",
    "    file_i = os.path.basename(index_to_path[str(i)])\n",
    "    file_j = os.path.basename(index_to_path[str(j)])\n",
    "    duplicates_data.append({\n",
    "        \"idx1\": i,\n",
    "        \"idx2\": j,\n",
    "        \"file1\": file_i,\n",
    "        \"file2\": file_j,\n",
    "        \"distance\": dist\n",
    "    })\n",
    "\n",
    "df_duplicates = pd.DataFrame(duplicates_data)\n",
    "\n",
    "df_duplicates.to_csv(os.path.join(experiment_dir, \"duplicates.csv\"), index=False)\n",
    "\n",
    "df_duplicates.head()"
   ]
  }
 ],
 "metadata": {
  "colab": {
   "provenance": []
  },
  "kernelspec": {
   "display_name": "Python 3",
   "name": "python3"
  },
  "language_info": {
   "name": "python"
  }
 },
 "nbformat": 4,
 "nbformat_minor": 5
}
