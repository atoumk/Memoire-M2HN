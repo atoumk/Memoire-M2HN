{
 "cells": [
  {
   "cell_type": "code",
   "execution_count": null,
   "id": "121c7484",
   "metadata": {},
   "outputs": [],
   "source": [
    "import requests\n",
    "import os\n",
    "from tqdm import tqdm\n",
    "import time\n",
    "import random\n",
    "import json\n",
    "from pathlib import Path\n",
    "import sys"
   ]
  },
  {
   "cell_type": "code",
   "execution_count": 6,
   "id": "9b04aca0",
   "metadata": {},
   "outputs": [],
   "source": [
    "src = str(Path.cwd().resolve().parents[1]/ 'src')\n",
    "sys.path.append(src)\n",
    "from config.paths import ROOT, DATA, EXPERIMENTS\n"
   ]
  },
  {
   "cell_type": "code",
   "execution_count": 7,
   "id": "135a5c18",
   "metadata": {},
   "outputs": [],
   "source": [
    "data_folder = os.path.join(DATA, 'raw_collected', 'docs')"
   ]
  },
  {
   "cell_type": "markdown",
   "id": "39424276",
   "metadata": {},
   "source": [
    "# Fonctions générales"
   ]
  },
  {
   "cell_type": "code",
   "execution_count": null,
   "id": "6111a110",
   "metadata": {},
   "outputs": [],
   "source": [
    "\n",
    "def get_manifest(manifest_url) : \n",
    "    result = requests.get(manifest_url)\n",
    "    if result.status_code != 200:\n",
    "        print('Erreur')\n",
    "        exit()\n",
    "\n",
    "    manifest = result.json()\n",
    "    return manifest\n",
    "\n",
    "def get_list_images(manifest) : # BNF et INHA\n",
    "    image_urls = []\n",
    "    for canvas in manifest.get('sequences', [])[0].get('canvases', []):\n",
    "        images = canvas.get('images', [])\n",
    "        for image in images:\n",
    "            resource = image.get('resource', {})\n",
    "            if resource.get('@id'):\n",
    "                image_urls.append(resource['@id'])\n",
    "    return image_urls\n",
    "\n",
    "\n",
    "\n",
    "def save_images(image_urls, doc_id, data_folder, timer) :\n",
    "    headers = {\n",
    "            \"User-Agent\": \"Mozilla/5.0 (Windows NT 10.0; Win64; x64) AppleWebKit/537.36 (KHTML, like Gecko) Chrome/88.0.4324.150 Safari/537.36\"\n",
    "        }\n",
    "    num_digits = len(str(len(image_urls)))  # 3 pour 100 images, 4 pour 1000, etc.\n",
    "    print (doc_id, data_folder)\n",
    "    target_dir = os.path.join(data_folder, doc_id)\n",
    "    os.makedirs(target_dir, exist_ok=True)\n",
    "    \n",
    "    for id, url in enumerate(tqdm(image_urls)):\n",
    "        try:\n",
    "            img_data = requests.get(url).content\n",
    "            filename = f\"{doc_id}_{id + 1:0{num_digits}}.jpg\"\n",
    "            output_file = os.path.join(target_dir, filename)\n",
    "            with open(output_file, \"wb\") as img_file:\n",
    "                img_file.write(img_data)\n",
    "            \n",
    "            time.sleep(random.uniform(timer, timer+5))\n",
    "            print(f\"Page {id + 1}/{len(image_urls)}\")\n",
    "        except Exception as e:\n",
    "            print(f\"Error downloading image {id + 1}: {e}\")\n",
    "\n",
    "\n",
    "def main(manifest_url, doc_id, data_folder, timer) :\n",
    "    manifest = get_manifest(manifest_url)\n",
    "    image_urls = get_list_images(manifest)\n",
    "    save_images(image_urls, doc_id, data_folder, timer)\n"
   ]
  },
  {
   "cell_type": "code",
   "execution_count": null,
   "id": "3115c6b7",
   "metadata": {},
   "outputs": [],
   "source": [
    "def save_img (url_img, output_dir, object_id) :\n",
    "\n",
    "    folder_name = os.path.basename(output_dir)\n",
    "    img_data = requests.get(url_img).content\n",
    "    img_dir = 'img'\n",
    "    img_dir_path = os.path.join(output_dir, img_dir)\n",
    "    os.makedirs(img_dir_path, exist_ok=True) \n",
    "\n",
    "    output_file = os.path.join(img_dir_path, f\"{folder_name}_{object_id}.jpg\")    \n",
    "    with open(output_file, 'wb') as f : \n",
    "        f.write(img_data)\n",
    "    return output_file"
   ]
  },
  {
   "cell_type": "code",
   "execution_count": null,
   "id": "3ce1f0c9",
   "metadata": {},
   "outputs": [],
   "source": [
    "# En cas de téléchargement interrompu\n",
    "def save_images_resume(image_urls, doc_id, data_folder, timer, resume_id) :\n",
    "    headers = {\n",
    "            \"User-Agent\": \"Mozilla/5.0 (Windows NT 10.0; Win64; x64) AppleWebKit/537.36 (KHTML, like Gecko) Chrome/88.0.4324.150 Safari/537.36\"\n",
    "        }\n",
    "    num_digits = len(str(len(image_urls)))  # 3 pour 100 images, 4 pour 1000, etc.\n",
    "    print (doc_id, data_folder)\n",
    "    target_dir = os.path.join(data_folder, doc_id)\n",
    "    os.makedirs(target_dir, exist_ok=True)\n",
    "    \n",
    "    for id, url in enumerate(tqdm(image_urls)):\n",
    "        if id > resume_id : \n",
    "            try:\n",
    "                img_data = requests.get(url).content\n",
    "                filename = f\"{doc_id}_{id + 1:0{num_digits}}.jpg\"\n",
    "                output_file = os.path.join(target_dir, filename)\n",
    "                with open(output_file, \"wb\") as img_file:\n",
    "                    img_file.write(img_data)\n",
    "                \n",
    "                time.sleep(timer)\n",
    "                print(f\"Page {id + 1}/{len(image_urls)}\")\n",
    "            except Exception as e:\n",
    "                print(f\"Error downloading image {id + 1}: {e}\")\n",
    "\n",
    "\n",
    "def main_resume(manifest_url, doc_id, data_folder, timer, resume_id) :\n",
    "    manifest = get_manifest(manifest_url)\n",
    "    image_urls = get_list_images(manifest)\n",
    "    save_images_resume(image_urls, doc_id, data_folder, timer, resume_id=resume_id)"
   ]
  },
  {
   "cell_type": "code",
   "execution_count": null,
   "id": "1ab2dedd",
   "metadata": {},
   "outputs": [],
   "source": [
    "# #BNF\n",
    "# manifest_url = 'https://gallica.bnf.fr/iiif/ark:/12148/bpt6k96921155/manifest.json'\n",
    "# timer = 15\n",
    "# doc_id = 'Jacquemart_1866'\n",
    "# main(manifest_url, doc_id, data_folder, timer)"
   ]
  },
  {
   "cell_type": "code",
   "execution_count": null,
   "id": "d7eb1825",
   "metadata": {},
   "outputs": [],
   "source": [
    "# #BNF\n",
    "# manifest_url = 'https://gallica.bnf.fr/iiif//ark:/12148/bpt6k6539348w/manifest.json'\n",
    "# doc_id = 'Ziegler_1850'\n",
    "# timer = 15\n",
    "# main(manifest_url, doc_id, data_folder, timer)"
   ]
  },
  {
   "cell_type": "code",
   "execution_count": null,
   "id": "85468cae",
   "metadata": {},
   "outputs": [],
   "source": []
  },
  {
   "cell_type": "markdown",
   "id": "8df1dbe5",
   "metadata": {},
   "source": [
    "### INHA"
   ]
  },
  {
   "cell_type": "code",
   "execution_count": null,
   "id": "950890bb",
   "metadata": {},
   "outputs": [],
   "source": [
    "# manifest_url = 'https://bibliotheque-numerique.inha.fr/iiif/4994/manifest'\t\n",
    "# doc_id = 'Blanc_1882'\n",
    "\n",
    "# timer = 10\n",
    "# main(manifest_url, doc_id, data_folder=data_folder, timer=10)"
   ]
  },
  {
   "cell_type": "markdown",
   "id": "f68081a7",
   "metadata": {},
   "source": [
    "# Internet Archive"
   ]
  },
  {
   "cell_type": "code",
   "execution_count": null,
   "id": "3716f37b",
   "metadata": {},
   "outputs": [],
   "source": [
    "def get_list_images_IA(manifest) :\n",
    "    list_img_url = []\n",
    "    list_items = manifest.get('items')\n",
    "    for item in list_items : \n",
    "        img_url = (item.get('items',[])[0]\n",
    "                .get('items', [])[0]\n",
    "                .get('body', {})\n",
    "                .get('id')\n",
    "                )\n",
    "        list_img_url.append(img_url)\n",
    "\n",
    "    return list_img_url"
   ]
  },
  {
   "cell_type": "code",
   "execution_count": null,
   "id": "491fee95",
   "metadata": {},
   "outputs": [],
   "source": [
    "timer=10\n",
    "save_images_resume(liste, 'Soldi_1881', data_folder, timer, resume_id = 225)"
   ]
  },
  {
   "cell_type": "code",
   "execution_count": null,
   "id": "6a9a0f1a",
   "metadata": {},
   "outputs": [],
   "source": [
    "#IA\n",
    "manifest_url = 'https://iiif.archive.org/iiif/3/descriptivecatal00fort/manifest.json'\n",
    "doc_id = 'Drury-Fortnum_1873'\n",
    "manifest=get_manifest(manifest_url)\n",
    "liste = get_list_images_IA(manifest)\n",
    "save_images(liste, doc_id, data_folder, timer)"
   ]
  },
  {
   "cell_type": "code",
   "execution_count": null,
   "id": "22f4c20a",
   "metadata": {},
   "outputs": [],
   "source": [
    "# #IA\n",
    "# manifest_url = 'https://iiif.archive.org/iiif/3/gri_33125015600774/manifest.json'\n",
    "# doc_id = 'DupontAuberville_1870'\n",
    "# manifest=get_manifest(manifest_url)\n",
    "# liste = get_list_images_IA(manifest)\n",
    "\n",
    "\n",
    "# timer=10\n",
    "# data_folder = '/Users/UserE/data/HN_Memoire/corpus_data/docs'\n",
    "# save_images_resume(liste, doc_id, data_folder, timer, resume_id = 445)\n",
    "\n",
    "\n"
   ]
  },
  {
   "cell_type": "code",
   "execution_count": null,
   "id": "f83781c0",
   "metadata": {},
   "outputs": [],
   "source": [
    "#IA\n",
    "# manifest_url = 'https://iiif.archive.org/iiif/3/albumofnineteent00unse/manifest.json'\n",
    "# doc_id = 'Dresser_1862'\n",
    "# manifest=get_manifest(manifest_url)\n",
    "# liste = get_list_images_IA(manifest)\n",
    "# save_images(liste, doc_id, data_folder, timer)"
   ]
  },
  {
   "cell_type": "code",
   "execution_count": null,
   "id": "9330c426",
   "metadata": {},
   "outputs": [],
   "source": [
    "#IA\n",
    "manifest_url = 'https://iiif.archive.org/iiif/3/S0001966/manifest.json'\n",
    "doc_id = 'Redgrave_1876'\n",
    "manifest=get_manifest(manifest_url)\n",
    "liste = get_list_images_IA(manifest)\n",
    "save_images_resume(liste, doc_id, data_folder, timer, 28)"
   ]
  },
  {
   "cell_type": "code",
   "execution_count": null,
   "id": "f8a61a6e",
   "metadata": {},
   "outputs": [],
   "source": [
    "#IA\n",
    "manifest_url = 'https://iiif.archive.org/iiif/3/gri_33125008545499/manifest.json'\n",
    "doc_id = 'Murphy-Horne_1815'\n",
    "manifest=get_manifest(manifest_url)\n",
    "liste = get_list_images_IA(manifest)\n",
    "save_images_resume(liste, doc_id, data_folder, timer, resume_id = 152)\n"
   ]
  },
  {
   "cell_type": "markdown",
   "id": "e7312077",
   "metadata": {},
   "source": [
    "# MAD"
   ]
  },
  {
   "cell_type": "code",
   "execution_count": null,
   "id": "c83b3e08",
   "metadata": {},
   "outputs": [],
   "source": [
    "def get_list_images_mad(url, doc_id, nb_page, num_digits) :\n",
    "    list_img_url = []\n",
    "\n",
    "    for i in range(nb_page) : \n",
    "        page_id = f\"{i+1:0{num_digits}}\"\n",
    "        #img_url = f\"{url}{doc_id}/{doc_id}_{page_id}_D.jpg\"\n",
    "        img_url = f\"{url}/{doc_id[:-1].upper()}/LEC/{doc_id}{page_id}_l.jpg\"\n",
    "    \n",
    "        list_img_url.append(img_url)\n",
    "        \n",
    "    return list_img_url"
   ]
  },
  {
   "cell_type": "code",
   "execution_count": null,
   "id": "4cbbf297",
   "metadata": {},
   "outputs": [],
   "source": [
    "def save_images_mad(image_urls, doc_id, data_folder, timer) :\n",
    "    headers = {\n",
    "            \"User-Agent\": \"Mozilla/5.0 (Windows NT 10.0; Win64; x64) AppleWebKit/537.36 (KHTML, like Gecko) Chrome/88.0.4324.150 Safari/537.36\"\n",
    "        }\n",
    "\n",
    "    num_digits = len(str(len(image_urls)))  # 3 pour 100 images, 4 pour 1000, etc.\n",
    "    print (doc_id, data_folder)\n",
    "    target_dir = os.path.join(data_folder, doc_id)\n",
    "    os.makedirs(target_dir, exist_ok=True)\n",
    "    for id, url in enumerate(tqdm(image_urls)):\n",
    "        try:\n",
    "            img_data = requests.get(url, headers=headers).content\n",
    "            filename = f\"{doc_id}_{id + 1:0{num_digits}}.jpg\"\n",
    "            output_file = os.path.join(target_dir, filename)\n",
    "            with open(output_file, \"wb\") as img_file:\n",
    "                img_file.write(img_data)\n",
    "            \n",
    "            time.sleep(timer)\n",
    "            print(f\"Page {id + 1}/{len(image_urls)}\")\n",
    "        except Exception as e:\n",
    "            print(f\"Error downloading image {id + 1}: {e}\")\n"
   ]
  },
  {
   "cell_type": "code",
   "execution_count": null,
   "id": "2809c884",
   "metadata": {},
   "outputs": [],
   "source": [
    "list_images = get_list_images_mad('https://img01.decalog.net/decalog_images/numerisation_maciet', 'm5053ma_232x01x', 71, 4)\n",
    "doc_id = 'Maciet_232-1'\n",
    "timer = 15\n",
    "data_folder = '/Users/UserE/data/HN_Memoire/corpus_data/docs'\n",
    "save_images_mad(list_images, doc_id, data_folder, timer)"
   ]
  },
  {
   "cell_type": "code",
   "execution_count": null,
   "id": "bf05be67",
   "metadata": {},
   "outputs": [],
   "source": [
    "doc_id = 'Racinet_1885'\n",
    "timer = 15\n",
    "data_folder = '/Users/UserE/data/HN_Memoire/corpus_data/docs'\n",
    "save_images_mad(list_images, doc_id, data_folder, timer)"
   ]
  },
  {
   "cell_type": "markdown",
   "id": "f873de90",
   "metadata": {},
   "source": [
    "# Qatar library"
   ]
  },
  {
   "cell_type": "code",
   "execution_count": null,
   "id": "0a234650",
   "metadata": {},
   "outputs": [],
   "source": [
    "with open('/Users/UserE/Desktop/temp/manifest_qatar.js', encoding='UTF-8') as f :\n",
    "    manifest = json.load(f)\n",
    "manifest \n",
    "debut = 'https://iiif.qdl.qa/iiif/images/qnlhc/14760/4940_Page_001.jp2/full/,1200/0/default.jpg'\n",
    "fin = 'https://iiif.qdl.qa/iiif/images/qnlhc/14760/4940_Page_150.jp2/full/,1200/0/default.jpg'\n",
    "https://iiif.qdl.qa/iiif/images/qnlhc/14760/4940_Page_115.jp2/0,0,1000,1000/1000,/0/default.jpg\n",
    "\n",
    "manifest_loc = 'https://www.loc.gov/item/2021666969/manifest.json'\n",
    "manifest_loc = get_manifest('https://www.loc.gov/item/2021666969/manifest.json')\n",
    "get_list_images(manifest_loc)\n",
    "liste_liens = []\n",
    "for i in range(150) : \n",
    "    lien = f'https://tile.loc.gov/image-services/iiif/service:gdc:gdcwdl:wd:l_:14:76:0_:00:2:wdl_14760_002:4940_Page_{i+1:03}/full/pct:50/0/default.jpg'\n",
    "    liste_liens.append(lien)\n",
    "\n",
    "timer = 15\n",
    "data_folder = '/Users/UserE/data/HN_Memoire/corpus_data/docs'\n",
    "save_images(liste_liens, doc_id='PrissedAvennes_1877B', data_folder=data_folder, timer=timer)"
   ]
  }
 ],
 "metadata": {
  "kernelspec": {
   "display_name": "acquisition",
   "language": "python",
   "name": "python3"
  },
  "language_info": {
   "codemirror_mode": {
    "name": "ipython",
    "version": 3
   },
   "file_extension": ".py",
   "mimetype": "text/x-python",
   "name": "python",
   "nbconvert_exporter": "python",
   "pygments_lexer": "ipython3",
   "version": "3.10.18"
  }
 },
 "nbformat": 4,
 "nbformat_minor": 5
}
